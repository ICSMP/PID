{
  "nbformat": 4,
  "nbformat_minor": 0,
  "metadata": {
    "colab": {
      "name": "Permeabilidade.ipynb",
      "provenance": [],
      "collapsed_sections": [
        "-c1rH-TT8PIW"
      ],
      "toc_visible": true,
      "authorship_tag": "ABX9TyOo4HFc2zjMJdwC//189xHw",
      "include_colab_link": true
    },
    "kernelspec": {
      "name": "python3",
      "display_name": "Python 3"
    },
    "accelerator": "GPU"
  },
  "cells": [
    {
      "cell_type": "markdown",
      "metadata": {
        "id": "view-in-github",
        "colab_type": "text"
      },
      "source": [
        "<a href=\"https://colab.research.google.com/github/ravellys/PID-1/blob/master/Permeabilidade.ipynb\" target=\"_parent\"><img src=\"https://colab.research.google.com/assets/colab-badge.svg\" alt=\"Open In Colab\"/></a>"
      ]
    },
    {
      "cell_type": "markdown",
      "metadata": {
        "id": "v9v-dc44op_C",
        "colab_type": "text"
      },
      "source": [
        "# ESTIMATIVA DA PERMEABILIDADE POR MODELOS DE REDES DE POROS\n",
        "\n",
        "> Bloco com recuo\n",
        "\n"
      ]
    },
    {
      "cell_type": "markdown",
      "metadata": {
        "id": "YvUN_p2eqLkW",
        "colab_type": "text"
      },
      "source": [
        "O presente projeto tem como objetivo estimar a permeabilidade de rochas reservatório a partir de Modelos de rede de poros (**Pore Network Models, PNM**). Para tanto foi utilizado as bibliotecas de Python PoreSpy e OpenPNM desenvolvidas pelo grupo Porous Materials Engineering & Analysis Lab ( [**PMEAL**](https://pmeal.com) )"
      ]
    },
    {
      "cell_type": "markdown",
      "metadata": {
        "id": "rqIrBqld5wY5",
        "colab_type": "text"
      },
      "source": [
        "# Bibliotecas **PoreSpy** e **OpenPNM**"
      ]
    },
    {
      "cell_type": "markdown",
      "metadata": {
        "id": "mnd_YeZNX0wG",
        "colab_type": "text"
      },
      "source": [
        "#  [PoreSpy](http://porespy.org/)\n",
        "O PoreSpy é uma coleção de ferramentas de análise de imagens usadas para extrair informações de imagens 3D de materiais porosos (normalmente obtidas na tomografia de raios X). \n",
        "\n",
        "Recursos oferecidos pelo PoreSpy:\n",
        "\n",
        "1. **generators**: rotinas para gerar imagens artificiais de materiais porosos úteis para testes e ilustrações\n",
        "2. **filters**: funções que aceitam uma imagem e retornam uma imagem alterada\n",
        "3. **Metrics**: Ferramentas para quantificar propriedades de imagens\n",
        "4. **networks**: Ferramentas para analisar imagens como redes de poros\n",
        "5. **visualization**: Funções auxiliares para criar visualizações úteis da imagem\n",
        "6. **io**: Funções para saída de dados de imagem em vários formatos para uso em software comum\n",
        "7. **tools**: Várias ferramentas úteis para trabalhar com imagens"
      ]
    },
    {
      "cell_type": "markdown",
      "metadata": {
        "id": "Dzf7KvhTtQR9",
        "colab_type": "text"
      },
      "source": [
        "# [OpenPNM](http://openpnm.org/)\n",
        "\n",
        "\n",
        "O OpenPNM é um pacote de modelagem de rede de poros de código aberto, escrito em Python. Ele foi projetado para ser totalmente independente da topologia e dimensionalidade da rede, usando representações da teoria dos grafos para descrever a arquitetura. Ele também é projetado para ser **personalizado**.Inclui também um amplo conjunto de algoritmos de **percolação e transporte**, fornecendo um pacote completo para uma ampla variedade de tarefas de **simulação em escala de poros**.\n",
        "\n",
        "Classes para simulações de transporte em redes de poros:\n",
        "\n",
        "Generic Classes \n",
        "*  GenericAlgorithm\n",
        "*  GenericTransport\n",
        "*  ReactiveTransport\n",
        "*  TransientReactiveTransport\n",
        "\n",
        "Percolation Classes\n",
        "*  OrdinaryPercolation\n",
        "*  Porosimetria\n",
        "*  InvasionPercolation\n",
        "*  MixedInvasionPercolation\n",
        "\n",
        "Classes de transporte\n",
        "*  FickianDiffusion\n",
        "*  FourierConduction\n",
        "*  OhmicConduction\n",
        "*  StokesFlow\n",
        "*  AdvectionDiffusion\n"
      ]
    },
    {
      "cell_type": "code",
      "metadata": {
        "id": "b1OZb-64MSMX",
        "colab_type": "code",
        "colab": {}
      },
      "source": [
        "# Instalação \n",
        "%%capture\n",
        "!pip install porespy\n",
        "!pip install openpnm"
      ],
      "execution_count": 2,
      "outputs": []
    },
    {
      "cell_type": "markdown",
      "metadata": {
        "id": "qGBCBVZO6DK6",
        "colab_type": "text"
      },
      "source": [
        "# Importação de Bibliotecas"
      ]
    },
    {
      "cell_type": "code",
      "metadata": {
        "id": "ReoYPmW4L9L0",
        "colab_type": "code",
        "colab": {}
      },
      "source": [
        "import os\n",
        "import imageio\n",
        "import scipy as sp\n",
        "import numpy as np\n",
        "import openpnm as op\n",
        "import porespy as ps\n",
        "import matplotlib.pyplot as plt\n",
        "import skimage as sk\n",
        "from tqdm import tqdm\n",
        "\n",
        "np.set_printoptions(precision=4)\n",
        "np.random.seed(10)\n",
        "%matplotlib inline"
      ],
      "execution_count": 15,
      "outputs": []
    },
    {
      "cell_type": "markdown",
      "metadata": {
        "id": "NCZIn7Ee61FU",
        "colab_type": "text"
      },
      "source": [
        "# Seleciona a pasta do Google Drive"
      ]
    },
    {
      "cell_type": "code",
      "metadata": {
        "id": "EtLHpkhnMMRT",
        "colab_type": "code",
        "colab": {
          "base_uri": "https://localhost:8080/",
          "height": 54
        },
        "outputId": "22948037-8db0-453e-8276-bdc03626848f"
      },
      "source": [
        "from google.colab import drive \n",
        "drive.mount('/content/drive')"
      ],
      "execution_count": 4,
      "outputs": [
        {
          "output_type": "stream",
          "text": [
            "Drive already mounted at /content/drive; to attempt to forcibly remount, call drive.mount(\"/content/drive\", force_remount=True).\n"
          ],
          "name": "stdout"
        }
      ]
    },
    {
      "cell_type": "markdown",
      "metadata": {
        "id": "q8khnU4w7AWX",
        "colab_type": "text"
      },
      "source": [
        "# Seleção da amostra segmentada"
      ]
    },
    {
      "cell_type": "markdown",
      "metadata": {
        "id": "-c1rH-TT8PIW",
        "colab_type": "text"
      },
      "source": [
        "## Amostra Berea Sandstone - Imperial College"
      ]
    },
    {
      "cell_type": "code",
      "metadata": {
        "id": "doAMRoH9NNDW",
        "colab_type": "code",
        "colab": {
          "base_uri": "https://localhost:8080/"
        },
        "outputId": "2b34b67f-b66c-4de9-801e-e89d9b709100"
      },
      "source": [
        "'''\n",
        "path = 'drive/My Drive/PDI/Image'\n",
        "file_format = '.tif'\n",
        "file_name = 'Berea'\n",
        "file = file_name + file_format\n",
        "fetch_file = os.path.join(path, file)\n",
        "print(fetch_file)\n",
        "im = imageio.mimread(fetch_file)\n",
        "im = ~np.array(im, dtype=bool)\n",
        "im = im[:,:,:]\n",
        "print(im.shape)\n",
        "'''"
      ],
      "execution_count": null,
      "outputs": [
        {
          "output_type": "execute_result",
          "data": {
            "text/plain": [
              "\"\\npath = 'drive/My Drive/PDI/Image'\\nfile_format = '.tif'\\nfile_name = 'Berea'\\nfile = file_name + file_format\\nfetch_file = os.path.join(path, file)\\nprint(fetch_file)\\nim = imageio.mimread(fetch_file)\\nim = ~np.array(im, dtype=bool)\\nim = im[:,:,:]\\nprint(im.shape)\\n\""
            ]
          },
          "metadata": {
            "tags": []
          },
          "execution_count": 4
        }
      ]
    },
    {
      "cell_type": "markdown",
      "metadata": {
        "id": "K8XT0-vU8Hh_",
        "colab_type": "text"
      },
      "source": [
        "\n",
        "\n",
        "\n",
        "\n",
        "## Amostra Vn19c1-  UFRN\n",
        "\n",
        "Nesta etapa será lida uma matriz (nw,nh,ns) a partir das imagens fornecidas em formato .tif e criado um array (im) do tipo booleano. \n"
      ]
    },
    {
      "cell_type": "code",
      "metadata": {
        "id": "bYZCuGhlMcOV",
        "colab_type": "code",
        "colab": {
          "base_uri": "https://localhost:8080/",
          "height": 376
        },
        "outputId": "f44d044c-1149-4bd5-94be-9c7a7d86dc90"
      },
      "source": [
        "'''\n",
        "path = 'drive/My Drive/Artigo Segmentação/Imagens/out_tambaba/seg_mediana/seg_otsu/' #pasta da amostra\n",
        "list_files = os.listdir(path) # lista de arquivos dentro da pasta das amostras\n",
        "list_files = np.sort(np.array(list_files)) # organizar os arquivos\n",
        "\n",
        "im = [] # inicialização do vetor de armazenamento\n",
        "for file in list_files: # seleciona 400 slices\n",
        "  fetch_file = os.path.join(path, file)  \n",
        "  image = np.array(imageio.mimread(fetch_file)) # importa imagem e converte em numpy\n",
        "  im.append(image.T) # Adiciona matriz numpy ao vetor de armazenameto\n",
        "\n",
        "im = np.array(im, dtype = bool) # Converte para bolleano \n",
        "im = im[:,:,:,0].T # separa uma região de 400x400x400\n",
        "print(\"formato da imagem\", im.shape) \n",
        "'''"
      ],
      "execution_count": 5,
      "outputs": [
        {
          "output_type": "error",
          "ename": "KeyboardInterrupt",
          "evalue": "ignored",
          "traceback": [
            "\u001b[0;31m---------------------------------------------------------------------------\u001b[0m",
            "\u001b[0;31mKeyboardInterrupt\u001b[0m                         Traceback (most recent call last)",
            "\u001b[0;32m<ipython-input-5-9c9190f39dd3>\u001b[0m in \u001b[0;36m<module>\u001b[0;34m()\u001b[0m\n\u001b[1;32m      6\u001b[0m \u001b[0;32mfor\u001b[0m \u001b[0mfile\u001b[0m \u001b[0;32min\u001b[0m \u001b[0mlist_files\u001b[0m\u001b[0;34m:\u001b[0m \u001b[0;31m# seleciona 400 slices\u001b[0m\u001b[0;34m\u001b[0m\u001b[0;34m\u001b[0m\u001b[0m\n\u001b[1;32m      7\u001b[0m   \u001b[0mfetch_file\u001b[0m \u001b[0;34m=\u001b[0m \u001b[0mos\u001b[0m\u001b[0;34m.\u001b[0m\u001b[0mpath\u001b[0m\u001b[0;34m.\u001b[0m\u001b[0mjoin\u001b[0m\u001b[0;34m(\u001b[0m\u001b[0mpath\u001b[0m\u001b[0;34m,\u001b[0m \u001b[0mfile\u001b[0m\u001b[0;34m)\u001b[0m\u001b[0;34m\u001b[0m\u001b[0;34m\u001b[0m\u001b[0m\n\u001b[0;32m----> 8\u001b[0;31m   \u001b[0mimage\u001b[0m \u001b[0;34m=\u001b[0m \u001b[0mnp\u001b[0m\u001b[0;34m.\u001b[0m\u001b[0marray\u001b[0m\u001b[0;34m(\u001b[0m\u001b[0mimageio\u001b[0m\u001b[0;34m.\u001b[0m\u001b[0mmimread\u001b[0m\u001b[0;34m(\u001b[0m\u001b[0mfetch_file\u001b[0m\u001b[0;34m)\u001b[0m\u001b[0;34m)\u001b[0m \u001b[0;31m# importa imagem e converte em numpy\u001b[0m\u001b[0;34m\u001b[0m\u001b[0;34m\u001b[0m\u001b[0m\n\u001b[0m\u001b[1;32m      9\u001b[0m   \u001b[0mim\u001b[0m\u001b[0;34m.\u001b[0m\u001b[0mappend\u001b[0m\u001b[0;34m(\u001b[0m\u001b[0mimage\u001b[0m\u001b[0;34m.\u001b[0m\u001b[0mT\u001b[0m\u001b[0;34m)\u001b[0m \u001b[0;31m# Adiciona matriz numpy ao vetor de armazenameto\u001b[0m\u001b[0;34m\u001b[0m\u001b[0;34m\u001b[0m\u001b[0m\n\u001b[1;32m     10\u001b[0m \u001b[0;34m\u001b[0m\u001b[0m\n",
            "\u001b[0;32m/usr/local/lib/python3.6/dist-packages/imageio/core/functions.py\u001b[0m in \u001b[0;36mmimread\u001b[0;34m(uri, format, memtest, **kwargs)\u001b[0m\n\u001b[1;32m    293\u001b[0m \u001b[0;34m\u001b[0m\u001b[0m\n\u001b[1;32m    294\u001b[0m     \u001b[0;31m# Get reader\u001b[0m\u001b[0;34m\u001b[0m\u001b[0;34m\u001b[0m\u001b[0;34m\u001b[0m\u001b[0m\n\u001b[0;32m--> 295\u001b[0;31m     \u001b[0mreader\u001b[0m \u001b[0;34m=\u001b[0m \u001b[0mread\u001b[0m\u001b[0;34m(\u001b[0m\u001b[0muri\u001b[0m\u001b[0;34m,\u001b[0m \u001b[0mformat\u001b[0m\u001b[0;34m,\u001b[0m \u001b[0;34m\"I\"\u001b[0m\u001b[0;34m,\u001b[0m \u001b[0;34m**\u001b[0m\u001b[0mkwargs\u001b[0m\u001b[0;34m)\u001b[0m\u001b[0;34m\u001b[0m\u001b[0;34m\u001b[0m\u001b[0m\n\u001b[0m\u001b[1;32m    296\u001b[0m \u001b[0;34m\u001b[0m\u001b[0m\n\u001b[1;32m    297\u001b[0m     \u001b[0;31m# Read\u001b[0m\u001b[0;34m\u001b[0m\u001b[0;34m\u001b[0m\u001b[0;34m\u001b[0m\u001b[0m\n",
            "\u001b[0;32m/usr/local/lib/python3.6/dist-packages/imageio/core/functions.py\u001b[0m in \u001b[0;36mget_reader\u001b[0;34m(uri, format, mode, **kwargs)\u001b[0m\n\u001b[1;32m    141\u001b[0m \u001b[0;34m\u001b[0m\u001b[0m\n\u001b[1;32m    142\u001b[0m     \u001b[0;31m# Return its reader object\u001b[0m\u001b[0;34m\u001b[0m\u001b[0;34m\u001b[0m\u001b[0;34m\u001b[0m\u001b[0m\n\u001b[0;32m--> 143\u001b[0;31m     \u001b[0;32mreturn\u001b[0m \u001b[0mformat\u001b[0m\u001b[0;34m.\u001b[0m\u001b[0mget_reader\u001b[0m\u001b[0;34m(\u001b[0m\u001b[0mrequest\u001b[0m\u001b[0;34m)\u001b[0m\u001b[0;34m\u001b[0m\u001b[0;34m\u001b[0m\u001b[0m\n\u001b[0m\u001b[1;32m    144\u001b[0m \u001b[0;34m\u001b[0m\u001b[0m\n\u001b[1;32m    145\u001b[0m \u001b[0;34m\u001b[0m\u001b[0m\n",
            "\u001b[0;32m/usr/local/lib/python3.6/dist-packages/imageio/core/format.py\u001b[0m in \u001b[0;36mget_reader\u001b[0;34m(self, request)\u001b[0m\n\u001b[1;32m    172\u001b[0m                 \u001b[0;34m\"Format %s cannot read in mode %r\"\u001b[0m \u001b[0;34m%\u001b[0m \u001b[0;34m(\u001b[0m\u001b[0mself\u001b[0m\u001b[0;34m.\u001b[0m\u001b[0mname\u001b[0m\u001b[0;34m,\u001b[0m \u001b[0mselect_mode\u001b[0m\u001b[0;34m)\u001b[0m\u001b[0;34m\u001b[0m\u001b[0;34m\u001b[0m\u001b[0m\n\u001b[1;32m    173\u001b[0m             )\n\u001b[0;32m--> 174\u001b[0;31m         \u001b[0;32mreturn\u001b[0m \u001b[0mself\u001b[0m\u001b[0;34m.\u001b[0m\u001b[0mReader\u001b[0m\u001b[0;34m(\u001b[0m\u001b[0mself\u001b[0m\u001b[0;34m,\u001b[0m \u001b[0mrequest\u001b[0m\u001b[0;34m)\u001b[0m\u001b[0;34m\u001b[0m\u001b[0;34m\u001b[0m\u001b[0m\n\u001b[0m\u001b[1;32m    175\u001b[0m \u001b[0;34m\u001b[0m\u001b[0m\n\u001b[1;32m    176\u001b[0m     \u001b[0;32mdef\u001b[0m \u001b[0mget_writer\u001b[0m\u001b[0;34m(\u001b[0m\u001b[0mself\u001b[0m\u001b[0;34m,\u001b[0m \u001b[0mrequest\u001b[0m\u001b[0;34m)\u001b[0m\u001b[0;34m:\u001b[0m\u001b[0;34m\u001b[0m\u001b[0;34m\u001b[0m\u001b[0m\n",
            "\u001b[0;32m/usr/local/lib/python3.6/dist-packages/imageio/core/format.py\u001b[0m in \u001b[0;36m__init__\u001b[0;34m(self, format, request)\u001b[0m\n\u001b[1;32m    222\u001b[0m             \u001b[0mself\u001b[0m\u001b[0;34m.\u001b[0m\u001b[0m_request\u001b[0m \u001b[0;34m=\u001b[0m \u001b[0mrequest\u001b[0m\u001b[0;34m\u001b[0m\u001b[0;34m\u001b[0m\u001b[0m\n\u001b[1;32m    223\u001b[0m             \u001b[0;31m# Open the reader/writer\u001b[0m\u001b[0;34m\u001b[0m\u001b[0;34m\u001b[0m\u001b[0;34m\u001b[0m\u001b[0m\n\u001b[0;32m--> 224\u001b[0;31m             \u001b[0mself\u001b[0m\u001b[0;34m.\u001b[0m\u001b[0m_open\u001b[0m\u001b[0;34m(\u001b[0m\u001b[0;34m**\u001b[0m\u001b[0mself\u001b[0m\u001b[0;34m.\u001b[0m\u001b[0mrequest\u001b[0m\u001b[0;34m.\u001b[0m\u001b[0mkwargs\u001b[0m\u001b[0;34m.\u001b[0m\u001b[0mcopy\u001b[0m\u001b[0;34m(\u001b[0m\u001b[0;34m)\u001b[0m\u001b[0;34m)\u001b[0m\u001b[0;34m\u001b[0m\u001b[0;34m\u001b[0m\u001b[0m\n\u001b[0m\u001b[1;32m    225\u001b[0m \u001b[0;34m\u001b[0m\u001b[0m\n\u001b[1;32m    226\u001b[0m         \u001b[0;34m@\u001b[0m\u001b[0mproperty\u001b[0m\u001b[0;34m\u001b[0m\u001b[0;34m\u001b[0m\u001b[0m\n",
            "\u001b[0;32m/usr/local/lib/python3.6/dist-packages/imageio/plugins/tifffile.py\u001b[0m in \u001b[0;36m_open\u001b[0;34m(self, **kwargs)\u001b[0m\n\u001b[1;32m    227\u001b[0m                 \u001b[0mself\u001b[0m\u001b[0;34m.\u001b[0m\u001b[0m_f\u001b[0m \u001b[0;34m=\u001b[0m \u001b[0;32mNone\u001b[0m\u001b[0;34m\u001b[0m\u001b[0;34m\u001b[0m\u001b[0m\n\u001b[1;32m    228\u001b[0m                 \u001b[0mf\u001b[0m \u001b[0;34m=\u001b[0m \u001b[0mself\u001b[0m\u001b[0;34m.\u001b[0m\u001b[0mrequest\u001b[0m\u001b[0;34m.\u001b[0m\u001b[0mget_file\u001b[0m\u001b[0;34m(\u001b[0m\u001b[0;34m)\u001b[0m\u001b[0;34m\u001b[0m\u001b[0;34m\u001b[0m\u001b[0m\n\u001b[0;32m--> 229\u001b[0;31m             \u001b[0mself\u001b[0m\u001b[0;34m.\u001b[0m\u001b[0m_tf\u001b[0m \u001b[0;34m=\u001b[0m \u001b[0m_tifffile\u001b[0m\u001b[0;34m.\u001b[0m\u001b[0mTiffFile\u001b[0m\u001b[0;34m(\u001b[0m\u001b[0mf\u001b[0m\u001b[0;34m,\u001b[0m \u001b[0;34m**\u001b[0m\u001b[0mkwargs\u001b[0m\u001b[0;34m)\u001b[0m\u001b[0;34m\u001b[0m\u001b[0;34m\u001b[0m\u001b[0m\n\u001b[0m\u001b[1;32m    230\u001b[0m \u001b[0;34m\u001b[0m\u001b[0m\n\u001b[1;32m    231\u001b[0m             \u001b[0;31m# metadata is the same for all images\u001b[0m\u001b[0;34m\u001b[0m\u001b[0;34m\u001b[0m\u001b[0;34m\u001b[0m\u001b[0m\n",
            "\u001b[0;32m/usr/local/lib/python3.6/dist-packages/tifffile/tifffile.py\u001b[0m in \u001b[0;36m__init__\u001b[0;34m(self, arg, name, offset, size, multifile, _useframes, _master, **kwargs)\u001b[0m\n\u001b[1;32m   2617\u001b[0m         \u001b[0;32mtry\u001b[0m\u001b[0;34m:\u001b[0m\u001b[0;34m\u001b[0m\u001b[0;34m\u001b[0m\u001b[0m\n\u001b[1;32m   2618\u001b[0m             \u001b[0mfh\u001b[0m\u001b[0;34m.\u001b[0m\u001b[0mseek\u001b[0m\u001b[0;34m(\u001b[0m\u001b[0;36m0\u001b[0m\u001b[0;34m)\u001b[0m\u001b[0;34m\u001b[0m\u001b[0;34m\u001b[0m\u001b[0m\n\u001b[0;32m-> 2619\u001b[0;31m             \u001b[0mheader\u001b[0m \u001b[0;34m=\u001b[0m \u001b[0mfh\u001b[0m\u001b[0;34m.\u001b[0m\u001b[0mread\u001b[0m\u001b[0;34m(\u001b[0m\u001b[0;36m4\u001b[0m\u001b[0;34m)\u001b[0m\u001b[0;34m\u001b[0m\u001b[0;34m\u001b[0m\u001b[0m\n\u001b[0m\u001b[1;32m   2620\u001b[0m             \u001b[0;32mtry\u001b[0m\u001b[0;34m:\u001b[0m\u001b[0;34m\u001b[0m\u001b[0;34m\u001b[0m\u001b[0m\n\u001b[1;32m   2621\u001b[0m                 \u001b[0mbyteorder\u001b[0m \u001b[0;34m=\u001b[0m \u001b[0;34m{\u001b[0m\u001b[0;34mb'II'\u001b[0m\u001b[0;34m:\u001b[0m \u001b[0;34m'<'\u001b[0m\u001b[0;34m,\u001b[0m \u001b[0;34mb'MM'\u001b[0m\u001b[0;34m:\u001b[0m \u001b[0;34m'>'\u001b[0m\u001b[0;34m,\u001b[0m \u001b[0;34mb'EP'\u001b[0m\u001b[0;34m:\u001b[0m \u001b[0;34m'<'\u001b[0m\u001b[0;34m}\u001b[0m\u001b[0;34m[\u001b[0m\u001b[0mheader\u001b[0m\u001b[0;34m[\u001b[0m\u001b[0;34m:\u001b[0m\u001b[0;36m2\u001b[0m\u001b[0;34m]\u001b[0m\u001b[0;34m]\u001b[0m\u001b[0;34m\u001b[0m\u001b[0;34m\u001b[0m\u001b[0m\n",
            "\u001b[0;32m/usr/local/lib/python3.6/dist-packages/tifffile/tifffile.py\u001b[0m in \u001b[0;36mread\u001b[0;34m(self, size)\u001b[0m\n\u001b[1;32m   7456\u001b[0m         \u001b[0;32mif\u001b[0m \u001b[0msize\u001b[0m \u001b[0;34m<\u001b[0m \u001b[0;36m0\u001b[0m \u001b[0;32mand\u001b[0m \u001b[0mself\u001b[0m\u001b[0;34m.\u001b[0m\u001b[0m_offset\u001b[0m\u001b[0;34m:\u001b[0m\u001b[0;34m\u001b[0m\u001b[0;34m\u001b[0m\u001b[0m\n\u001b[1;32m   7457\u001b[0m             \u001b[0msize\u001b[0m \u001b[0;34m=\u001b[0m \u001b[0mself\u001b[0m\u001b[0;34m.\u001b[0m\u001b[0m_size\u001b[0m\u001b[0;34m\u001b[0m\u001b[0;34m\u001b[0m\u001b[0m\n\u001b[0;32m-> 7458\u001b[0;31m         \u001b[0;32mreturn\u001b[0m \u001b[0mself\u001b[0m\u001b[0;34m.\u001b[0m\u001b[0m_fh\u001b[0m\u001b[0;34m.\u001b[0m\u001b[0mread\u001b[0m\u001b[0;34m(\u001b[0m\u001b[0msize\u001b[0m\u001b[0;34m)\u001b[0m\u001b[0;34m\u001b[0m\u001b[0;34m\u001b[0m\u001b[0m\n\u001b[0m\u001b[1;32m   7459\u001b[0m \u001b[0;34m\u001b[0m\u001b[0m\n\u001b[1;32m   7460\u001b[0m     \u001b[0;32mdef\u001b[0m \u001b[0mreadinto\u001b[0m\u001b[0;34m(\u001b[0m\u001b[0mself\u001b[0m\u001b[0;34m,\u001b[0m \u001b[0mb\u001b[0m\u001b[0;34m)\u001b[0m\u001b[0;34m:\u001b[0m\u001b[0;34m\u001b[0m\u001b[0;34m\u001b[0m\u001b[0m\n",
            "\u001b[0;31mKeyboardInterrupt\u001b[0m: "
          ]
        }
      ]
    },
    {
      "cell_type": "markdown",
      "metadata": {
        "id": "lxGR32LjUzp8",
        "colab_type": "text"
      },
      "source": [
        "## Amostra em HU\n",
        "\n",
        "Nesta etapa será lida uma matriz (nw,nh,ns) a partir das imagens em HU  fornecidas em formato .tif e criado um array (im) do tipo booleano com a segmentação por determinação de threshold. "
      ]
    },
    {
      "cell_type": "code",
      "metadata": {
        "id": "gNSQ7YsxI_a2",
        "colab_type": "code",
        "colab": {}
      },
      "source": [
        "path = 'drive/My Drive/Artigo Segmentação/Imagens/out_tambaba/seg_mediana/seg_kmean3D/' #pasta da amostra\n",
        "list_files = os.listdir(path) # lista de arquivos dentro da pasta das amostras\n",
        "list_files = np.sort(np.array(list_files)) # organizar os arquivos"
      ],
      "execution_count": 61,
      "outputs": []
    },
    {
      "cell_type": "code",
      "metadata": {
        "id": "lOhe1t4bJaMZ",
        "colab_type": "code",
        "colab": {
          "base_uri": "https://localhost:8080/",
          "height": 1000
        },
        "outputId": "2ae0fdfe-a574-408c-dc1e-a4e0953a475e"
      },
      "source": [
        "im_leitura = [] # inicialização do vetor de armazenamento\n",
        "\n",
        "for file in tqdm(list_files):\n",
        "  print(\".\", end = \" \")\n",
        "  fetch_file = os.path.join(path, file)  \n",
        "  image = np.array(imageio.imread(fetch_file)) # importa imagem e converte em numpy\n",
        " \n",
        "  im_leitura.append(image.T) # Adiciona matriz numpy ao vetor de armazenameto\n",
        "\n",
        "im_leitura = np.array(im_leitura)\n",
        "print(\"formato da imagem HU\", im_leitura.shape)\n",
        "im_leitura = im_leitura[:,:,:].T  \n",
        "print(\"formato da imagem HU\", im_leitura.shape)"
      ],
      "execution_count": 62,
      "outputs": [
        {
          "output_type": "stream",
          "text": [
            "\r  0%|          | 0/650 [00:00<?, ?it/s]"
          ],
          "name": "stderr"
        },
        {
          "output_type": "stream",
          "text": [
            ". "
          ],
          "name": "stdout"
        },
        {
          "output_type": "stream",
          "text": [
            "\r  0%|          | 1/650 [00:00<06:15,  1.73it/s]"
          ],
          "name": "stderr"
        },
        {
          "output_type": "stream",
          "text": [
            ". "
          ],
          "name": "stdout"
        },
        {
          "output_type": "stream",
          "text": [
            "\r  0%|          | 2/650 [00:01<06:09,  1.75it/s]"
          ],
          "name": "stderr"
        },
        {
          "output_type": "stream",
          "text": [
            ". "
          ],
          "name": "stdout"
        },
        {
          "output_type": "stream",
          "text": [
            "\r  0%|          | 3/650 [00:01<06:04,  1.77it/s]"
          ],
          "name": "stderr"
        },
        {
          "output_type": "stream",
          "text": [
            ". "
          ],
          "name": "stdout"
        },
        {
          "output_type": "stream",
          "text": [
            "\r  1%|          | 4/650 [00:02<05:55,  1.82it/s]"
          ],
          "name": "stderr"
        },
        {
          "output_type": "stream",
          "text": [
            ". "
          ],
          "name": "stdout"
        },
        {
          "output_type": "stream",
          "text": [
            "\r  1%|          | 5/650 [00:02<05:51,  1.84it/s]"
          ],
          "name": "stderr"
        },
        {
          "output_type": "stream",
          "text": [
            ". "
          ],
          "name": "stdout"
        },
        {
          "output_type": "stream",
          "text": [
            "\r  1%|          | 6/650 [00:03<05:47,  1.86it/s]"
          ],
          "name": "stderr"
        },
        {
          "output_type": "stream",
          "text": [
            ". "
          ],
          "name": "stdout"
        },
        {
          "output_type": "stream",
          "text": [
            "\r  1%|          | 7/650 [00:03<05:50,  1.84it/s]"
          ],
          "name": "stderr"
        },
        {
          "output_type": "stream",
          "text": [
            ". "
          ],
          "name": "stdout"
        },
        {
          "output_type": "stream",
          "text": [
            "\r  1%|          | 8/650 [00:04<05:49,  1.84it/s]"
          ],
          "name": "stderr"
        },
        {
          "output_type": "stream",
          "text": [
            ". "
          ],
          "name": "stdout"
        },
        {
          "output_type": "stream",
          "text": [
            "\r  1%|▏         | 9/650 [00:05<07:14,  1.48it/s]"
          ],
          "name": "stderr"
        },
        {
          "output_type": "stream",
          "text": [
            ". "
          ],
          "name": "stdout"
        },
        {
          "output_type": "stream",
          "text": [
            "\r  2%|▏         | 10/650 [00:05<06:45,  1.58it/s]"
          ],
          "name": "stderr"
        },
        {
          "output_type": "stream",
          "text": [
            ". "
          ],
          "name": "stdout"
        },
        {
          "output_type": "stream",
          "text": [
            "\r  2%|▏         | 11/650 [00:06<06:26,  1.65it/s]"
          ],
          "name": "stderr"
        },
        {
          "output_type": "stream",
          "text": [
            ". "
          ],
          "name": "stdout"
        },
        {
          "output_type": "stream",
          "text": [
            "\r  2%|▏         | 12/650 [00:06<06:11,  1.72it/s]"
          ],
          "name": "stderr"
        },
        {
          "output_type": "stream",
          "text": [
            ". "
          ],
          "name": "stdout"
        },
        {
          "output_type": "stream",
          "text": [
            "\r  2%|▏         | 13/650 [00:07<06:05,  1.74it/s]"
          ],
          "name": "stderr"
        },
        {
          "output_type": "stream",
          "text": [
            ". "
          ],
          "name": "stdout"
        },
        {
          "output_type": "stream",
          "text": [
            "\r  2%|▏         | 14/650 [00:08<06:00,  1.77it/s]"
          ],
          "name": "stderr"
        },
        {
          "output_type": "stream",
          "text": [
            ". "
          ],
          "name": "stdout"
        },
        {
          "output_type": "stream",
          "text": [
            "\r  2%|▏         | 15/650 [00:08<05:58,  1.77it/s]"
          ],
          "name": "stderr"
        },
        {
          "output_type": "stream",
          "text": [
            ". "
          ],
          "name": "stdout"
        },
        {
          "output_type": "stream",
          "text": [
            "\r  2%|▏         | 16/650 [00:09<05:58,  1.77it/s]"
          ],
          "name": "stderr"
        },
        {
          "output_type": "stream",
          "text": [
            ". "
          ],
          "name": "stdout"
        },
        {
          "output_type": "stream",
          "text": [
            "\r  3%|▎         | 17/650 [00:09<05:56,  1.77it/s]"
          ],
          "name": "stderr"
        },
        {
          "output_type": "stream",
          "text": [
            ". "
          ],
          "name": "stdout"
        },
        {
          "output_type": "stream",
          "text": [
            "\r  3%|▎         | 18/650 [00:10<05:57,  1.77it/s]"
          ],
          "name": "stderr"
        },
        {
          "output_type": "stream",
          "text": [
            ". "
          ],
          "name": "stdout"
        },
        {
          "output_type": "stream",
          "text": [
            "\r  3%|▎         | 19/650 [00:10<05:58,  1.76it/s]"
          ],
          "name": "stderr"
        },
        {
          "output_type": "stream",
          "text": [
            ". "
          ],
          "name": "stdout"
        },
        {
          "output_type": "stream",
          "text": [
            "\r  3%|▎         | 20/650 [00:11<05:50,  1.80it/s]"
          ],
          "name": "stderr"
        },
        {
          "output_type": "stream",
          "text": [
            ". "
          ],
          "name": "stdout"
        },
        {
          "output_type": "stream",
          "text": [
            "\r  3%|▎         | 21/650 [00:11<05:39,  1.85it/s]"
          ],
          "name": "stderr"
        },
        {
          "output_type": "stream",
          "text": [
            ". "
          ],
          "name": "stdout"
        },
        {
          "output_type": "stream",
          "text": [
            "\r  3%|▎         | 22/650 [00:12<05:41,  1.84it/s]"
          ],
          "name": "stderr"
        },
        {
          "output_type": "stream",
          "text": [
            ". "
          ],
          "name": "stdout"
        },
        {
          "output_type": "stream",
          "text": [
            "\r  4%|▎         | 23/650 [00:13<05:42,  1.83it/s]"
          ],
          "name": "stderr"
        },
        {
          "output_type": "stream",
          "text": [
            ". "
          ],
          "name": "stdout"
        },
        {
          "output_type": "stream",
          "text": [
            "\r  4%|▎         | 24/650 [00:13<05:24,  1.93it/s]"
          ],
          "name": "stderr"
        },
        {
          "output_type": "stream",
          "text": [
            ". "
          ],
          "name": "stdout"
        },
        {
          "output_type": "stream",
          "text": [
            "\r  4%|▍         | 25/650 [00:14<06:18,  1.65it/s]"
          ],
          "name": "stderr"
        },
        {
          "output_type": "stream",
          "text": [
            ". "
          ],
          "name": "stdout"
        },
        {
          "output_type": "stream",
          "text": [
            "\r  4%|▍         | 26/650 [00:14<06:22,  1.63it/s]"
          ],
          "name": "stderr"
        },
        {
          "output_type": "stream",
          "text": [
            ". "
          ],
          "name": "stdout"
        },
        {
          "output_type": "stream",
          "text": [
            "\r  4%|▍         | 27/650 [00:15<06:04,  1.71it/s]"
          ],
          "name": "stderr"
        },
        {
          "output_type": "stream",
          "text": [
            ". "
          ],
          "name": "stdout"
        },
        {
          "output_type": "stream",
          "text": [
            "\r  4%|▍         | 28/650 [00:15<06:01,  1.72it/s]"
          ],
          "name": "stderr"
        },
        {
          "output_type": "stream",
          "text": [
            ". "
          ],
          "name": "stdout"
        },
        {
          "output_type": "stream",
          "text": [
            "\r  4%|▍         | 29/650 [00:16<05:54,  1.75it/s]"
          ],
          "name": "stderr"
        },
        {
          "output_type": "stream",
          "text": [
            ". "
          ],
          "name": "stdout"
        },
        {
          "output_type": "stream",
          "text": [
            "\r  5%|▍         | 30/650 [00:17<05:46,  1.79it/s]"
          ],
          "name": "stderr"
        },
        {
          "output_type": "stream",
          "text": [
            ". "
          ],
          "name": "stdout"
        },
        {
          "output_type": "stream",
          "text": [
            "\r  5%|▍         | 31/650 [00:17<05:39,  1.82it/s]"
          ],
          "name": "stderr"
        },
        {
          "output_type": "stream",
          "text": [
            ". "
          ],
          "name": "stdout"
        },
        {
          "output_type": "stream",
          "text": [
            "\r  5%|▍         | 32/650 [00:18<05:32,  1.86it/s]"
          ],
          "name": "stderr"
        },
        {
          "output_type": "stream",
          "text": [
            ". "
          ],
          "name": "stdout"
        },
        {
          "output_type": "stream",
          "text": [
            "\r  5%|▌         | 33/650 [00:18<05:30,  1.86it/s]"
          ],
          "name": "stderr"
        },
        {
          "output_type": "stream",
          "text": [
            ". "
          ],
          "name": "stdout"
        },
        {
          "output_type": "stream",
          "text": [
            "\r  5%|▌         | 34/650 [00:19<05:27,  1.88it/s]"
          ],
          "name": "stderr"
        },
        {
          "output_type": "stream",
          "text": [
            ". "
          ],
          "name": "stdout"
        },
        {
          "output_type": "stream",
          "text": [
            "\r  5%|▌         | 35/650 [00:19<05:29,  1.86it/s]"
          ],
          "name": "stderr"
        },
        {
          "output_type": "stream",
          "text": [
            ". "
          ],
          "name": "stdout"
        },
        {
          "output_type": "stream",
          "text": [
            "\r  6%|▌         | 36/650 [00:20<05:27,  1.87it/s]"
          ],
          "name": "stderr"
        },
        {
          "output_type": "stream",
          "text": [
            ". "
          ],
          "name": "stdout"
        },
        {
          "output_type": "stream",
          "text": [
            "\r  6%|▌         | 37/650 [00:20<05:27,  1.87it/s]"
          ],
          "name": "stderr"
        },
        {
          "output_type": "stream",
          "text": [
            ". "
          ],
          "name": "stdout"
        },
        {
          "output_type": "stream",
          "text": [
            "\r  6%|▌         | 38/650 [00:21<05:29,  1.85it/s]"
          ],
          "name": "stderr"
        },
        {
          "output_type": "stream",
          "text": [
            ". "
          ],
          "name": "stdout"
        },
        {
          "output_type": "stream",
          "text": [
            "\r  6%|▌         | 39/650 [00:21<05:33,  1.83it/s]"
          ],
          "name": "stderr"
        },
        {
          "output_type": "stream",
          "text": [
            ". "
          ],
          "name": "stdout"
        },
        {
          "output_type": "stream",
          "text": [
            "\r  6%|▌         | 40/650 [00:22<05:34,  1.82it/s]"
          ],
          "name": "stderr"
        },
        {
          "output_type": "stream",
          "text": [
            ". "
          ],
          "name": "stdout"
        },
        {
          "output_type": "stream",
          "text": [
            "\r  6%|▋         | 41/650 [00:23<05:42,  1.78it/s]"
          ],
          "name": "stderr"
        },
        {
          "output_type": "stream",
          "text": [
            ". "
          ],
          "name": "stdout"
        },
        {
          "output_type": "stream",
          "text": [
            "\r  6%|▋         | 42/650 [00:23<05:24,  1.87it/s]"
          ],
          "name": "stderr"
        },
        {
          "output_type": "stream",
          "text": [
            ". "
          ],
          "name": "stdout"
        },
        {
          "output_type": "stream",
          "text": [
            "\r  7%|▋         | 43/650 [00:24<05:21,  1.89it/s]"
          ],
          "name": "stderr"
        },
        {
          "output_type": "stream",
          "text": [
            ". "
          ],
          "name": "stdout"
        },
        {
          "output_type": "stream",
          "text": [
            "\r  7%|▋         | 44/650 [00:24<05:22,  1.88it/s]"
          ],
          "name": "stderr"
        },
        {
          "output_type": "stream",
          "text": [
            ". "
          ],
          "name": "stdout"
        },
        {
          "output_type": "stream",
          "text": [
            "\r  7%|▋         | 45/650 [00:25<05:21,  1.88it/s]"
          ],
          "name": "stderr"
        },
        {
          "output_type": "stream",
          "text": [
            ". "
          ],
          "name": "stdout"
        },
        {
          "output_type": "stream",
          "text": [
            "\r  7%|▋         | 46/650 [00:25<05:24,  1.86it/s]"
          ],
          "name": "stderr"
        },
        {
          "output_type": "stream",
          "text": [
            ". "
          ],
          "name": "stdout"
        },
        {
          "output_type": "stream",
          "text": [
            "\r  7%|▋         | 47/650 [00:26<05:22,  1.87it/s]"
          ],
          "name": "stderr"
        },
        {
          "output_type": "stream",
          "text": [
            ". "
          ],
          "name": "stdout"
        },
        {
          "output_type": "stream",
          "text": [
            "\r  7%|▋         | 48/650 [00:26<06:02,  1.66it/s]"
          ],
          "name": "stderr"
        },
        {
          "output_type": "stream",
          "text": [
            ". "
          ],
          "name": "stdout"
        },
        {
          "output_type": "stream",
          "text": [
            "\r  8%|▊         | 49/650 [00:27<06:03,  1.66it/s]"
          ],
          "name": "stderr"
        },
        {
          "output_type": "stream",
          "text": [
            ". "
          ],
          "name": "stdout"
        },
        {
          "output_type": "stream",
          "text": [
            "\r  8%|▊         | 50/650 [00:28<05:49,  1.72it/s]"
          ],
          "name": "stderr"
        },
        {
          "output_type": "stream",
          "text": [
            ". "
          ],
          "name": "stdout"
        },
        {
          "output_type": "stream",
          "text": [
            "\r  8%|▊         | 51/650 [00:28<05:38,  1.77it/s]"
          ],
          "name": "stderr"
        },
        {
          "output_type": "stream",
          "text": [
            ". "
          ],
          "name": "stdout"
        },
        {
          "output_type": "stream",
          "text": [
            "\r  8%|▊         | 52/650 [00:29<05:48,  1.71it/s]"
          ],
          "name": "stderr"
        },
        {
          "output_type": "stream",
          "text": [
            ". "
          ],
          "name": "stdout"
        },
        {
          "output_type": "stream",
          "text": [
            "\r  8%|▊         | 53/650 [00:29<05:43,  1.74it/s]"
          ],
          "name": "stderr"
        },
        {
          "output_type": "stream",
          "text": [
            ". "
          ],
          "name": "stdout"
        },
        {
          "output_type": "stream",
          "text": [
            "\r  8%|▊         | 54/650 [00:30<05:31,  1.80it/s]"
          ],
          "name": "stderr"
        },
        {
          "output_type": "stream",
          "text": [
            ". "
          ],
          "name": "stdout"
        },
        {
          "output_type": "stream",
          "text": [
            "\r  8%|▊         | 55/650 [00:30<05:25,  1.83it/s]"
          ],
          "name": "stderr"
        },
        {
          "output_type": "stream",
          "text": [
            ". "
          ],
          "name": "stdout"
        },
        {
          "output_type": "stream",
          "text": [
            "\r  9%|▊         | 56/650 [00:31<05:28,  1.81it/s]"
          ],
          "name": "stderr"
        },
        {
          "output_type": "stream",
          "text": [
            ". "
          ],
          "name": "stdout"
        },
        {
          "output_type": "stream",
          "text": [
            "\r  9%|▉         | 57/650 [00:31<05:32,  1.78it/s]"
          ],
          "name": "stderr"
        },
        {
          "output_type": "stream",
          "text": [
            ". "
          ],
          "name": "stdout"
        },
        {
          "output_type": "stream",
          "text": [
            "\r  9%|▉         | 58/650 [00:32<05:22,  1.83it/s]"
          ],
          "name": "stderr"
        },
        {
          "output_type": "stream",
          "text": [
            ". "
          ],
          "name": "stdout"
        },
        {
          "output_type": "stream",
          "text": [
            "\r  9%|▉         | 59/650 [00:33<05:20,  1.85it/s]"
          ],
          "name": "stderr"
        },
        {
          "output_type": "stream",
          "text": [
            ". "
          ],
          "name": "stdout"
        },
        {
          "output_type": "stream",
          "text": [
            "\r  9%|▉         | 60/650 [00:33<05:26,  1.81it/s]"
          ],
          "name": "stderr"
        },
        {
          "output_type": "stream",
          "text": [
            ". "
          ],
          "name": "stdout"
        },
        {
          "output_type": "stream",
          "text": [
            "\r  9%|▉         | 61/650 [00:34<05:23,  1.82it/s]"
          ],
          "name": "stderr"
        },
        {
          "output_type": "stream",
          "text": [
            ". "
          ],
          "name": "stdout"
        },
        {
          "output_type": "stream",
          "text": [
            "\r 10%|▉         | 62/650 [00:34<05:24,  1.81it/s]"
          ],
          "name": "stderr"
        },
        {
          "output_type": "stream",
          "text": [
            ". "
          ],
          "name": "stdout"
        },
        {
          "output_type": "stream",
          "text": [
            "\r 10%|▉         | 63/650 [00:35<05:18,  1.85it/s]"
          ],
          "name": "stderr"
        },
        {
          "output_type": "stream",
          "text": [
            ". "
          ],
          "name": "stdout"
        },
        {
          "output_type": "stream",
          "text": [
            "\r 10%|▉         | 64/650 [00:35<05:17,  1.84it/s]"
          ],
          "name": "stderr"
        },
        {
          "output_type": "stream",
          "text": [
            ". "
          ],
          "name": "stdout"
        },
        {
          "output_type": "stream",
          "text": [
            "\r 10%|█         | 65/650 [00:36<05:13,  1.87it/s]"
          ],
          "name": "stderr"
        },
        {
          "output_type": "stream",
          "text": [
            ". "
          ],
          "name": "stdout"
        },
        {
          "output_type": "stream",
          "text": [
            "\r 10%|█         | 66/650 [00:36<05:11,  1.88it/s]"
          ],
          "name": "stderr"
        },
        {
          "output_type": "stream",
          "text": [
            ". "
          ],
          "name": "stdout"
        },
        {
          "output_type": "stream",
          "text": [
            "\r 10%|█         | 67/650 [00:37<05:17,  1.84it/s]"
          ],
          "name": "stderr"
        },
        {
          "output_type": "stream",
          "text": [
            ". "
          ],
          "name": "stdout"
        },
        {
          "output_type": "stream",
          "text": [
            "\r 10%|█         | 68/650 [00:37<05:13,  1.85it/s]"
          ],
          "name": "stderr"
        },
        {
          "output_type": "stream",
          "text": [
            ". "
          ],
          "name": "stdout"
        },
        {
          "output_type": "stream",
          "text": [
            "\r 11%|█         | 69/650 [00:38<05:10,  1.87it/s]"
          ],
          "name": "stderr"
        },
        {
          "output_type": "stream",
          "text": [
            ". "
          ],
          "name": "stdout"
        },
        {
          "output_type": "stream",
          "text": [
            "\r 11%|█         | 70/650 [00:39<05:47,  1.67it/s]"
          ],
          "name": "stderr"
        },
        {
          "output_type": "stream",
          "text": [
            ". "
          ],
          "name": "stdout"
        },
        {
          "output_type": "stream",
          "text": [
            "\r 11%|█         | 71/650 [00:39<05:36,  1.72it/s]"
          ],
          "name": "stderr"
        },
        {
          "output_type": "stream",
          "text": [
            ". "
          ],
          "name": "stdout"
        },
        {
          "output_type": "stream",
          "text": [
            "\r 11%|█         | 72/650 [00:40<05:28,  1.76it/s]"
          ],
          "name": "stderr"
        },
        {
          "output_type": "stream",
          "text": [
            ". "
          ],
          "name": "stdout"
        },
        {
          "output_type": "stream",
          "text": [
            "\r 11%|█         | 73/650 [00:40<05:27,  1.76it/s]"
          ],
          "name": "stderr"
        },
        {
          "output_type": "stream",
          "text": [
            ". "
          ],
          "name": "stdout"
        },
        {
          "output_type": "stream",
          "text": [
            "\r 11%|█▏        | 74/650 [00:41<05:16,  1.82it/s]"
          ],
          "name": "stderr"
        },
        {
          "output_type": "stream",
          "text": [
            ". "
          ],
          "name": "stdout"
        },
        {
          "output_type": "stream",
          "text": [
            "\r 12%|█▏        | 75/650 [00:42<05:54,  1.62it/s]"
          ],
          "name": "stderr"
        },
        {
          "output_type": "stream",
          "text": [
            ". "
          ],
          "name": "stdout"
        },
        {
          "output_type": "stream",
          "text": [
            "\r 12%|█▏        | 76/650 [00:42<05:47,  1.65it/s]"
          ],
          "name": "stderr"
        },
        {
          "output_type": "stream",
          "text": [
            ". "
          ],
          "name": "stdout"
        },
        {
          "output_type": "stream",
          "text": [
            "\r 12%|█▏        | 77/650 [00:43<05:34,  1.71it/s]"
          ],
          "name": "stderr"
        },
        {
          "output_type": "stream",
          "text": [
            ". "
          ],
          "name": "stdout"
        },
        {
          "output_type": "stream",
          "text": [
            "\r 12%|█▏        | 78/650 [00:43<05:23,  1.77it/s]"
          ],
          "name": "stderr"
        },
        {
          "output_type": "stream",
          "text": [
            ". "
          ],
          "name": "stdout"
        },
        {
          "output_type": "stream",
          "text": [
            "\r 12%|█▏        | 79/650 [00:44<05:17,  1.80it/s]"
          ],
          "name": "stderr"
        },
        {
          "output_type": "stream",
          "text": [
            ". "
          ],
          "name": "stdout"
        },
        {
          "output_type": "stream",
          "text": [
            "\r 12%|█▏        | 80/650 [00:44<05:16,  1.80it/s]"
          ],
          "name": "stderr"
        },
        {
          "output_type": "stream",
          "text": [
            ". "
          ],
          "name": "stdout"
        },
        {
          "output_type": "stream",
          "text": [
            "\r 12%|█▏        | 81/650 [00:45<05:05,  1.86it/s]"
          ],
          "name": "stderr"
        },
        {
          "output_type": "stream",
          "text": [
            ". "
          ],
          "name": "stdout"
        },
        {
          "output_type": "stream",
          "text": [
            "\r 13%|█▎        | 82/650 [00:45<05:06,  1.85it/s]"
          ],
          "name": "stderr"
        },
        {
          "output_type": "stream",
          "text": [
            ". "
          ],
          "name": "stdout"
        },
        {
          "output_type": "stream",
          "text": [
            "\r 13%|█▎        | 83/650 [00:46<05:02,  1.87it/s]"
          ],
          "name": "stderr"
        },
        {
          "output_type": "stream",
          "text": [
            ". "
          ],
          "name": "stdout"
        },
        {
          "output_type": "stream",
          "text": [
            "\r 13%|█▎        | 84/650 [00:46<05:00,  1.89it/s]"
          ],
          "name": "stderr"
        },
        {
          "output_type": "stream",
          "text": [
            ". "
          ],
          "name": "stdout"
        },
        {
          "output_type": "stream",
          "text": [
            "\r 13%|█▎        | 85/650 [00:47<05:02,  1.87it/s]"
          ],
          "name": "stderr"
        },
        {
          "output_type": "stream",
          "text": [
            ". "
          ],
          "name": "stdout"
        },
        {
          "output_type": "stream",
          "text": [
            "\r 13%|█▎        | 86/650 [00:47<05:01,  1.87it/s]"
          ],
          "name": "stderr"
        },
        {
          "output_type": "stream",
          "text": [
            ". "
          ],
          "name": "stdout"
        },
        {
          "output_type": "stream",
          "text": [
            "\r 13%|█▎        | 87/650 [00:48<05:00,  1.88it/s]"
          ],
          "name": "stderr"
        },
        {
          "output_type": "stream",
          "text": [
            ". "
          ],
          "name": "stdout"
        },
        {
          "output_type": "stream",
          "text": [
            "\r 14%|█▎        | 88/650 [00:49<04:58,  1.89it/s]"
          ],
          "name": "stderr"
        },
        {
          "output_type": "stream",
          "text": [
            ". "
          ],
          "name": "stdout"
        },
        {
          "output_type": "stream",
          "text": [
            "\r 14%|█▎        | 89/650 [00:49<04:58,  1.88it/s]"
          ],
          "name": "stderr"
        },
        {
          "output_type": "stream",
          "text": [
            ". "
          ],
          "name": "stdout"
        },
        {
          "output_type": "stream",
          "text": [
            "\r 14%|█▍        | 90/650 [00:50<05:05,  1.83it/s]"
          ],
          "name": "stderr"
        },
        {
          "output_type": "stream",
          "text": [
            ". "
          ],
          "name": "stdout"
        },
        {
          "output_type": "stream",
          "text": [
            "\r 14%|█▍        | 91/650 [00:50<05:00,  1.86it/s]"
          ],
          "name": "stderr"
        },
        {
          "output_type": "stream",
          "text": [
            ". "
          ],
          "name": "stdout"
        },
        {
          "output_type": "stream",
          "text": [
            "\r 14%|█▍        | 92/650 [00:51<05:02,  1.84it/s]"
          ],
          "name": "stderr"
        },
        {
          "output_type": "stream",
          "text": [
            ". "
          ],
          "name": "stdout"
        },
        {
          "output_type": "stream",
          "text": [
            "\r 14%|█▍        | 93/650 [00:51<05:03,  1.83it/s]"
          ],
          "name": "stderr"
        },
        {
          "output_type": "stream",
          "text": [
            ". "
          ],
          "name": "stdout"
        },
        {
          "output_type": "stream",
          "text": [
            "\r 14%|█▍        | 94/650 [00:52<05:01,  1.85it/s]"
          ],
          "name": "stderr"
        },
        {
          "output_type": "stream",
          "text": [
            ". "
          ],
          "name": "stdout"
        },
        {
          "output_type": "stream",
          "text": [
            "\r 15%|█▍        | 95/650 [00:52<04:57,  1.87it/s]"
          ],
          "name": "stderr"
        },
        {
          "output_type": "stream",
          "text": [
            ". "
          ],
          "name": "stdout"
        },
        {
          "output_type": "stream",
          "text": [
            "\r 15%|█▍        | 96/650 [00:53<04:47,  1.93it/s]"
          ],
          "name": "stderr"
        },
        {
          "output_type": "stream",
          "text": [
            ". "
          ],
          "name": "stdout"
        },
        {
          "output_type": "stream",
          "text": [
            "\r 15%|█▍        | 97/650 [00:53<04:47,  1.92it/s]"
          ],
          "name": "stderr"
        },
        {
          "output_type": "stream",
          "text": [
            ". "
          ],
          "name": "stdout"
        },
        {
          "output_type": "stream",
          "text": [
            "\r 15%|█▌        | 98/650 [00:54<04:45,  1.94it/s]"
          ],
          "name": "stderr"
        },
        {
          "output_type": "stream",
          "text": [
            ". "
          ],
          "name": "stdout"
        },
        {
          "output_type": "stream",
          "text": [
            "\r 15%|█▌        | 99/650 [00:54<04:55,  1.87it/s]"
          ],
          "name": "stderr"
        },
        {
          "output_type": "stream",
          "text": [
            ". "
          ],
          "name": "stdout"
        },
        {
          "output_type": "stream",
          "text": [
            "\r 15%|█▌        | 100/650 [00:55<04:51,  1.88it/s]"
          ],
          "name": "stderr"
        },
        {
          "output_type": "stream",
          "text": [
            ". "
          ],
          "name": "stdout"
        },
        {
          "output_type": "stream",
          "text": [
            "\r 16%|█▌        | 101/650 [00:55<04:53,  1.87it/s]"
          ],
          "name": "stderr"
        },
        {
          "output_type": "stream",
          "text": [
            ". "
          ],
          "name": "stdout"
        },
        {
          "output_type": "stream",
          "text": [
            "\r 16%|█▌        | 102/650 [00:56<04:53,  1.87it/s]"
          ],
          "name": "stderr"
        },
        {
          "output_type": "stream",
          "text": [
            ". "
          ],
          "name": "stdout"
        },
        {
          "output_type": "stream",
          "text": [
            "\r 16%|█▌        | 103/650 [00:57<04:52,  1.87it/s]"
          ],
          "name": "stderr"
        },
        {
          "output_type": "stream",
          "text": [
            ". "
          ],
          "name": "stdout"
        },
        {
          "output_type": "stream",
          "text": [
            "\r 16%|█▌        | 104/650 [00:57<05:00,  1.82it/s]"
          ],
          "name": "stderr"
        },
        {
          "output_type": "stream",
          "text": [
            ". "
          ],
          "name": "stdout"
        },
        {
          "output_type": "stream",
          "text": [
            "\r 16%|█▌        | 105/650 [00:58<05:02,  1.80it/s]"
          ],
          "name": "stderr"
        },
        {
          "output_type": "stream",
          "text": [
            ". "
          ],
          "name": "stdout"
        },
        {
          "output_type": "stream",
          "text": [
            "\r 16%|█▋        | 106/650 [00:58<05:01,  1.80it/s]"
          ],
          "name": "stderr"
        },
        {
          "output_type": "stream",
          "text": [
            ". "
          ],
          "name": "stdout"
        },
        {
          "output_type": "stream",
          "text": [
            "\r 16%|█▋        | 107/650 [00:59<04:56,  1.83it/s]"
          ],
          "name": "stderr"
        },
        {
          "output_type": "stream",
          "text": [
            ". "
          ],
          "name": "stdout"
        },
        {
          "output_type": "stream",
          "text": [
            "\r 17%|█▋        | 108/650 [00:59<04:53,  1.85it/s]"
          ],
          "name": "stderr"
        },
        {
          "output_type": "stream",
          "text": [
            ". "
          ],
          "name": "stdout"
        },
        {
          "output_type": "stream",
          "text": [
            "\r 17%|█▋        | 109/650 [01:00<04:50,  1.86it/s]"
          ],
          "name": "stderr"
        },
        {
          "output_type": "stream",
          "text": [
            ". "
          ],
          "name": "stdout"
        },
        {
          "output_type": "stream",
          "text": [
            "\r 17%|█▋        | 110/650 [01:00<04:49,  1.86it/s]"
          ],
          "name": "stderr"
        },
        {
          "output_type": "stream",
          "text": [
            ". "
          ],
          "name": "stdout"
        },
        {
          "output_type": "stream",
          "text": [
            "\r 17%|█▋        | 111/650 [01:01<04:50,  1.85it/s]"
          ],
          "name": "stderr"
        },
        {
          "output_type": "stream",
          "text": [
            ". "
          ],
          "name": "stdout"
        },
        {
          "output_type": "stream",
          "text": [
            "\r 17%|█▋        | 112/650 [01:02<04:58,  1.80it/s]"
          ],
          "name": "stderr"
        },
        {
          "output_type": "stream",
          "text": [
            ". "
          ],
          "name": "stdout"
        },
        {
          "output_type": "stream",
          "text": [
            "\r 17%|█▋        | 113/650 [01:02<04:56,  1.81it/s]"
          ],
          "name": "stderr"
        },
        {
          "output_type": "stream",
          "text": [
            ". "
          ],
          "name": "stdout"
        },
        {
          "output_type": "stream",
          "text": [
            "\r 18%|█▊        | 114/650 [01:03<05:03,  1.76it/s]"
          ],
          "name": "stderr"
        },
        {
          "output_type": "stream",
          "text": [
            ". "
          ],
          "name": "stdout"
        },
        {
          "output_type": "stream",
          "text": [
            "\r 18%|█▊        | 115/650 [01:03<05:13,  1.70it/s]"
          ],
          "name": "stderr"
        },
        {
          "output_type": "stream",
          "text": [
            ". "
          ],
          "name": "stdout"
        },
        {
          "output_type": "stream",
          "text": [
            "\r 18%|█▊        | 116/650 [01:04<05:03,  1.76it/s]"
          ],
          "name": "stderr"
        },
        {
          "output_type": "stream",
          "text": [
            ". "
          ],
          "name": "stdout"
        },
        {
          "output_type": "stream",
          "text": [
            "\r 18%|█▊        | 117/650 [01:04<04:58,  1.78it/s]"
          ],
          "name": "stderr"
        },
        {
          "output_type": "stream",
          "text": [
            ". "
          ],
          "name": "stdout"
        },
        {
          "output_type": "stream",
          "text": [
            "\r 18%|█▊        | 118/650 [01:05<05:02,  1.76it/s]"
          ],
          "name": "stderr"
        },
        {
          "output_type": "stream",
          "text": [
            ". "
          ],
          "name": "stdout"
        },
        {
          "output_type": "stream",
          "text": [
            "\r 18%|█▊        | 119/650 [01:05<04:56,  1.79it/s]"
          ],
          "name": "stderr"
        },
        {
          "output_type": "stream",
          "text": [
            ". "
          ],
          "name": "stdout"
        },
        {
          "output_type": "stream",
          "text": [
            "\r 18%|█▊        | 120/650 [01:06<05:02,  1.75it/s]"
          ],
          "name": "stderr"
        },
        {
          "output_type": "stream",
          "text": [
            ". "
          ],
          "name": "stdout"
        },
        {
          "output_type": "stream",
          "text": [
            "\r 19%|█▊        | 121/650 [01:07<04:56,  1.78it/s]"
          ],
          "name": "stderr"
        },
        {
          "output_type": "stream",
          "text": [
            ". "
          ],
          "name": "stdout"
        },
        {
          "output_type": "stream",
          "text": [
            "\r 19%|█▉        | 122/650 [01:07<04:50,  1.82it/s]"
          ],
          "name": "stderr"
        },
        {
          "output_type": "stream",
          "text": [
            ". "
          ],
          "name": "stdout"
        },
        {
          "output_type": "stream",
          "text": [
            "\r 19%|█▉        | 123/650 [01:08<04:47,  1.83it/s]"
          ],
          "name": "stderr"
        },
        {
          "output_type": "stream",
          "text": [
            ". "
          ],
          "name": "stdout"
        },
        {
          "output_type": "stream",
          "text": [
            "\r 19%|█▉        | 124/650 [01:08<04:44,  1.85it/s]"
          ],
          "name": "stderr"
        },
        {
          "output_type": "stream",
          "text": [
            ". "
          ],
          "name": "stdout"
        },
        {
          "output_type": "stream",
          "text": [
            "\r 19%|█▉        | 125/650 [01:09<04:42,  1.86it/s]"
          ],
          "name": "stderr"
        },
        {
          "output_type": "stream",
          "text": [
            ". "
          ],
          "name": "stdout"
        },
        {
          "output_type": "stream",
          "text": [
            "\r 19%|█▉        | 126/650 [01:09<04:46,  1.83it/s]"
          ],
          "name": "stderr"
        },
        {
          "output_type": "stream",
          "text": [
            ". "
          ],
          "name": "stdout"
        },
        {
          "output_type": "stream",
          "text": [
            "\r 20%|█▉        | 127/650 [01:10<04:41,  1.86it/s]"
          ],
          "name": "stderr"
        },
        {
          "output_type": "stream",
          "text": [
            ". "
          ],
          "name": "stdout"
        },
        {
          "output_type": "stream",
          "text": [
            "\r 20%|█▉        | 128/650 [01:10<04:40,  1.86it/s]"
          ],
          "name": "stderr"
        },
        {
          "output_type": "stream",
          "text": [
            ". "
          ],
          "name": "stdout"
        },
        {
          "output_type": "stream",
          "text": [
            "\r 20%|█▉        | 129/650 [01:11<04:39,  1.87it/s]"
          ],
          "name": "stderr"
        },
        {
          "output_type": "stream",
          "text": [
            ". "
          ],
          "name": "stdout"
        },
        {
          "output_type": "stream",
          "text": [
            "\r 20%|██        | 130/650 [01:11<04:37,  1.87it/s]"
          ],
          "name": "stderr"
        },
        {
          "output_type": "stream",
          "text": [
            ". "
          ],
          "name": "stdout"
        },
        {
          "output_type": "stream",
          "text": [
            "\r 20%|██        | 131/650 [01:12<04:37,  1.87it/s]"
          ],
          "name": "stderr"
        },
        {
          "output_type": "stream",
          "text": [
            ". "
          ],
          "name": "stdout"
        },
        {
          "output_type": "stream",
          "text": [
            "\r 20%|██        | 132/650 [01:13<04:41,  1.84it/s]"
          ],
          "name": "stderr"
        },
        {
          "output_type": "stream",
          "text": [
            ". "
          ],
          "name": "stdout"
        },
        {
          "output_type": "stream",
          "text": [
            "\r 20%|██        | 133/650 [01:13<04:38,  1.86it/s]"
          ],
          "name": "stderr"
        },
        {
          "output_type": "stream",
          "text": [
            ". "
          ],
          "name": "stdout"
        },
        {
          "output_type": "stream",
          "text": [
            "\r 21%|██        | 134/650 [01:14<04:36,  1.87it/s]"
          ],
          "name": "stderr"
        },
        {
          "output_type": "stream",
          "text": [
            ". "
          ],
          "name": "stdout"
        },
        {
          "output_type": "stream",
          "text": [
            "\r 21%|██        | 135/650 [01:14<04:33,  1.88it/s]"
          ],
          "name": "stderr"
        },
        {
          "output_type": "stream",
          "text": [
            ". "
          ],
          "name": "stdout"
        },
        {
          "output_type": "stream",
          "text": [
            "\r 21%|██        | 136/650 [01:15<04:46,  1.79it/s]"
          ],
          "name": "stderr"
        },
        {
          "output_type": "stream",
          "text": [
            ". "
          ],
          "name": "stdout"
        },
        {
          "output_type": "stream",
          "text": [
            "\r 21%|██        | 137/650 [01:15<04:42,  1.82it/s]"
          ],
          "name": "stderr"
        },
        {
          "output_type": "stream",
          "text": [
            ". "
          ],
          "name": "stdout"
        },
        {
          "output_type": "stream",
          "text": [
            "\r 21%|██        | 138/650 [01:16<04:38,  1.84it/s]"
          ],
          "name": "stderr"
        },
        {
          "output_type": "stream",
          "text": [
            ". "
          ],
          "name": "stdout"
        },
        {
          "output_type": "stream",
          "text": [
            "\r 21%|██▏       | 139/650 [01:16<04:34,  1.86it/s]"
          ],
          "name": "stderr"
        },
        {
          "output_type": "stream",
          "text": [
            ". "
          ],
          "name": "stdout"
        },
        {
          "output_type": "stream",
          "text": [
            "\r 22%|██▏       | 140/650 [01:17<05:09,  1.65it/s]"
          ],
          "name": "stderr"
        },
        {
          "output_type": "stream",
          "text": [
            ". "
          ],
          "name": "stdout"
        },
        {
          "output_type": "stream",
          "text": [
            "\r 22%|██▏       | 141/650 [01:18<04:58,  1.71it/s]"
          ],
          "name": "stderr"
        },
        {
          "output_type": "stream",
          "text": [
            ". "
          ],
          "name": "stdout"
        },
        {
          "output_type": "stream",
          "text": [
            "\r 22%|██▏       | 142/650 [01:18<04:51,  1.74it/s]"
          ],
          "name": "stderr"
        },
        {
          "output_type": "stream",
          "text": [
            ". "
          ],
          "name": "stdout"
        },
        {
          "output_type": "stream",
          "text": [
            "\r 22%|██▏       | 143/650 [01:19<04:50,  1.75it/s]"
          ],
          "name": "stderr"
        },
        {
          "output_type": "stream",
          "text": [
            ". "
          ],
          "name": "stdout"
        },
        {
          "output_type": "stream",
          "text": [
            "\r 22%|██▏       | 144/650 [01:19<04:47,  1.76it/s]"
          ],
          "name": "stderr"
        },
        {
          "output_type": "stream",
          "text": [
            ". "
          ],
          "name": "stdout"
        },
        {
          "output_type": "stream",
          "text": [
            "\r 22%|██▏       | 145/650 [01:20<04:46,  1.76it/s]"
          ],
          "name": "stderr"
        },
        {
          "output_type": "stream",
          "text": [
            ". "
          ],
          "name": "stdout"
        },
        {
          "output_type": "stream",
          "text": [
            "\r 22%|██▏       | 146/650 [01:20<04:38,  1.81it/s]"
          ],
          "name": "stderr"
        },
        {
          "output_type": "stream",
          "text": [
            ". "
          ],
          "name": "stdout"
        },
        {
          "output_type": "stream",
          "text": [
            "\r 23%|██▎       | 147/650 [01:21<04:37,  1.81it/s]"
          ],
          "name": "stderr"
        },
        {
          "output_type": "stream",
          "text": [
            ". "
          ],
          "name": "stdout"
        },
        {
          "output_type": "stream",
          "text": [
            "\r 23%|██▎       | 148/650 [01:21<04:33,  1.83it/s]"
          ],
          "name": "stderr"
        },
        {
          "output_type": "stream",
          "text": [
            ". "
          ],
          "name": "stdout"
        },
        {
          "output_type": "stream",
          "text": [
            "\r 23%|██▎       | 149/650 [01:22<04:40,  1.79it/s]"
          ],
          "name": "stderr"
        },
        {
          "output_type": "stream",
          "text": [
            ". "
          ],
          "name": "stdout"
        },
        {
          "output_type": "stream",
          "text": [
            "\r 23%|██▎       | 150/650 [01:23<04:45,  1.75it/s]"
          ],
          "name": "stderr"
        },
        {
          "output_type": "stream",
          "text": [
            ". "
          ],
          "name": "stdout"
        },
        {
          "output_type": "stream",
          "text": [
            "\r 23%|██▎       | 151/650 [01:23<04:40,  1.78it/s]"
          ],
          "name": "stderr"
        },
        {
          "output_type": "stream",
          "text": [
            ". "
          ],
          "name": "stdout"
        },
        {
          "output_type": "stream",
          "text": [
            "\r 23%|██▎       | 152/650 [01:24<04:35,  1.81it/s]"
          ],
          "name": "stderr"
        },
        {
          "output_type": "stream",
          "text": [
            ". "
          ],
          "name": "stdout"
        },
        {
          "output_type": "stream",
          "text": [
            "\r 24%|██▎       | 153/650 [01:24<04:31,  1.83it/s]"
          ],
          "name": "stderr"
        },
        {
          "output_type": "stream",
          "text": [
            ". "
          ],
          "name": "stdout"
        },
        {
          "output_type": "stream",
          "text": [
            "\r 24%|██▎       | 154/650 [01:25<04:43,  1.75it/s]"
          ],
          "name": "stderr"
        },
        {
          "output_type": "stream",
          "text": [
            ". "
          ],
          "name": "stdout"
        },
        {
          "output_type": "stream",
          "text": [
            "\r 24%|██▍       | 155/650 [01:25<04:33,  1.81it/s]"
          ],
          "name": "stderr"
        },
        {
          "output_type": "stream",
          "text": [
            ". "
          ],
          "name": "stdout"
        },
        {
          "output_type": "stream",
          "text": [
            "\r 24%|██▍       | 156/650 [01:26<04:30,  1.82it/s]"
          ],
          "name": "stderr"
        },
        {
          "output_type": "stream",
          "text": [
            ". "
          ],
          "name": "stdout"
        },
        {
          "output_type": "stream",
          "text": [
            "\r 24%|██▍       | 157/650 [01:27<04:45,  1.72it/s]"
          ],
          "name": "stderr"
        },
        {
          "output_type": "stream",
          "text": [
            ". "
          ],
          "name": "stdout"
        },
        {
          "output_type": "stream",
          "text": [
            "\r 24%|██▍       | 158/650 [01:27<04:39,  1.76it/s]"
          ],
          "name": "stderr"
        },
        {
          "output_type": "stream",
          "text": [
            ". "
          ],
          "name": "stdout"
        },
        {
          "output_type": "stream",
          "text": [
            "\r 24%|██▍       | 159/650 [01:28<04:37,  1.77it/s]"
          ],
          "name": "stderr"
        },
        {
          "output_type": "stream",
          "text": [
            ". "
          ],
          "name": "stdout"
        },
        {
          "output_type": "stream",
          "text": [
            "\r 25%|██▍       | 160/650 [01:28<04:33,  1.79it/s]"
          ],
          "name": "stderr"
        },
        {
          "output_type": "stream",
          "text": [
            ". "
          ],
          "name": "stdout"
        },
        {
          "output_type": "stream",
          "text": [
            "\r 25%|██▍       | 161/650 [01:29<04:31,  1.80it/s]"
          ],
          "name": "stderr"
        },
        {
          "output_type": "stream",
          "text": [
            ". "
          ],
          "name": "stdout"
        },
        {
          "output_type": "stream",
          "text": [
            "\r 25%|██▍       | 162/650 [01:30<05:15,  1.55it/s]"
          ],
          "name": "stderr"
        },
        {
          "output_type": "stream",
          "text": [
            ". "
          ],
          "name": "stdout"
        },
        {
          "output_type": "stream",
          "text": [
            "\r 25%|██▌       | 163/650 [01:30<05:01,  1.62it/s]"
          ],
          "name": "stderr"
        },
        {
          "output_type": "stream",
          "text": [
            ". "
          ],
          "name": "stdout"
        },
        {
          "output_type": "stream",
          "text": [
            "\r 25%|██▌       | 164/650 [01:31<04:50,  1.67it/s]"
          ],
          "name": "stderr"
        },
        {
          "output_type": "stream",
          "text": [
            ". "
          ],
          "name": "stdout"
        },
        {
          "output_type": "stream",
          "text": [
            "\r 25%|██▌       | 165/650 [01:31<04:41,  1.72it/s]"
          ],
          "name": "stderr"
        },
        {
          "output_type": "stream",
          "text": [
            ". "
          ],
          "name": "stdout"
        },
        {
          "output_type": "stream",
          "text": [
            "\r 26%|██▌       | 166/650 [01:32<04:33,  1.77it/s]"
          ],
          "name": "stderr"
        },
        {
          "output_type": "stream",
          "text": [
            ". "
          ],
          "name": "stdout"
        },
        {
          "output_type": "stream",
          "text": [
            "\r 26%|██▌       | 167/650 [01:32<04:31,  1.78it/s]"
          ],
          "name": "stderr"
        },
        {
          "output_type": "stream",
          "text": [
            ". "
          ],
          "name": "stdout"
        },
        {
          "output_type": "stream",
          "text": [
            "\r 26%|██▌       | 168/650 [01:33<04:28,  1.79it/s]"
          ],
          "name": "stderr"
        },
        {
          "output_type": "stream",
          "text": [
            ". "
          ],
          "name": "stdout"
        },
        {
          "output_type": "stream",
          "text": [
            "\r 26%|██▌       | 169/650 [01:33<04:20,  1.84it/s]"
          ],
          "name": "stderr"
        },
        {
          "output_type": "stream",
          "text": [
            ". "
          ],
          "name": "stdout"
        },
        {
          "output_type": "stream",
          "text": [
            "\r 26%|██▌       | 170/650 [01:34<04:19,  1.85it/s]"
          ],
          "name": "stderr"
        },
        {
          "output_type": "stream",
          "text": [
            ". "
          ],
          "name": "stdout"
        },
        {
          "output_type": "stream",
          "text": [
            "\r 26%|██▋       | 171/650 [01:35<04:26,  1.80it/s]"
          ],
          "name": "stderr"
        },
        {
          "output_type": "stream",
          "text": [
            ". "
          ],
          "name": "stdout"
        },
        {
          "output_type": "stream",
          "text": [
            "\r 26%|██▋       | 172/650 [01:35<04:34,  1.74it/s]"
          ],
          "name": "stderr"
        },
        {
          "output_type": "stream",
          "text": [
            ". "
          ],
          "name": "stdout"
        },
        {
          "output_type": "stream",
          "text": [
            "\r 27%|██▋       | 173/650 [01:36<04:26,  1.79it/s]"
          ],
          "name": "stderr"
        },
        {
          "output_type": "stream",
          "text": [
            ". "
          ],
          "name": "stdout"
        },
        {
          "output_type": "stream",
          "text": [
            "\r 27%|██▋       | 174/650 [01:36<04:31,  1.75it/s]"
          ],
          "name": "stderr"
        },
        {
          "output_type": "stream",
          "text": [
            ". "
          ],
          "name": "stdout"
        },
        {
          "output_type": "stream",
          "text": [
            "\r 27%|██▋       | 175/650 [01:37<04:27,  1.78it/s]"
          ],
          "name": "stderr"
        },
        {
          "output_type": "stream",
          "text": [
            ". "
          ],
          "name": "stdout"
        },
        {
          "output_type": "stream",
          "text": [
            "\r 27%|██▋       | 176/650 [01:37<04:24,  1.79it/s]"
          ],
          "name": "stderr"
        },
        {
          "output_type": "stream",
          "text": [
            ". "
          ],
          "name": "stdout"
        },
        {
          "output_type": "stream",
          "text": [
            "\r 27%|██▋       | 177/650 [01:38<04:17,  1.83it/s]"
          ],
          "name": "stderr"
        },
        {
          "output_type": "stream",
          "text": [
            ". "
          ],
          "name": "stdout"
        },
        {
          "output_type": "stream",
          "text": [
            "\r 27%|██▋       | 178/650 [01:38<04:13,  1.86it/s]"
          ],
          "name": "stderr"
        },
        {
          "output_type": "stream",
          "text": [
            ". "
          ],
          "name": "stdout"
        },
        {
          "output_type": "stream",
          "text": [
            "\r 28%|██▊       | 179/650 [01:39<04:13,  1.86it/s]"
          ],
          "name": "stderr"
        },
        {
          "output_type": "stream",
          "text": [
            ". "
          ],
          "name": "stdout"
        },
        {
          "output_type": "stream",
          "text": [
            "\r 28%|██▊       | 180/650 [01:39<04:10,  1.88it/s]"
          ],
          "name": "stderr"
        },
        {
          "output_type": "stream",
          "text": [
            ". "
          ],
          "name": "stdout"
        },
        {
          "output_type": "stream",
          "text": [
            "\r 28%|██▊       | 181/650 [01:40<04:11,  1.86it/s]"
          ],
          "name": "stderr"
        },
        {
          "output_type": "stream",
          "text": [
            ". "
          ],
          "name": "stdout"
        },
        {
          "output_type": "stream",
          "text": [
            "\r 28%|██▊       | 182/650 [01:41<04:11,  1.86it/s]"
          ],
          "name": "stderr"
        },
        {
          "output_type": "stream",
          "text": [
            ". "
          ],
          "name": "stdout"
        },
        {
          "output_type": "stream",
          "text": [
            "\r 28%|██▊       | 183/650 [01:41<04:11,  1.85it/s]"
          ],
          "name": "stderr"
        },
        {
          "output_type": "stream",
          "text": [
            ". "
          ],
          "name": "stdout"
        },
        {
          "output_type": "stream",
          "text": [
            "\r 28%|██▊       | 184/650 [01:42<04:12,  1.85it/s]"
          ],
          "name": "stderr"
        },
        {
          "output_type": "stream",
          "text": [
            ". "
          ],
          "name": "stdout"
        },
        {
          "output_type": "stream",
          "text": [
            "\r 28%|██▊       | 185/650 [01:42<04:10,  1.86it/s]"
          ],
          "name": "stderr"
        },
        {
          "output_type": "stream",
          "text": [
            ". "
          ],
          "name": "stdout"
        },
        {
          "output_type": "stream",
          "text": [
            "\r 29%|██▊       | 186/650 [01:43<04:13,  1.83it/s]"
          ],
          "name": "stderr"
        },
        {
          "output_type": "stream",
          "text": [
            ". "
          ],
          "name": "stdout"
        },
        {
          "output_type": "stream",
          "text": [
            "\r 29%|██▉       | 187/650 [01:43<04:08,  1.86it/s]"
          ],
          "name": "stderr"
        },
        {
          "output_type": "stream",
          "text": [
            ". "
          ],
          "name": "stdout"
        },
        {
          "output_type": "stream",
          "text": [
            "\r 29%|██▉       | 188/650 [01:44<04:35,  1.68it/s]"
          ],
          "name": "stderr"
        },
        {
          "output_type": "stream",
          "text": [
            ". "
          ],
          "name": "stdout"
        },
        {
          "output_type": "stream",
          "text": [
            "\r 29%|██▉       | 189/650 [01:45<04:25,  1.73it/s]"
          ],
          "name": "stderr"
        },
        {
          "output_type": "stream",
          "text": [
            ". "
          ],
          "name": "stdout"
        },
        {
          "output_type": "stream",
          "text": [
            "\r 29%|██▉       | 190/650 [01:45<04:17,  1.79it/s]"
          ],
          "name": "stderr"
        },
        {
          "output_type": "stream",
          "text": [
            ". "
          ],
          "name": "stdout"
        },
        {
          "output_type": "stream",
          "text": [
            "\r 29%|██▉       | 191/650 [01:46<04:13,  1.81it/s]"
          ],
          "name": "stderr"
        },
        {
          "output_type": "stream",
          "text": [
            ". "
          ],
          "name": "stdout"
        },
        {
          "output_type": "stream",
          "text": [
            "\r 30%|██▉       | 192/650 [01:46<04:10,  1.83it/s]"
          ],
          "name": "stderr"
        },
        {
          "output_type": "stream",
          "text": [
            ". "
          ],
          "name": "stdout"
        },
        {
          "output_type": "stream",
          "text": [
            "\r 30%|██▉       | 193/650 [01:47<04:05,  1.86it/s]"
          ],
          "name": "stderr"
        },
        {
          "output_type": "stream",
          "text": [
            ". "
          ],
          "name": "stdout"
        },
        {
          "output_type": "stream",
          "text": [
            "\r 30%|██▉       | 194/650 [01:47<04:08,  1.84it/s]"
          ],
          "name": "stderr"
        },
        {
          "output_type": "stream",
          "text": [
            ". "
          ],
          "name": "stdout"
        },
        {
          "output_type": "stream",
          "text": [
            "\r 30%|███       | 195/650 [01:48<04:06,  1.85it/s]"
          ],
          "name": "stderr"
        },
        {
          "output_type": "stream",
          "text": [
            ". "
          ],
          "name": "stdout"
        },
        {
          "output_type": "stream",
          "text": [
            "\r 30%|███       | 196/650 [01:48<04:01,  1.88it/s]"
          ],
          "name": "stderr"
        },
        {
          "output_type": "stream",
          "text": [
            ". "
          ],
          "name": "stdout"
        },
        {
          "output_type": "stream",
          "text": [
            "\r 30%|███       | 197/650 [01:49<04:01,  1.88it/s]"
          ],
          "name": "stderr"
        },
        {
          "output_type": "stream",
          "text": [
            ". "
          ],
          "name": "stdout"
        },
        {
          "output_type": "stream",
          "text": [
            "\r 30%|███       | 198/650 [01:49<03:58,  1.89it/s]"
          ],
          "name": "stderr"
        },
        {
          "output_type": "stream",
          "text": [
            ". "
          ],
          "name": "stdout"
        },
        {
          "output_type": "stream",
          "text": [
            "\r 31%|███       | 199/650 [01:50<04:04,  1.84it/s]"
          ],
          "name": "stderr"
        },
        {
          "output_type": "stream",
          "text": [
            ". "
          ],
          "name": "stdout"
        },
        {
          "output_type": "stream",
          "text": [
            "\r 31%|███       | 200/650 [01:50<04:05,  1.84it/s]"
          ],
          "name": "stderr"
        },
        {
          "output_type": "stream",
          "text": [
            ". "
          ],
          "name": "stdout"
        },
        {
          "output_type": "stream",
          "text": [
            "\r 31%|███       | 201/650 [01:51<04:01,  1.86it/s]"
          ],
          "name": "stderr"
        },
        {
          "output_type": "stream",
          "text": [
            ". "
          ],
          "name": "stdout"
        },
        {
          "output_type": "stream",
          "text": [
            "\r 31%|███       | 202/650 [01:51<04:00,  1.86it/s]"
          ],
          "name": "stderr"
        },
        {
          "output_type": "stream",
          "text": [
            ". "
          ],
          "name": "stdout"
        },
        {
          "output_type": "stream",
          "text": [
            "\r 31%|███       | 203/650 [01:52<04:00,  1.86it/s]"
          ],
          "name": "stderr"
        },
        {
          "output_type": "stream",
          "text": [
            ". "
          ],
          "name": "stdout"
        },
        {
          "output_type": "stream",
          "text": [
            "\r 31%|███▏      | 204/650 [01:53<03:57,  1.88it/s]"
          ],
          "name": "stderr"
        },
        {
          "output_type": "stream",
          "text": [
            ". "
          ],
          "name": "stdout"
        },
        {
          "output_type": "stream",
          "text": [
            "\r 32%|███▏      | 205/650 [01:53<03:57,  1.87it/s]"
          ],
          "name": "stderr"
        },
        {
          "output_type": "stream",
          "text": [
            ". "
          ],
          "name": "stdout"
        },
        {
          "output_type": "stream",
          "text": [
            "\r 32%|███▏      | 206/650 [01:54<03:54,  1.89it/s]"
          ],
          "name": "stderr"
        },
        {
          "output_type": "stream",
          "text": [
            ". "
          ],
          "name": "stdout"
        },
        {
          "output_type": "stream",
          "text": [
            "\r 32%|███▏      | 207/650 [01:54<03:54,  1.89it/s]"
          ],
          "name": "stderr"
        },
        {
          "output_type": "stream",
          "text": [
            ". "
          ],
          "name": "stdout"
        },
        {
          "output_type": "stream",
          "text": [
            "\r 32%|███▏      | 208/650 [01:55<03:50,  1.92it/s]"
          ],
          "name": "stderr"
        },
        {
          "output_type": "stream",
          "text": [
            ". "
          ],
          "name": "stdout"
        },
        {
          "output_type": "stream",
          "text": [
            "\r 32%|███▏      | 209/650 [01:55<03:51,  1.90it/s]"
          ],
          "name": "stderr"
        },
        {
          "output_type": "stream",
          "text": [
            ". "
          ],
          "name": "stdout"
        },
        {
          "output_type": "stream",
          "text": [
            "\r 32%|███▏      | 210/650 [01:56<04:30,  1.63it/s]"
          ],
          "name": "stderr"
        },
        {
          "output_type": "stream",
          "text": [
            ". "
          ],
          "name": "stdout"
        },
        {
          "output_type": "stream",
          "text": [
            "\r 32%|███▏      | 211/650 [01:56<04:18,  1.70it/s]"
          ],
          "name": "stderr"
        },
        {
          "output_type": "stream",
          "text": [
            ". "
          ],
          "name": "stdout"
        },
        {
          "output_type": "stream",
          "text": [
            "\r 33%|███▎      | 212/650 [01:57<04:18,  1.69it/s]"
          ],
          "name": "stderr"
        },
        {
          "output_type": "stream",
          "text": [
            ". "
          ],
          "name": "stdout"
        },
        {
          "output_type": "stream",
          "text": [
            "\r 33%|███▎      | 213/650 [01:58<04:13,  1.72it/s]"
          ],
          "name": "stderr"
        },
        {
          "output_type": "stream",
          "text": [
            ". "
          ],
          "name": "stdout"
        },
        {
          "output_type": "stream",
          "text": [
            "\r 33%|███▎      | 214/650 [01:58<04:06,  1.77it/s]"
          ],
          "name": "stderr"
        },
        {
          "output_type": "stream",
          "text": [
            ". "
          ],
          "name": "stdout"
        },
        {
          "output_type": "stream",
          "text": [
            "\r 33%|███▎      | 215/650 [01:59<04:00,  1.81it/s]"
          ],
          "name": "stderr"
        },
        {
          "output_type": "stream",
          "text": [
            ". "
          ],
          "name": "stdout"
        },
        {
          "output_type": "stream",
          "text": [
            "\r 33%|███▎      | 216/650 [01:59<03:59,  1.81it/s]"
          ],
          "name": "stderr"
        },
        {
          "output_type": "stream",
          "text": [
            ". "
          ],
          "name": "stdout"
        },
        {
          "output_type": "stream",
          "text": [
            "\r 33%|███▎      | 217/650 [02:00<03:54,  1.85it/s]"
          ],
          "name": "stderr"
        },
        {
          "output_type": "stream",
          "text": [
            ". "
          ],
          "name": "stdout"
        },
        {
          "output_type": "stream",
          "text": [
            "\r 34%|███▎      | 218/650 [02:00<04:03,  1.78it/s]"
          ],
          "name": "stderr"
        },
        {
          "output_type": "stream",
          "text": [
            ". "
          ],
          "name": "stdout"
        },
        {
          "output_type": "stream",
          "text": [
            "\r 34%|███▎      | 219/650 [02:01<03:58,  1.80it/s]"
          ],
          "name": "stderr"
        },
        {
          "output_type": "stream",
          "text": [
            ". "
          ],
          "name": "stdout"
        },
        {
          "output_type": "stream",
          "text": [
            "\r 34%|███▍      | 220/650 [02:02<04:16,  1.68it/s]"
          ],
          "name": "stderr"
        },
        {
          "output_type": "stream",
          "text": [
            ". "
          ],
          "name": "stdout"
        },
        {
          "output_type": "stream",
          "text": [
            "\r 34%|███▍      | 221/650 [02:02<04:09,  1.72it/s]"
          ],
          "name": "stderr"
        },
        {
          "output_type": "stream",
          "text": [
            ". "
          ],
          "name": "stdout"
        },
        {
          "output_type": "stream",
          "text": [
            "\r 34%|███▍      | 222/650 [02:03<04:06,  1.74it/s]"
          ],
          "name": "stderr"
        },
        {
          "output_type": "stream",
          "text": [
            ". "
          ],
          "name": "stdout"
        },
        {
          "output_type": "stream",
          "text": [
            "\r 34%|███▍      | 223/650 [02:03<04:00,  1.77it/s]"
          ],
          "name": "stderr"
        },
        {
          "output_type": "stream",
          "text": [
            ". "
          ],
          "name": "stdout"
        },
        {
          "output_type": "stream",
          "text": [
            "\r 34%|███▍      | 224/650 [02:04<03:55,  1.81it/s]"
          ],
          "name": "stderr"
        },
        {
          "output_type": "stream",
          "text": [
            ". "
          ],
          "name": "stdout"
        },
        {
          "output_type": "stream",
          "text": [
            "\r 35%|███▍      | 225/650 [02:04<03:52,  1.83it/s]"
          ],
          "name": "stderr"
        },
        {
          "output_type": "stream",
          "text": [
            ". "
          ],
          "name": "stdout"
        },
        {
          "output_type": "stream",
          "text": [
            "\r 35%|███▍      | 226/650 [02:05<03:49,  1.85it/s]"
          ],
          "name": "stderr"
        },
        {
          "output_type": "stream",
          "text": [
            ". "
          ],
          "name": "stdout"
        },
        {
          "output_type": "stream",
          "text": [
            "\r 35%|███▍      | 227/650 [02:05<03:45,  1.88it/s]"
          ],
          "name": "stderr"
        },
        {
          "output_type": "stream",
          "text": [
            ". "
          ],
          "name": "stdout"
        },
        {
          "output_type": "stream",
          "text": [
            "\r 35%|███▌      | 228/650 [02:06<03:46,  1.86it/s]"
          ],
          "name": "stderr"
        },
        {
          "output_type": "stream",
          "text": [
            ". "
          ],
          "name": "stdout"
        },
        {
          "output_type": "stream",
          "text": [
            "\r 35%|███▌      | 229/650 [02:06<03:53,  1.81it/s]"
          ],
          "name": "stderr"
        },
        {
          "output_type": "stream",
          "text": [
            ". "
          ],
          "name": "stdout"
        },
        {
          "output_type": "stream",
          "text": [
            "\r 35%|███▌      | 230/650 [02:07<03:54,  1.79it/s]"
          ],
          "name": "stderr"
        },
        {
          "output_type": "stream",
          "text": [
            ". "
          ],
          "name": "stdout"
        },
        {
          "output_type": "stream",
          "text": [
            "\r 36%|███▌      | 231/650 [02:08<03:49,  1.83it/s]"
          ],
          "name": "stderr"
        },
        {
          "output_type": "stream",
          "text": [
            ". "
          ],
          "name": "stdout"
        },
        {
          "output_type": "stream",
          "text": [
            "\r 36%|███▌      | 232/650 [02:08<03:45,  1.86it/s]"
          ],
          "name": "stderr"
        },
        {
          "output_type": "stream",
          "text": [
            ". "
          ],
          "name": "stdout"
        },
        {
          "output_type": "stream",
          "text": [
            "\r 36%|███▌      | 233/650 [02:09<03:42,  1.87it/s]"
          ],
          "name": "stderr"
        },
        {
          "output_type": "stream",
          "text": [
            ". "
          ],
          "name": "stdout"
        },
        {
          "output_type": "stream",
          "text": [
            "\r 36%|███▌      | 234/650 [02:09<03:41,  1.88it/s]"
          ],
          "name": "stderr"
        },
        {
          "output_type": "stream",
          "text": [
            ". "
          ],
          "name": "stdout"
        },
        {
          "output_type": "stream",
          "text": [
            "\r 36%|███▌      | 235/650 [02:10<03:42,  1.86it/s]"
          ],
          "name": "stderr"
        },
        {
          "output_type": "stream",
          "text": [
            ". "
          ],
          "name": "stdout"
        },
        {
          "output_type": "stream",
          "text": [
            "\r 36%|███▋      | 236/650 [02:10<03:40,  1.88it/s]"
          ],
          "name": "stderr"
        },
        {
          "output_type": "stream",
          "text": [
            ". "
          ],
          "name": "stdout"
        },
        {
          "output_type": "stream",
          "text": [
            "\r 36%|███▋      | 237/650 [02:11<03:38,  1.89it/s]"
          ],
          "name": "stderr"
        },
        {
          "output_type": "stream",
          "text": [
            ". "
          ],
          "name": "stdout"
        },
        {
          "output_type": "stream",
          "text": [
            "\r 37%|███▋      | 238/650 [02:11<03:47,  1.81it/s]"
          ],
          "name": "stderr"
        },
        {
          "output_type": "stream",
          "text": [
            ". "
          ],
          "name": "stdout"
        },
        {
          "output_type": "stream",
          "text": [
            "\r 37%|███▋      | 239/650 [02:12<03:45,  1.82it/s]"
          ],
          "name": "stderr"
        },
        {
          "output_type": "stream",
          "text": [
            ". "
          ],
          "name": "stdout"
        },
        {
          "output_type": "stream",
          "text": [
            "\r 37%|███▋      | 240/650 [02:12<03:46,  1.81it/s]"
          ],
          "name": "stderr"
        },
        {
          "output_type": "stream",
          "text": [
            ". "
          ],
          "name": "stdout"
        },
        {
          "output_type": "stream",
          "text": [
            "\r 37%|███▋      | 241/650 [02:13<03:44,  1.82it/s]"
          ],
          "name": "stderr"
        },
        {
          "output_type": "stream",
          "text": [
            ". "
          ],
          "name": "stdout"
        },
        {
          "output_type": "stream",
          "text": [
            "\r 37%|███▋      | 242/650 [02:14<03:42,  1.83it/s]"
          ],
          "name": "stderr"
        },
        {
          "output_type": "stream",
          "text": [
            ". "
          ],
          "name": "stdout"
        },
        {
          "output_type": "stream",
          "text": [
            "\r 37%|███▋      | 243/650 [02:14<03:42,  1.83it/s]"
          ],
          "name": "stderr"
        },
        {
          "output_type": "stream",
          "text": [
            ". "
          ],
          "name": "stdout"
        },
        {
          "output_type": "stream",
          "text": [
            "\r 38%|███▊      | 244/650 [02:15<03:46,  1.79it/s]"
          ],
          "name": "stderr"
        },
        {
          "output_type": "stream",
          "text": [
            ". "
          ],
          "name": "stdout"
        },
        {
          "output_type": "stream",
          "text": [
            "\r 38%|███▊      | 245/650 [02:15<03:44,  1.81it/s]"
          ],
          "name": "stderr"
        },
        {
          "output_type": "stream",
          "text": [
            ". "
          ],
          "name": "stdout"
        },
        {
          "output_type": "stream",
          "text": [
            "\r 38%|███▊      | 246/650 [02:16<03:41,  1.83it/s]"
          ],
          "name": "stderr"
        },
        {
          "output_type": "stream",
          "text": [
            ". "
          ],
          "name": "stdout"
        },
        {
          "output_type": "stream",
          "text": [
            "\r 38%|███▊      | 247/650 [02:16<03:38,  1.84it/s]"
          ],
          "name": "stderr"
        },
        {
          "output_type": "stream",
          "text": [
            ". "
          ],
          "name": "stdout"
        },
        {
          "output_type": "stream",
          "text": [
            "\r 38%|███▊      | 248/650 [02:17<03:35,  1.86it/s]"
          ],
          "name": "stderr"
        },
        {
          "output_type": "stream",
          "text": [
            ". "
          ],
          "name": "stdout"
        },
        {
          "output_type": "stream",
          "text": [
            "\r 38%|███▊      | 249/650 [02:17<03:33,  1.88it/s]"
          ],
          "name": "stderr"
        },
        {
          "output_type": "stream",
          "text": [
            ". "
          ],
          "name": "stdout"
        },
        {
          "output_type": "stream",
          "text": [
            "\r 38%|███▊      | 250/650 [02:18<03:35,  1.86it/s]"
          ],
          "name": "stderr"
        },
        {
          "output_type": "stream",
          "text": [
            ". "
          ],
          "name": "stdout"
        },
        {
          "output_type": "stream",
          "text": [
            "\r 39%|███▊      | 251/650 [02:18<03:33,  1.87it/s]"
          ],
          "name": "stderr"
        },
        {
          "output_type": "stream",
          "text": [
            ". "
          ],
          "name": "stdout"
        },
        {
          "output_type": "stream",
          "text": [
            "\r 39%|███▉      | 252/650 [02:19<03:32,  1.87it/s]"
          ],
          "name": "stderr"
        },
        {
          "output_type": "stream",
          "text": [
            ". "
          ],
          "name": "stdout"
        },
        {
          "output_type": "stream",
          "text": [
            "\r 39%|███▉      | 253/650 [02:19<03:29,  1.89it/s]"
          ],
          "name": "stderr"
        },
        {
          "output_type": "stream",
          "text": [
            ". "
          ],
          "name": "stdout"
        },
        {
          "output_type": "stream",
          "text": [
            "\r 39%|███▉      | 254/650 [02:20<03:50,  1.72it/s]"
          ],
          "name": "stderr"
        },
        {
          "output_type": "stream",
          "text": [
            ". "
          ],
          "name": "stdout"
        },
        {
          "output_type": "stream",
          "text": [
            "\r 39%|███▉      | 255/650 [02:21<03:44,  1.76it/s]"
          ],
          "name": "stderr"
        },
        {
          "output_type": "stream",
          "text": [
            ". "
          ],
          "name": "stdout"
        },
        {
          "output_type": "stream",
          "text": [
            "\r 39%|███▉      | 256/650 [02:21<03:36,  1.82it/s]"
          ],
          "name": "stderr"
        },
        {
          "output_type": "stream",
          "text": [
            ". "
          ],
          "name": "stdout"
        },
        {
          "output_type": "stream",
          "text": [
            "\r 40%|███▉      | 257/650 [02:22<03:30,  1.87it/s]"
          ],
          "name": "stderr"
        },
        {
          "output_type": "stream",
          "text": [
            ". "
          ],
          "name": "stdout"
        },
        {
          "output_type": "stream",
          "text": [
            "\r 40%|███▉      | 258/650 [02:22<03:28,  1.88it/s]"
          ],
          "name": "stderr"
        },
        {
          "output_type": "stream",
          "text": [
            ". "
          ],
          "name": "stdout"
        },
        {
          "output_type": "stream",
          "text": [
            "\r 40%|███▉      | 259/650 [02:23<03:27,  1.88it/s]"
          ],
          "name": "stderr"
        },
        {
          "output_type": "stream",
          "text": [
            ". "
          ],
          "name": "stdout"
        },
        {
          "output_type": "stream",
          "text": [
            "\r 40%|████      | 260/650 [02:23<03:34,  1.82it/s]"
          ],
          "name": "stderr"
        },
        {
          "output_type": "stream",
          "text": [
            ". "
          ],
          "name": "stdout"
        },
        {
          "output_type": "stream",
          "text": [
            "\r 40%|████      | 261/650 [02:24<03:34,  1.81it/s]"
          ],
          "name": "stderr"
        },
        {
          "output_type": "stream",
          "text": [
            ". "
          ],
          "name": "stdout"
        },
        {
          "output_type": "stream",
          "text": [
            "\r 40%|████      | 262/650 [02:24<03:33,  1.82it/s]"
          ],
          "name": "stderr"
        },
        {
          "output_type": "stream",
          "text": [
            ". "
          ],
          "name": "stdout"
        },
        {
          "output_type": "stream",
          "text": [
            "\r 40%|████      | 263/650 [02:25<03:31,  1.83it/s]"
          ],
          "name": "stderr"
        },
        {
          "output_type": "stream",
          "text": [
            ". "
          ],
          "name": "stdout"
        },
        {
          "output_type": "stream",
          "text": [
            "\r 41%|████      | 264/650 [02:26<03:33,  1.81it/s]"
          ],
          "name": "stderr"
        },
        {
          "output_type": "stream",
          "text": [
            ". "
          ],
          "name": "stdout"
        },
        {
          "output_type": "stream",
          "text": [
            "\r 41%|████      | 265/650 [02:26<03:42,  1.73it/s]"
          ],
          "name": "stderr"
        },
        {
          "output_type": "stream",
          "text": [
            ". "
          ],
          "name": "stdout"
        },
        {
          "output_type": "stream",
          "text": [
            "\r 41%|████      | 266/650 [02:27<03:31,  1.81it/s]"
          ],
          "name": "stderr"
        },
        {
          "output_type": "stream",
          "text": [
            ". "
          ],
          "name": "stdout"
        },
        {
          "output_type": "stream",
          "text": [
            "\r 41%|████      | 267/650 [02:27<03:28,  1.83it/s]"
          ],
          "name": "stderr"
        },
        {
          "output_type": "stream",
          "text": [
            ". "
          ],
          "name": "stdout"
        },
        {
          "output_type": "stream",
          "text": [
            "\r 41%|████      | 268/650 [02:28<03:27,  1.84it/s]"
          ],
          "name": "stderr"
        },
        {
          "output_type": "stream",
          "text": [
            ". "
          ],
          "name": "stdout"
        },
        {
          "output_type": "stream",
          "text": [
            "\r 41%|████▏     | 269/650 [02:28<03:30,  1.81it/s]"
          ],
          "name": "stderr"
        },
        {
          "output_type": "stream",
          "text": [
            ". "
          ],
          "name": "stdout"
        },
        {
          "output_type": "stream",
          "text": [
            "\r 42%|████▏     | 270/650 [02:29<03:26,  1.84it/s]"
          ],
          "name": "stderr"
        },
        {
          "output_type": "stream",
          "text": [
            ". "
          ],
          "name": "stdout"
        },
        {
          "output_type": "stream",
          "text": [
            "\r 42%|████▏     | 271/650 [02:29<03:25,  1.84it/s]"
          ],
          "name": "stderr"
        },
        {
          "output_type": "stream",
          "text": [
            ". "
          ],
          "name": "stdout"
        },
        {
          "output_type": "stream",
          "text": [
            "\r 42%|████▏     | 272/650 [02:30<03:26,  1.83it/s]"
          ],
          "name": "stderr"
        },
        {
          "output_type": "stream",
          "text": [
            ". "
          ],
          "name": "stdout"
        },
        {
          "output_type": "stream",
          "text": [
            "\r 42%|████▏     | 273/650 [02:30<03:26,  1.82it/s]"
          ],
          "name": "stderr"
        },
        {
          "output_type": "stream",
          "text": [
            ". "
          ],
          "name": "stdout"
        },
        {
          "output_type": "stream",
          "text": [
            "\r 42%|████▏     | 274/650 [02:31<03:23,  1.84it/s]"
          ],
          "name": "stderr"
        },
        {
          "output_type": "stream",
          "text": [
            ". "
          ],
          "name": "stdout"
        },
        {
          "output_type": "stream",
          "text": [
            "\r 42%|████▏     | 275/650 [02:32<03:21,  1.86it/s]"
          ],
          "name": "stderr"
        },
        {
          "output_type": "stream",
          "text": [
            ". "
          ],
          "name": "stdout"
        },
        {
          "output_type": "stream",
          "text": [
            "\r 42%|████▏     | 276/650 [02:32<03:25,  1.82it/s]"
          ],
          "name": "stderr"
        },
        {
          "output_type": "stream",
          "text": [
            ". "
          ],
          "name": "stdout"
        },
        {
          "output_type": "stream",
          "text": [
            "\r 43%|████▎     | 277/650 [02:33<03:23,  1.83it/s]"
          ],
          "name": "stderr"
        },
        {
          "output_type": "stream",
          "text": [
            ". "
          ],
          "name": "stdout"
        },
        {
          "output_type": "stream",
          "text": [
            "\r 43%|████▎     | 278/650 [02:33<03:18,  1.87it/s]"
          ],
          "name": "stderr"
        },
        {
          "output_type": "stream",
          "text": [
            ". "
          ],
          "name": "stdout"
        },
        {
          "output_type": "stream",
          "text": [
            "\r 43%|████▎     | 279/650 [02:34<03:21,  1.84it/s]"
          ],
          "name": "stderr"
        },
        {
          "output_type": "stream",
          "text": [
            ". "
          ],
          "name": "stdout"
        },
        {
          "output_type": "stream",
          "text": [
            "\r 43%|████▎     | 280/650 [02:34<03:19,  1.85it/s]"
          ],
          "name": "stderr"
        },
        {
          "output_type": "stream",
          "text": [
            ". "
          ],
          "name": "stdout"
        },
        {
          "output_type": "stream",
          "text": [
            "\r 43%|████▎     | 281/650 [02:35<03:18,  1.86it/s]"
          ],
          "name": "stderr"
        },
        {
          "output_type": "stream",
          "text": [
            ". "
          ],
          "name": "stdout"
        },
        {
          "output_type": "stream",
          "text": [
            "\r 43%|████▎     | 282/650 [02:35<03:19,  1.84it/s]"
          ],
          "name": "stderr"
        },
        {
          "output_type": "stream",
          "text": [
            ". "
          ],
          "name": "stdout"
        },
        {
          "output_type": "stream",
          "text": [
            "\r 44%|████▎     | 283/650 [02:36<03:19,  1.84it/s]"
          ],
          "name": "stderr"
        },
        {
          "output_type": "stream",
          "text": [
            ". "
          ],
          "name": "stdout"
        },
        {
          "output_type": "stream",
          "text": [
            "\r 44%|████▎     | 284/650 [02:36<03:21,  1.82it/s]"
          ],
          "name": "stderr"
        },
        {
          "output_type": "stream",
          "text": [
            ". "
          ],
          "name": "stdout"
        },
        {
          "output_type": "stream",
          "text": [
            "\r 44%|████▍     | 285/650 [02:37<03:19,  1.83it/s]"
          ],
          "name": "stderr"
        },
        {
          "output_type": "stream",
          "text": [
            ". "
          ],
          "name": "stdout"
        },
        {
          "output_type": "stream",
          "text": [
            "\r 44%|████▍     | 286/650 [02:38<03:15,  1.86it/s]"
          ],
          "name": "stderr"
        },
        {
          "output_type": "stream",
          "text": [
            ". "
          ],
          "name": "stdout"
        },
        {
          "output_type": "stream",
          "text": [
            "\r 44%|████▍     | 287/650 [02:38<03:13,  1.87it/s]"
          ],
          "name": "stderr"
        },
        {
          "output_type": "stream",
          "text": [
            ". "
          ],
          "name": "stdout"
        },
        {
          "output_type": "stream",
          "text": [
            "\r 44%|████▍     | 288/650 [02:39<03:15,  1.85it/s]"
          ],
          "name": "stderr"
        },
        {
          "output_type": "stream",
          "text": [
            ". "
          ],
          "name": "stdout"
        },
        {
          "output_type": "stream",
          "text": [
            "\r 44%|████▍     | 289/650 [02:39<03:10,  1.90it/s]"
          ],
          "name": "stderr"
        },
        {
          "output_type": "stream",
          "text": [
            ". "
          ],
          "name": "stdout"
        },
        {
          "output_type": "stream",
          "text": [
            "\r 45%|████▍     | 290/650 [02:40<03:06,  1.93it/s]"
          ],
          "name": "stderr"
        },
        {
          "output_type": "stream",
          "text": [
            ". "
          ],
          "name": "stdout"
        },
        {
          "output_type": "stream",
          "text": [
            "\r 45%|████▍     | 291/650 [02:40<03:07,  1.92it/s]"
          ],
          "name": "stderr"
        },
        {
          "output_type": "stream",
          "text": [
            ". "
          ],
          "name": "stdout"
        },
        {
          "output_type": "stream",
          "text": [
            "\r 45%|████▍     | 292/650 [02:41<03:08,  1.90it/s]"
          ],
          "name": "stderr"
        },
        {
          "output_type": "stream",
          "text": [
            ". "
          ],
          "name": "stdout"
        },
        {
          "output_type": "stream",
          "text": [
            "\r 45%|████▌     | 293/650 [02:41<03:08,  1.89it/s]"
          ],
          "name": "stderr"
        },
        {
          "output_type": "stream",
          "text": [
            ". "
          ],
          "name": "stdout"
        },
        {
          "output_type": "stream",
          "text": [
            "\r 45%|████▌     | 294/650 [02:42<03:09,  1.88it/s]"
          ],
          "name": "stderr"
        },
        {
          "output_type": "stream",
          "text": [
            ". "
          ],
          "name": "stdout"
        },
        {
          "output_type": "stream",
          "text": [
            "\r 45%|████▌     | 295/650 [02:42<03:07,  1.90it/s]"
          ],
          "name": "stderr"
        },
        {
          "output_type": "stream",
          "text": [
            ". "
          ],
          "name": "stdout"
        },
        {
          "output_type": "stream",
          "text": [
            "\r 46%|████▌     | 296/650 [02:43<03:08,  1.87it/s]"
          ],
          "name": "stderr"
        },
        {
          "output_type": "stream",
          "text": [
            ". "
          ],
          "name": "stdout"
        },
        {
          "output_type": "stream",
          "text": [
            "\r 46%|████▌     | 297/650 [02:43<03:07,  1.89it/s]"
          ],
          "name": "stderr"
        },
        {
          "output_type": "stream",
          "text": [
            ". "
          ],
          "name": "stdout"
        },
        {
          "output_type": "stream",
          "text": [
            "\r 46%|████▌     | 298/650 [02:44<03:10,  1.85it/s]"
          ],
          "name": "stderr"
        },
        {
          "output_type": "stream",
          "text": [
            ". "
          ],
          "name": "stdout"
        },
        {
          "output_type": "stream",
          "text": [
            "\r 46%|████▌     | 299/650 [02:44<03:06,  1.88it/s]"
          ],
          "name": "stderr"
        },
        {
          "output_type": "stream",
          "text": [
            ". "
          ],
          "name": "stdout"
        },
        {
          "output_type": "stream",
          "text": [
            "\r 46%|████▌     | 300/650 [02:45<03:04,  1.90it/s]"
          ],
          "name": "stderr"
        },
        {
          "output_type": "stream",
          "text": [
            ". "
          ],
          "name": "stdout"
        },
        {
          "output_type": "stream",
          "text": [
            "\r 46%|████▋     | 301/650 [02:45<03:03,  1.90it/s]"
          ],
          "name": "stderr"
        },
        {
          "output_type": "stream",
          "text": [
            ". "
          ],
          "name": "stdout"
        },
        {
          "output_type": "stream",
          "text": [
            "\r 46%|████▋     | 302/650 [02:46<03:09,  1.83it/s]"
          ],
          "name": "stderr"
        },
        {
          "output_type": "stream",
          "text": [
            ". "
          ],
          "name": "stdout"
        },
        {
          "output_type": "stream",
          "text": [
            "\r 47%|████▋     | 303/650 [02:47<03:14,  1.78it/s]"
          ],
          "name": "stderr"
        },
        {
          "output_type": "stream",
          "text": [
            ". "
          ],
          "name": "stdout"
        },
        {
          "output_type": "stream",
          "text": [
            "\r 47%|████▋     | 304/650 [02:47<03:10,  1.82it/s]"
          ],
          "name": "stderr"
        },
        {
          "output_type": "stream",
          "text": [
            ". "
          ],
          "name": "stdout"
        },
        {
          "output_type": "stream",
          "text": [
            "\r 47%|████▋     | 305/650 [02:48<03:07,  1.84it/s]"
          ],
          "name": "stderr"
        },
        {
          "output_type": "stream",
          "text": [
            ". "
          ],
          "name": "stdout"
        },
        {
          "output_type": "stream",
          "text": [
            "\r 47%|████▋     | 306/650 [02:48<03:05,  1.86it/s]"
          ],
          "name": "stderr"
        },
        {
          "output_type": "stream",
          "text": [
            ". "
          ],
          "name": "stdout"
        },
        {
          "output_type": "stream",
          "text": [
            "\r 47%|████▋     | 307/650 [02:49<03:02,  1.88it/s]"
          ],
          "name": "stderr"
        },
        {
          "output_type": "stream",
          "text": [
            ". "
          ],
          "name": "stdout"
        },
        {
          "output_type": "stream",
          "text": [
            "\r 47%|████▋     | 308/650 [02:49<03:01,  1.88it/s]"
          ],
          "name": "stderr"
        },
        {
          "output_type": "stream",
          "text": [
            ". "
          ],
          "name": "stdout"
        },
        {
          "output_type": "stream",
          "text": [
            "\r 48%|████▊     | 309/650 [02:50<03:00,  1.89it/s]"
          ],
          "name": "stderr"
        },
        {
          "output_type": "stream",
          "text": [
            ". "
          ],
          "name": "stdout"
        },
        {
          "output_type": "stream",
          "text": [
            "\r 48%|████▊     | 310/650 [02:50<03:00,  1.89it/s]"
          ],
          "name": "stderr"
        },
        {
          "output_type": "stream",
          "text": [
            ". "
          ],
          "name": "stdout"
        },
        {
          "output_type": "stream",
          "text": [
            "\r 48%|████▊     | 311/650 [02:51<03:01,  1.87it/s]"
          ],
          "name": "stderr"
        },
        {
          "output_type": "stream",
          "text": [
            ". "
          ],
          "name": "stdout"
        },
        {
          "output_type": "stream",
          "text": [
            "\r 48%|████▊     | 312/650 [02:51<02:59,  1.88it/s]"
          ],
          "name": "stderr"
        },
        {
          "output_type": "stream",
          "text": [
            ". "
          ],
          "name": "stdout"
        },
        {
          "output_type": "stream",
          "text": [
            "\r 48%|████▊     | 313/650 [02:52<02:58,  1.89it/s]"
          ],
          "name": "stderr"
        },
        {
          "output_type": "stream",
          "text": [
            ". "
          ],
          "name": "stdout"
        },
        {
          "output_type": "stream",
          "text": [
            "\r 48%|████▊     | 314/650 [02:52<03:02,  1.84it/s]"
          ],
          "name": "stderr"
        },
        {
          "output_type": "stream",
          "text": [
            ". "
          ],
          "name": "stdout"
        },
        {
          "output_type": "stream",
          "text": [
            "\r 48%|████▊     | 315/650 [02:53<03:05,  1.80it/s]"
          ],
          "name": "stderr"
        },
        {
          "output_type": "stream",
          "text": [
            ". "
          ],
          "name": "stdout"
        },
        {
          "output_type": "stream",
          "text": [
            "\r 49%|████▊     | 316/650 [02:54<03:02,  1.83it/s]"
          ],
          "name": "stderr"
        },
        {
          "output_type": "stream",
          "text": [
            ". "
          ],
          "name": "stdout"
        },
        {
          "output_type": "stream",
          "text": [
            "\r 49%|████▉     | 317/650 [02:54<02:59,  1.85it/s]"
          ],
          "name": "stderr"
        },
        {
          "output_type": "stream",
          "text": [
            ". "
          ],
          "name": "stdout"
        },
        {
          "output_type": "stream",
          "text": [
            "\r 49%|████▉     | 318/650 [02:55<02:58,  1.86it/s]"
          ],
          "name": "stderr"
        },
        {
          "output_type": "stream",
          "text": [
            ". "
          ],
          "name": "stdout"
        },
        {
          "output_type": "stream",
          "text": [
            "\r 49%|████▉     | 319/650 [02:55<03:08,  1.75it/s]"
          ],
          "name": "stderr"
        },
        {
          "output_type": "stream",
          "text": [
            ". "
          ],
          "name": "stdout"
        },
        {
          "output_type": "stream",
          "text": [
            "\r 49%|████▉     | 320/650 [02:56<03:00,  1.82it/s]"
          ],
          "name": "stderr"
        },
        {
          "output_type": "stream",
          "text": [
            ". "
          ],
          "name": "stdout"
        },
        {
          "output_type": "stream",
          "text": [
            "\r 49%|████▉     | 321/650 [02:56<03:00,  1.83it/s]"
          ],
          "name": "stderr"
        },
        {
          "output_type": "stream",
          "text": [
            ". "
          ],
          "name": "stdout"
        },
        {
          "output_type": "stream",
          "text": [
            "\r 50%|████▉     | 322/650 [02:57<02:58,  1.83it/s]"
          ],
          "name": "stderr"
        },
        {
          "output_type": "stream",
          "text": [
            ". "
          ],
          "name": "stdout"
        },
        {
          "output_type": "stream",
          "text": [
            "\r 50%|████▉     | 323/650 [02:57<02:56,  1.85it/s]"
          ],
          "name": "stderr"
        },
        {
          "output_type": "stream",
          "text": [
            ". "
          ],
          "name": "stdout"
        },
        {
          "output_type": "stream",
          "text": [
            "\r 50%|████▉     | 324/650 [02:58<02:54,  1.87it/s]"
          ],
          "name": "stderr"
        },
        {
          "output_type": "stream",
          "text": [
            ". "
          ],
          "name": "stdout"
        },
        {
          "output_type": "stream",
          "text": [
            "\r 50%|█████     | 325/650 [02:58<02:54,  1.87it/s]"
          ],
          "name": "stderr"
        },
        {
          "output_type": "stream",
          "text": [
            ". "
          ],
          "name": "stdout"
        },
        {
          "output_type": "stream",
          "text": [
            "\r 50%|█████     | 326/650 [02:59<02:55,  1.85it/s]"
          ],
          "name": "stderr"
        },
        {
          "output_type": "stream",
          "text": [
            ". "
          ],
          "name": "stdout"
        },
        {
          "output_type": "stream",
          "text": [
            "\r 50%|█████     | 327/650 [03:00<02:53,  1.86it/s]"
          ],
          "name": "stderr"
        },
        {
          "output_type": "stream",
          "text": [
            ". "
          ],
          "name": "stdout"
        },
        {
          "output_type": "stream",
          "text": [
            "\r 50%|█████     | 328/650 [03:00<02:54,  1.85it/s]"
          ],
          "name": "stderr"
        },
        {
          "output_type": "stream",
          "text": [
            ". "
          ],
          "name": "stdout"
        },
        {
          "output_type": "stream",
          "text": [
            "\r 51%|█████     | 329/650 [03:01<03:00,  1.77it/s]"
          ],
          "name": "stderr"
        },
        {
          "output_type": "stream",
          "text": [
            ". "
          ],
          "name": "stdout"
        },
        {
          "output_type": "stream",
          "text": [
            "\r 51%|█████     | 330/650 [03:01<02:56,  1.81it/s]"
          ],
          "name": "stderr"
        },
        {
          "output_type": "stream",
          "text": [
            ". "
          ],
          "name": "stdout"
        },
        {
          "output_type": "stream",
          "text": [
            "\r 51%|█████     | 331/650 [03:02<02:53,  1.84it/s]"
          ],
          "name": "stderr"
        },
        {
          "output_type": "stream",
          "text": [
            ". "
          ],
          "name": "stdout"
        },
        {
          "output_type": "stream",
          "text": [
            "\r 51%|█████     | 332/650 [03:02<02:50,  1.86it/s]"
          ],
          "name": "stderr"
        },
        {
          "output_type": "stream",
          "text": [
            ". "
          ],
          "name": "stdout"
        },
        {
          "output_type": "stream",
          "text": [
            "\r 51%|█████     | 333/650 [03:03<02:55,  1.80it/s]"
          ],
          "name": "stderr"
        },
        {
          "output_type": "stream",
          "text": [
            ". "
          ],
          "name": "stdout"
        },
        {
          "output_type": "stream",
          "text": [
            "\r 51%|█████▏    | 334/650 [03:03<02:46,  1.90it/s]"
          ],
          "name": "stderr"
        },
        {
          "output_type": "stream",
          "text": [
            ". "
          ],
          "name": "stdout"
        },
        {
          "output_type": "stream",
          "text": [
            "\r 52%|█████▏    | 335/650 [03:04<02:45,  1.91it/s]"
          ],
          "name": "stderr"
        },
        {
          "output_type": "stream",
          "text": [
            ". "
          ],
          "name": "stdout"
        },
        {
          "output_type": "stream",
          "text": [
            "\r 52%|█████▏    | 336/650 [03:04<02:45,  1.90it/s]"
          ],
          "name": "stderr"
        },
        {
          "output_type": "stream",
          "text": [
            ". "
          ],
          "name": "stdout"
        },
        {
          "output_type": "stream",
          "text": [
            "\r 52%|█████▏    | 337/650 [03:05<02:49,  1.85it/s]"
          ],
          "name": "stderr"
        },
        {
          "output_type": "stream",
          "text": [
            ". "
          ],
          "name": "stdout"
        },
        {
          "output_type": "stream",
          "text": [
            "\r 52%|█████▏    | 338/650 [03:05<02:48,  1.85it/s]"
          ],
          "name": "stderr"
        },
        {
          "output_type": "stream",
          "text": [
            ". "
          ],
          "name": "stdout"
        },
        {
          "output_type": "stream",
          "text": [
            "\r 52%|█████▏    | 339/650 [03:06<02:46,  1.86it/s]"
          ],
          "name": "stderr"
        },
        {
          "output_type": "stream",
          "text": [
            ". "
          ],
          "name": "stdout"
        },
        {
          "output_type": "stream",
          "text": [
            "\r 52%|█████▏    | 340/650 [03:07<02:45,  1.88it/s]"
          ],
          "name": "stderr"
        },
        {
          "output_type": "stream",
          "text": [
            ". "
          ],
          "name": "stdout"
        },
        {
          "output_type": "stream",
          "text": [
            "\r 52%|█████▏    | 341/650 [03:07<02:46,  1.86it/s]"
          ],
          "name": "stderr"
        },
        {
          "output_type": "stream",
          "text": [
            ". "
          ],
          "name": "stdout"
        },
        {
          "output_type": "stream",
          "text": [
            "\r 53%|█████▎    | 342/650 [03:08<02:43,  1.88it/s]"
          ],
          "name": "stderr"
        },
        {
          "output_type": "stream",
          "text": [
            ". "
          ],
          "name": "stdout"
        },
        {
          "output_type": "stream",
          "text": [
            "\r 53%|█████▎    | 343/650 [03:08<02:43,  1.87it/s]"
          ],
          "name": "stderr"
        },
        {
          "output_type": "stream",
          "text": [
            ". "
          ],
          "name": "stdout"
        },
        {
          "output_type": "stream",
          "text": [
            "\r 53%|█████▎    | 344/650 [03:09<02:43,  1.87it/s]"
          ],
          "name": "stderr"
        },
        {
          "output_type": "stream",
          "text": [
            ". "
          ],
          "name": "stdout"
        },
        {
          "output_type": "stream",
          "text": [
            "\r 53%|█████▎    | 345/650 [03:09<02:44,  1.85it/s]"
          ],
          "name": "stderr"
        },
        {
          "output_type": "stream",
          "text": [
            ". "
          ],
          "name": "stdout"
        },
        {
          "output_type": "stream",
          "text": [
            "\r 53%|█████▎    | 346/650 [03:10<02:44,  1.84it/s]"
          ],
          "name": "stderr"
        },
        {
          "output_type": "stream",
          "text": [
            ". "
          ],
          "name": "stdout"
        },
        {
          "output_type": "stream",
          "text": [
            "\r 53%|█████▎    | 347/650 [03:10<02:43,  1.85it/s]"
          ],
          "name": "stderr"
        },
        {
          "output_type": "stream",
          "text": [
            ". "
          ],
          "name": "stdout"
        },
        {
          "output_type": "stream",
          "text": [
            "\r 54%|█████▎    | 348/650 [03:11<02:43,  1.84it/s]"
          ],
          "name": "stderr"
        },
        {
          "output_type": "stream",
          "text": [
            ". "
          ],
          "name": "stdout"
        },
        {
          "output_type": "stream",
          "text": [
            "\r 54%|█████▎    | 349/650 [03:11<02:43,  1.84it/s]"
          ],
          "name": "stderr"
        },
        {
          "output_type": "stream",
          "text": [
            ". "
          ],
          "name": "stdout"
        },
        {
          "output_type": "stream",
          "text": [
            "\r 54%|█████▍    | 350/650 [03:12<02:42,  1.84it/s]"
          ],
          "name": "stderr"
        },
        {
          "output_type": "stream",
          "text": [
            ". "
          ],
          "name": "stdout"
        },
        {
          "output_type": "stream",
          "text": [
            "\r 54%|█████▍    | 351/650 [03:12<02:42,  1.85it/s]"
          ],
          "name": "stderr"
        },
        {
          "output_type": "stream",
          "text": [
            ". "
          ],
          "name": "stdout"
        },
        {
          "output_type": "stream",
          "text": [
            "\r 54%|█████▍    | 352/650 [03:13<02:39,  1.87it/s]"
          ],
          "name": "stderr"
        },
        {
          "output_type": "stream",
          "text": [
            ". "
          ],
          "name": "stdout"
        },
        {
          "output_type": "stream",
          "text": [
            "\r 54%|█████▍    | 353/650 [03:14<02:38,  1.88it/s]"
          ],
          "name": "stderr"
        },
        {
          "output_type": "stream",
          "text": [
            ". "
          ],
          "name": "stdout"
        },
        {
          "output_type": "stream",
          "text": [
            "\r 54%|█████▍    | 354/650 [03:14<02:39,  1.86it/s]"
          ],
          "name": "stderr"
        },
        {
          "output_type": "stream",
          "text": [
            ". "
          ],
          "name": "stdout"
        },
        {
          "output_type": "stream",
          "text": [
            "\r 55%|█████▍    | 355/650 [03:15<02:37,  1.88it/s]"
          ],
          "name": "stderr"
        },
        {
          "output_type": "stream",
          "text": [
            ". "
          ],
          "name": "stdout"
        },
        {
          "output_type": "stream",
          "text": [
            "\r 55%|█████▍    | 356/650 [03:15<02:34,  1.91it/s]"
          ],
          "name": "stderr"
        },
        {
          "output_type": "stream",
          "text": [
            ". "
          ],
          "name": "stdout"
        },
        {
          "output_type": "stream",
          "text": [
            "\r 55%|█████▍    | 357/650 [03:16<02:32,  1.92it/s]"
          ],
          "name": "stderr"
        },
        {
          "output_type": "stream",
          "text": [
            ". "
          ],
          "name": "stdout"
        },
        {
          "output_type": "stream",
          "text": [
            "\r 55%|█████▌    | 358/650 [03:16<02:32,  1.91it/s]"
          ],
          "name": "stderr"
        },
        {
          "output_type": "stream",
          "text": [
            ". "
          ],
          "name": "stdout"
        },
        {
          "output_type": "stream",
          "text": [
            "\r 55%|█████▌    | 359/650 [03:17<02:32,  1.91it/s]"
          ],
          "name": "stderr"
        },
        {
          "output_type": "stream",
          "text": [
            ". "
          ],
          "name": "stdout"
        },
        {
          "output_type": "stream",
          "text": [
            "\r 55%|█████▌    | 360/650 [03:17<02:34,  1.88it/s]"
          ],
          "name": "stderr"
        },
        {
          "output_type": "stream",
          "text": [
            ". "
          ],
          "name": "stdout"
        },
        {
          "output_type": "stream",
          "text": [
            "\r 56%|█████▌    | 361/650 [03:18<02:35,  1.86it/s]"
          ],
          "name": "stderr"
        },
        {
          "output_type": "stream",
          "text": [
            ". "
          ],
          "name": "stdout"
        },
        {
          "output_type": "stream",
          "text": [
            "\r 56%|█████▌    | 362/650 [03:18<02:35,  1.85it/s]"
          ],
          "name": "stderr"
        },
        {
          "output_type": "stream",
          "text": [
            ". "
          ],
          "name": "stdout"
        },
        {
          "output_type": "stream",
          "text": [
            "\r 56%|█████▌    | 363/650 [03:19<02:35,  1.84it/s]"
          ],
          "name": "stderr"
        },
        {
          "output_type": "stream",
          "text": [
            ". "
          ],
          "name": "stdout"
        },
        {
          "output_type": "stream",
          "text": [
            "\r 56%|█████▌    | 364/650 [03:19<02:33,  1.86it/s]"
          ],
          "name": "stderr"
        },
        {
          "output_type": "stream",
          "text": [
            ". "
          ],
          "name": "stdout"
        },
        {
          "output_type": "stream",
          "text": [
            "\r 56%|█████▌    | 365/650 [03:20<02:38,  1.80it/s]"
          ],
          "name": "stderr"
        },
        {
          "output_type": "stream",
          "text": [
            ". "
          ],
          "name": "stdout"
        },
        {
          "output_type": "stream",
          "text": [
            "\r 56%|█████▋    | 366/650 [03:21<02:35,  1.83it/s]"
          ],
          "name": "stderr"
        },
        {
          "output_type": "stream",
          "text": [
            ". "
          ],
          "name": "stdout"
        },
        {
          "output_type": "stream",
          "text": [
            "\r 56%|█████▋    | 367/650 [03:21<02:31,  1.86it/s]"
          ],
          "name": "stderr"
        },
        {
          "output_type": "stream",
          "text": [
            ". "
          ],
          "name": "stdout"
        },
        {
          "output_type": "stream",
          "text": [
            "\r 57%|█████▋    | 368/650 [03:22<02:34,  1.83it/s]"
          ],
          "name": "stderr"
        },
        {
          "output_type": "stream",
          "text": [
            ". "
          ],
          "name": "stdout"
        },
        {
          "output_type": "stream",
          "text": [
            "\r 57%|█████▋    | 369/650 [03:22<02:33,  1.83it/s]"
          ],
          "name": "stderr"
        },
        {
          "output_type": "stream",
          "text": [
            ". "
          ],
          "name": "stdout"
        },
        {
          "output_type": "stream",
          "text": [
            "\r 57%|█████▋    | 370/650 [03:23<02:33,  1.83it/s]"
          ],
          "name": "stderr"
        },
        {
          "output_type": "stream",
          "text": [
            ". "
          ],
          "name": "stdout"
        },
        {
          "output_type": "stream",
          "text": [
            "\r 57%|█████▋    | 371/650 [03:23<02:32,  1.83it/s]"
          ],
          "name": "stderr"
        },
        {
          "output_type": "stream",
          "text": [
            ". "
          ],
          "name": "stdout"
        },
        {
          "output_type": "stream",
          "text": [
            "\r 57%|█████▋    | 372/650 [03:24<02:29,  1.86it/s]"
          ],
          "name": "stderr"
        },
        {
          "output_type": "stream",
          "text": [
            ". "
          ],
          "name": "stdout"
        },
        {
          "output_type": "stream",
          "text": [
            "\r 57%|█████▋    | 373/650 [03:24<02:28,  1.87it/s]"
          ],
          "name": "stderr"
        },
        {
          "output_type": "stream",
          "text": [
            ". "
          ],
          "name": "stdout"
        },
        {
          "output_type": "stream",
          "text": [
            "\r 58%|█████▊    | 374/650 [03:25<02:28,  1.86it/s]"
          ],
          "name": "stderr"
        },
        {
          "output_type": "stream",
          "text": [
            ". "
          ],
          "name": "stdout"
        },
        {
          "output_type": "stream",
          "text": [
            "\r 58%|█████▊    | 375/650 [03:25<02:27,  1.87it/s]"
          ],
          "name": "stderr"
        },
        {
          "output_type": "stream",
          "text": [
            ". "
          ],
          "name": "stdout"
        },
        {
          "output_type": "stream",
          "text": [
            "\r 58%|█████▊    | 376/650 [03:26<02:26,  1.88it/s]"
          ],
          "name": "stderr"
        },
        {
          "output_type": "stream",
          "text": [
            ". "
          ],
          "name": "stdout"
        },
        {
          "output_type": "stream",
          "text": [
            "\r 58%|█████▊    | 377/650 [03:26<02:26,  1.86it/s]"
          ],
          "name": "stderr"
        },
        {
          "output_type": "stream",
          "text": [
            ". "
          ],
          "name": "stdout"
        },
        {
          "output_type": "stream",
          "text": [
            "\r 58%|█████▊    | 378/650 [03:27<02:25,  1.87it/s]"
          ],
          "name": "stderr"
        },
        {
          "output_type": "stream",
          "text": [
            ". "
          ],
          "name": "stdout"
        },
        {
          "output_type": "stream",
          "text": [
            "\r 58%|█████▊    | 379/650 [03:28<02:26,  1.85it/s]"
          ],
          "name": "stderr"
        },
        {
          "output_type": "stream",
          "text": [
            ". "
          ],
          "name": "stdout"
        },
        {
          "output_type": "stream",
          "text": [
            "\r 58%|█████▊    | 380/650 [03:28<02:23,  1.88it/s]"
          ],
          "name": "stderr"
        },
        {
          "output_type": "stream",
          "text": [
            ". "
          ],
          "name": "stdout"
        },
        {
          "output_type": "stream",
          "text": [
            "\r 59%|█████▊    | 381/650 [03:29<02:23,  1.88it/s]"
          ],
          "name": "stderr"
        },
        {
          "output_type": "stream",
          "text": [
            ". "
          ],
          "name": "stdout"
        },
        {
          "output_type": "stream",
          "text": [
            "\r 59%|█████▉    | 382/650 [03:29<02:22,  1.88it/s]"
          ],
          "name": "stderr"
        },
        {
          "output_type": "stream",
          "text": [
            ". "
          ],
          "name": "stdout"
        },
        {
          "output_type": "stream",
          "text": [
            "\r 59%|█████▉    | 383/650 [03:30<02:22,  1.87it/s]"
          ],
          "name": "stderr"
        },
        {
          "output_type": "stream",
          "text": [
            ". "
          ],
          "name": "stdout"
        },
        {
          "output_type": "stream",
          "text": [
            "\r 59%|█████▉    | 384/650 [03:30<02:23,  1.86it/s]"
          ],
          "name": "stderr"
        },
        {
          "output_type": "stream",
          "text": [
            ". "
          ],
          "name": "stdout"
        },
        {
          "output_type": "stream",
          "text": [
            "\r 59%|█████▉    | 385/650 [03:31<02:22,  1.86it/s]"
          ],
          "name": "stderr"
        },
        {
          "output_type": "stream",
          "text": [
            ". "
          ],
          "name": "stdout"
        },
        {
          "output_type": "stream",
          "text": [
            "\r 59%|█████▉    | 386/650 [03:31<02:22,  1.85it/s]"
          ],
          "name": "stderr"
        },
        {
          "output_type": "stream",
          "text": [
            ". "
          ],
          "name": "stdout"
        },
        {
          "output_type": "stream",
          "text": [
            "\r 60%|█████▉    | 387/650 [03:32<02:21,  1.86it/s]"
          ],
          "name": "stderr"
        },
        {
          "output_type": "stream",
          "text": [
            ". "
          ],
          "name": "stdout"
        },
        {
          "output_type": "stream",
          "text": [
            "\r 60%|█████▉    | 388/650 [03:32<02:19,  1.88it/s]"
          ],
          "name": "stderr"
        },
        {
          "output_type": "stream",
          "text": [
            ". "
          ],
          "name": "stdout"
        },
        {
          "output_type": "stream",
          "text": [
            "\r 60%|█████▉    | 389/650 [03:33<02:20,  1.85it/s]"
          ],
          "name": "stderr"
        },
        {
          "output_type": "stream",
          "text": [
            ". "
          ],
          "name": "stdout"
        },
        {
          "output_type": "stream",
          "text": [
            "\r 60%|██████    | 390/650 [03:33<02:21,  1.84it/s]"
          ],
          "name": "stderr"
        },
        {
          "output_type": "stream",
          "text": [
            ". "
          ],
          "name": "stdout"
        },
        {
          "output_type": "stream",
          "text": [
            "\r 60%|██████    | 391/650 [03:34<02:20,  1.84it/s]"
          ],
          "name": "stderr"
        },
        {
          "output_type": "stream",
          "text": [
            ". "
          ],
          "name": "stdout"
        },
        {
          "output_type": "stream",
          "text": [
            "\r 60%|██████    | 392/650 [03:34<02:19,  1.85it/s]"
          ],
          "name": "stderr"
        },
        {
          "output_type": "stream",
          "text": [
            ". "
          ],
          "name": "stdout"
        },
        {
          "output_type": "stream",
          "text": [
            "\r 60%|██████    | 393/650 [03:35<02:15,  1.90it/s]"
          ],
          "name": "stderr"
        },
        {
          "output_type": "stream",
          "text": [
            ". "
          ],
          "name": "stdout"
        },
        {
          "output_type": "stream",
          "text": [
            "\r 61%|██████    | 394/650 [03:36<02:15,  1.89it/s]"
          ],
          "name": "stderr"
        },
        {
          "output_type": "stream",
          "text": [
            ". "
          ],
          "name": "stdout"
        },
        {
          "output_type": "stream",
          "text": [
            "\r 61%|██████    | 395/650 [03:36<02:15,  1.88it/s]"
          ],
          "name": "stderr"
        },
        {
          "output_type": "stream",
          "text": [
            ". "
          ],
          "name": "stdout"
        },
        {
          "output_type": "stream",
          "text": [
            "\r 61%|██████    | 396/650 [03:37<02:14,  1.88it/s]"
          ],
          "name": "stderr"
        },
        {
          "output_type": "stream",
          "text": [
            ". "
          ],
          "name": "stdout"
        },
        {
          "output_type": "stream",
          "text": [
            "\r 61%|██████    | 397/650 [03:37<02:14,  1.88it/s]"
          ],
          "name": "stderr"
        },
        {
          "output_type": "stream",
          "text": [
            ". "
          ],
          "name": "stdout"
        },
        {
          "output_type": "stream",
          "text": [
            "\r 61%|██████    | 398/650 [03:38<02:17,  1.84it/s]"
          ],
          "name": "stderr"
        },
        {
          "output_type": "stream",
          "text": [
            ". "
          ],
          "name": "stdout"
        },
        {
          "output_type": "stream",
          "text": [
            "\r 61%|██████▏   | 399/650 [03:38<02:16,  1.85it/s]"
          ],
          "name": "stderr"
        },
        {
          "output_type": "stream",
          "text": [
            ". "
          ],
          "name": "stdout"
        },
        {
          "output_type": "stream",
          "text": [
            "\r 62%|██████▏   | 400/650 [03:39<02:13,  1.87it/s]"
          ],
          "name": "stderr"
        },
        {
          "output_type": "stream",
          "text": [
            ". "
          ],
          "name": "stdout"
        },
        {
          "output_type": "stream",
          "text": [
            "\r 62%|██████▏   | 401/650 [03:39<02:13,  1.86it/s]"
          ],
          "name": "stderr"
        },
        {
          "output_type": "stream",
          "text": [
            ". "
          ],
          "name": "stdout"
        },
        {
          "output_type": "stream",
          "text": [
            "\r 62%|██████▏   | 402/650 [03:40<02:10,  1.90it/s]"
          ],
          "name": "stderr"
        },
        {
          "output_type": "stream",
          "text": [
            ". "
          ],
          "name": "stdout"
        },
        {
          "output_type": "stream",
          "text": [
            "\r 62%|██████▏   | 403/650 [03:40<02:10,  1.89it/s]"
          ],
          "name": "stderr"
        },
        {
          "output_type": "stream",
          "text": [
            ". "
          ],
          "name": "stdout"
        },
        {
          "output_type": "stream",
          "text": [
            "\r 62%|██████▏   | 404/650 [03:41<02:14,  1.83it/s]"
          ],
          "name": "stderr"
        },
        {
          "output_type": "stream",
          "text": [
            ". "
          ],
          "name": "stdout"
        },
        {
          "output_type": "stream",
          "text": [
            "\r 62%|██████▏   | 405/650 [03:41<02:13,  1.84it/s]"
          ],
          "name": "stderr"
        },
        {
          "output_type": "stream",
          "text": [
            ". "
          ],
          "name": "stdout"
        },
        {
          "output_type": "stream",
          "text": [
            "\r 62%|██████▏   | 406/650 [03:42<02:11,  1.86it/s]"
          ],
          "name": "stderr"
        },
        {
          "output_type": "stream",
          "text": [
            ". "
          ],
          "name": "stdout"
        },
        {
          "output_type": "stream",
          "text": [
            "\r 63%|██████▎   | 407/650 [03:42<02:09,  1.87it/s]"
          ],
          "name": "stderr"
        },
        {
          "output_type": "stream",
          "text": [
            ". "
          ],
          "name": "stdout"
        },
        {
          "output_type": "stream",
          "text": [
            "\r 63%|██████▎   | 408/650 [03:43<02:08,  1.88it/s]"
          ],
          "name": "stderr"
        },
        {
          "output_type": "stream",
          "text": [
            ". "
          ],
          "name": "stdout"
        },
        {
          "output_type": "stream",
          "text": [
            "\r 63%|██████▎   | 409/650 [03:44<02:07,  1.89it/s]"
          ],
          "name": "stderr"
        },
        {
          "output_type": "stream",
          "text": [
            ". "
          ],
          "name": "stdout"
        },
        {
          "output_type": "stream",
          "text": [
            "\r 63%|██████▎   | 410/650 [03:44<02:09,  1.86it/s]"
          ],
          "name": "stderr"
        },
        {
          "output_type": "stream",
          "text": [
            ". "
          ],
          "name": "stdout"
        },
        {
          "output_type": "stream",
          "text": [
            "\r 63%|██████▎   | 411/650 [03:45<02:10,  1.84it/s]"
          ],
          "name": "stderr"
        },
        {
          "output_type": "stream",
          "text": [
            ". "
          ],
          "name": "stdout"
        },
        {
          "output_type": "stream",
          "text": [
            "\r 63%|██████▎   | 412/650 [03:45<02:07,  1.87it/s]"
          ],
          "name": "stderr"
        },
        {
          "output_type": "stream",
          "text": [
            ". "
          ],
          "name": "stdout"
        },
        {
          "output_type": "stream",
          "text": [
            "\r 64%|██████▎   | 413/650 [03:46<02:07,  1.86it/s]"
          ],
          "name": "stderr"
        },
        {
          "output_type": "stream",
          "text": [
            ". "
          ],
          "name": "stdout"
        },
        {
          "output_type": "stream",
          "text": [
            "\r 64%|██████▎   | 414/650 [03:46<02:11,  1.79it/s]"
          ],
          "name": "stderr"
        },
        {
          "output_type": "stream",
          "text": [
            ". "
          ],
          "name": "stdout"
        },
        {
          "output_type": "stream",
          "text": [
            "\r 64%|██████▍   | 415/650 [03:47<02:07,  1.85it/s]"
          ],
          "name": "stderr"
        },
        {
          "output_type": "stream",
          "text": [
            ". "
          ],
          "name": "stdout"
        },
        {
          "output_type": "stream",
          "text": [
            "\r 64%|██████▍   | 416/650 [03:47<02:06,  1.85it/s]"
          ],
          "name": "stderr"
        },
        {
          "output_type": "stream",
          "text": [
            ". "
          ],
          "name": "stdout"
        },
        {
          "output_type": "stream",
          "text": [
            "\r 64%|██████▍   | 417/650 [03:48<02:10,  1.78it/s]"
          ],
          "name": "stderr"
        },
        {
          "output_type": "stream",
          "text": [
            ". "
          ],
          "name": "stdout"
        },
        {
          "output_type": "stream",
          "text": [
            "\r 64%|██████▍   | 418/650 [03:49<02:10,  1.78it/s]"
          ],
          "name": "stderr"
        },
        {
          "output_type": "stream",
          "text": [
            ". "
          ],
          "name": "stdout"
        },
        {
          "output_type": "stream",
          "text": [
            "\r 64%|██████▍   | 419/650 [03:49<02:08,  1.80it/s]"
          ],
          "name": "stderr"
        },
        {
          "output_type": "stream",
          "text": [
            ". "
          ],
          "name": "stdout"
        },
        {
          "output_type": "stream",
          "text": [
            "\r 65%|██████▍   | 420/650 [03:50<02:08,  1.79it/s]"
          ],
          "name": "stderr"
        },
        {
          "output_type": "stream",
          "text": [
            ". "
          ],
          "name": "stdout"
        },
        {
          "output_type": "stream",
          "text": [
            "\r 65%|██████▍   | 421/650 [03:50<02:07,  1.80it/s]"
          ],
          "name": "stderr"
        },
        {
          "output_type": "stream",
          "text": [
            ". "
          ],
          "name": "stdout"
        },
        {
          "output_type": "stream",
          "text": [
            "\r 65%|██████▍   | 422/650 [03:51<02:04,  1.82it/s]"
          ],
          "name": "stderr"
        },
        {
          "output_type": "stream",
          "text": [
            ". "
          ],
          "name": "stdout"
        },
        {
          "output_type": "stream",
          "text": [
            "\r 65%|██████▌   | 423/650 [03:51<02:04,  1.82it/s]"
          ],
          "name": "stderr"
        },
        {
          "output_type": "stream",
          "text": [
            ". "
          ],
          "name": "stdout"
        },
        {
          "output_type": "stream",
          "text": [
            "\r 65%|██████▌   | 424/650 [03:52<02:02,  1.85it/s]"
          ],
          "name": "stderr"
        },
        {
          "output_type": "stream",
          "text": [
            ". "
          ],
          "name": "stdout"
        },
        {
          "output_type": "stream",
          "text": [
            "\r 65%|██████▌   | 425/650 [03:52<02:01,  1.86it/s]"
          ],
          "name": "stderr"
        },
        {
          "output_type": "stream",
          "text": [
            ". "
          ],
          "name": "stdout"
        },
        {
          "output_type": "stream",
          "text": [
            "\r 66%|██████▌   | 426/650 [03:53<01:59,  1.88it/s]"
          ],
          "name": "stderr"
        },
        {
          "output_type": "stream",
          "text": [
            ". "
          ],
          "name": "stdout"
        },
        {
          "output_type": "stream",
          "text": [
            "\r 66%|██████▌   | 427/650 [03:53<01:59,  1.86it/s]"
          ],
          "name": "stderr"
        },
        {
          "output_type": "stream",
          "text": [
            ". "
          ],
          "name": "stdout"
        },
        {
          "output_type": "stream",
          "text": [
            "\r 66%|██████▌   | 428/650 [03:54<01:58,  1.87it/s]"
          ],
          "name": "stderr"
        },
        {
          "output_type": "stream",
          "text": [
            ". "
          ],
          "name": "stdout"
        },
        {
          "output_type": "stream",
          "text": [
            "\r 66%|██████▌   | 429/650 [03:54<01:58,  1.87it/s]"
          ],
          "name": "stderr"
        },
        {
          "output_type": "stream",
          "text": [
            ". "
          ],
          "name": "stdout"
        },
        {
          "output_type": "stream",
          "text": [
            "\r 66%|██████▌   | 430/650 [03:55<01:56,  1.88it/s]"
          ],
          "name": "stderr"
        },
        {
          "output_type": "stream",
          "text": [
            ". "
          ],
          "name": "stdout"
        },
        {
          "output_type": "stream",
          "text": [
            "\r 66%|██████▋   | 431/650 [03:56<01:56,  1.88it/s]"
          ],
          "name": "stderr"
        },
        {
          "output_type": "stream",
          "text": [
            ". "
          ],
          "name": "stdout"
        },
        {
          "output_type": "stream",
          "text": [
            "\r 66%|██████▋   | 432/650 [03:56<02:07,  1.71it/s]"
          ],
          "name": "stderr"
        },
        {
          "output_type": "stream",
          "text": [
            ". "
          ],
          "name": "stdout"
        },
        {
          "output_type": "stream",
          "text": [
            "\r 67%|██████▋   | 433/650 [03:57<02:14,  1.61it/s]"
          ],
          "name": "stderr"
        },
        {
          "output_type": "stream",
          "text": [
            ". "
          ],
          "name": "stdout"
        },
        {
          "output_type": "stream",
          "text": [
            "\r 67%|██████▋   | 434/650 [03:58<02:11,  1.64it/s]"
          ],
          "name": "stderr"
        },
        {
          "output_type": "stream",
          "text": [
            ". "
          ],
          "name": "stdout"
        },
        {
          "output_type": "stream",
          "text": [
            "\r 67%|██████▋   | 435/650 [03:58<02:07,  1.68it/s]"
          ],
          "name": "stderr"
        },
        {
          "output_type": "stream",
          "text": [
            ". "
          ],
          "name": "stdout"
        },
        {
          "output_type": "stream",
          "text": [
            "\r 67%|██████▋   | 436/650 [03:59<02:03,  1.73it/s]"
          ],
          "name": "stderr"
        },
        {
          "output_type": "stream",
          "text": [
            ". "
          ],
          "name": "stdout"
        },
        {
          "output_type": "stream",
          "text": [
            "\r 67%|██████▋   | 437/650 [03:59<02:00,  1.77it/s]"
          ],
          "name": "stderr"
        },
        {
          "output_type": "stream",
          "text": [
            ". "
          ],
          "name": "stdout"
        },
        {
          "output_type": "stream",
          "text": [
            "\r 67%|██████▋   | 438/650 [04:00<01:57,  1.80it/s]"
          ],
          "name": "stderr"
        },
        {
          "output_type": "stream",
          "text": [
            ". "
          ],
          "name": "stdout"
        },
        {
          "output_type": "stream",
          "text": [
            "\r 68%|██████▊   | 439/650 [04:00<01:57,  1.80it/s]"
          ],
          "name": "stderr"
        },
        {
          "output_type": "stream",
          "text": [
            ". "
          ],
          "name": "stdout"
        },
        {
          "output_type": "stream",
          "text": [
            "\r 68%|██████▊   | 440/650 [04:01<01:59,  1.75it/s]"
          ],
          "name": "stderr"
        },
        {
          "output_type": "stream",
          "text": [
            ". "
          ],
          "name": "stdout"
        },
        {
          "output_type": "stream",
          "text": [
            "\r 68%|██████▊   | 441/650 [04:01<01:56,  1.80it/s]"
          ],
          "name": "stderr"
        },
        {
          "output_type": "stream",
          "text": [
            ". "
          ],
          "name": "stdout"
        },
        {
          "output_type": "stream",
          "text": [
            "\r 68%|██████▊   | 442/650 [04:02<01:53,  1.83it/s]"
          ],
          "name": "stderr"
        },
        {
          "output_type": "stream",
          "text": [
            ". "
          ],
          "name": "stdout"
        },
        {
          "output_type": "stream",
          "text": [
            "\r 68%|██████▊   | 443/650 [04:02<01:52,  1.84it/s]"
          ],
          "name": "stderr"
        },
        {
          "output_type": "stream",
          "text": [
            ". "
          ],
          "name": "stdout"
        },
        {
          "output_type": "stream",
          "text": [
            "\r 68%|██████▊   | 444/650 [04:03<01:52,  1.83it/s]"
          ],
          "name": "stderr"
        },
        {
          "output_type": "stream",
          "text": [
            ". "
          ],
          "name": "stdout"
        },
        {
          "output_type": "stream",
          "text": [
            "\r 68%|██████▊   | 445/650 [04:04<01:51,  1.84it/s]"
          ],
          "name": "stderr"
        },
        {
          "output_type": "stream",
          "text": [
            ". "
          ],
          "name": "stdout"
        },
        {
          "output_type": "stream",
          "text": [
            "\r 69%|██████▊   | 446/650 [04:04<01:50,  1.85it/s]"
          ],
          "name": "stderr"
        },
        {
          "output_type": "stream",
          "text": [
            ". "
          ],
          "name": "stdout"
        },
        {
          "output_type": "stream",
          "text": [
            "\r 69%|██████▉   | 447/650 [04:05<01:49,  1.85it/s]"
          ],
          "name": "stderr"
        },
        {
          "output_type": "stream",
          "text": [
            ". "
          ],
          "name": "stdout"
        },
        {
          "output_type": "stream",
          "text": [
            "\r 69%|██████▉   | 448/650 [04:05<01:48,  1.86it/s]"
          ],
          "name": "stderr"
        },
        {
          "output_type": "stream",
          "text": [
            ". "
          ],
          "name": "stdout"
        },
        {
          "output_type": "stream",
          "text": [
            "\r 69%|██████▉   | 449/650 [04:06<01:47,  1.86it/s]"
          ],
          "name": "stderr"
        },
        {
          "output_type": "stream",
          "text": [
            ". "
          ],
          "name": "stdout"
        },
        {
          "output_type": "stream",
          "text": [
            "\r 69%|██████▉   | 450/650 [04:06<01:46,  1.87it/s]"
          ],
          "name": "stderr"
        },
        {
          "output_type": "stream",
          "text": [
            ". "
          ],
          "name": "stdout"
        },
        {
          "output_type": "stream",
          "text": [
            "\r 69%|██████▉   | 451/650 [04:07<01:45,  1.89it/s]"
          ],
          "name": "stderr"
        },
        {
          "output_type": "stream",
          "text": [
            ". "
          ],
          "name": "stdout"
        },
        {
          "output_type": "stream",
          "text": [
            "\r 70%|██████▉   | 452/650 [04:07<01:45,  1.88it/s]"
          ],
          "name": "stderr"
        },
        {
          "output_type": "stream",
          "text": [
            ". "
          ],
          "name": "stdout"
        },
        {
          "output_type": "stream",
          "text": [
            "\r 70%|██████▉   | 453/650 [04:08<01:45,  1.87it/s]"
          ],
          "name": "stderr"
        },
        {
          "output_type": "stream",
          "text": [
            ". "
          ],
          "name": "stdout"
        },
        {
          "output_type": "stream",
          "text": [
            "\r 70%|██████▉   | 454/650 [04:08<01:47,  1.83it/s]"
          ],
          "name": "stderr"
        },
        {
          "output_type": "stream",
          "text": [
            ". "
          ],
          "name": "stdout"
        },
        {
          "output_type": "stream",
          "text": [
            "\r 70%|███████   | 455/650 [04:09<01:45,  1.84it/s]"
          ],
          "name": "stderr"
        },
        {
          "output_type": "stream",
          "text": [
            ". "
          ],
          "name": "stdout"
        },
        {
          "output_type": "stream",
          "text": [
            "\r 70%|███████   | 456/650 [04:09<01:45,  1.83it/s]"
          ],
          "name": "stderr"
        },
        {
          "output_type": "stream",
          "text": [
            ". "
          ],
          "name": "stdout"
        },
        {
          "output_type": "stream",
          "text": [
            "\r 70%|███████   | 457/650 [04:10<01:44,  1.85it/s]"
          ],
          "name": "stderr"
        },
        {
          "output_type": "stream",
          "text": [
            ". "
          ],
          "name": "stdout"
        },
        {
          "output_type": "stream",
          "text": [
            "\r 70%|███████   | 458/650 [04:11<01:42,  1.87it/s]"
          ],
          "name": "stderr"
        },
        {
          "output_type": "stream",
          "text": [
            ". "
          ],
          "name": "stdout"
        },
        {
          "output_type": "stream",
          "text": [
            "\r 71%|███████   | 459/650 [04:11<01:42,  1.86it/s]"
          ],
          "name": "stderr"
        },
        {
          "output_type": "stream",
          "text": [
            ". "
          ],
          "name": "stdout"
        },
        {
          "output_type": "stream",
          "text": [
            "\r 71%|███████   | 460/650 [04:12<01:44,  1.81it/s]"
          ],
          "name": "stderr"
        },
        {
          "output_type": "stream",
          "text": [
            ". "
          ],
          "name": "stdout"
        },
        {
          "output_type": "stream",
          "text": [
            "\r 71%|███████   | 461/650 [04:12<01:42,  1.85it/s]"
          ],
          "name": "stderr"
        },
        {
          "output_type": "stream",
          "text": [
            ". "
          ],
          "name": "stdout"
        },
        {
          "output_type": "stream",
          "text": [
            "\r 71%|███████   | 462/650 [04:13<01:41,  1.86it/s]"
          ],
          "name": "stderr"
        },
        {
          "output_type": "stream",
          "text": [
            ". "
          ],
          "name": "stdout"
        },
        {
          "output_type": "stream",
          "text": [
            "\r 71%|███████   | 463/650 [04:13<01:39,  1.88it/s]"
          ],
          "name": "stderr"
        },
        {
          "output_type": "stream",
          "text": [
            ". "
          ],
          "name": "stdout"
        },
        {
          "output_type": "stream",
          "text": [
            "\r 71%|███████▏  | 464/650 [04:14<01:38,  1.88it/s]"
          ],
          "name": "stderr"
        },
        {
          "output_type": "stream",
          "text": [
            ". "
          ],
          "name": "stdout"
        },
        {
          "output_type": "stream",
          "text": [
            "\r 72%|███████▏  | 465/650 [04:14<01:38,  1.87it/s]"
          ],
          "name": "stderr"
        },
        {
          "output_type": "stream",
          "text": [
            ". "
          ],
          "name": "stdout"
        },
        {
          "output_type": "stream",
          "text": [
            "\r 72%|███████▏  | 466/650 [04:15<01:37,  1.89it/s]"
          ],
          "name": "stderr"
        },
        {
          "output_type": "stream",
          "text": [
            ". "
          ],
          "name": "stdout"
        },
        {
          "output_type": "stream",
          "text": [
            "\r 72%|███████▏  | 467/650 [04:15<01:36,  1.89it/s]"
          ],
          "name": "stderr"
        },
        {
          "output_type": "stream",
          "text": [
            ". "
          ],
          "name": "stdout"
        },
        {
          "output_type": "stream",
          "text": [
            "\r 72%|███████▏  | 468/650 [04:16<01:38,  1.85it/s]"
          ],
          "name": "stderr"
        },
        {
          "output_type": "stream",
          "text": [
            ". "
          ],
          "name": "stdout"
        },
        {
          "output_type": "stream",
          "text": [
            "\r 72%|███████▏  | 469/650 [04:16<01:37,  1.86it/s]"
          ],
          "name": "stderr"
        },
        {
          "output_type": "stream",
          "text": [
            ". "
          ],
          "name": "stdout"
        },
        {
          "output_type": "stream",
          "text": [
            "\r 72%|███████▏  | 470/650 [04:17<01:37,  1.86it/s]"
          ],
          "name": "stderr"
        },
        {
          "output_type": "stream",
          "text": [
            ". "
          ],
          "name": "stdout"
        },
        {
          "output_type": "stream",
          "text": [
            "\r 72%|███████▏  | 471/650 [04:17<01:36,  1.86it/s]"
          ],
          "name": "stderr"
        },
        {
          "output_type": "stream",
          "text": [
            ". "
          ],
          "name": "stdout"
        },
        {
          "output_type": "stream",
          "text": [
            "\r 73%|███████▎  | 472/650 [04:18<01:33,  1.90it/s]"
          ],
          "name": "stderr"
        },
        {
          "output_type": "stream",
          "text": [
            ". "
          ],
          "name": "stdout"
        },
        {
          "output_type": "stream",
          "text": [
            "\r 73%|███████▎  | 473/650 [04:19<01:33,  1.90it/s]"
          ],
          "name": "stderr"
        },
        {
          "output_type": "stream",
          "text": [
            ". "
          ],
          "name": "stdout"
        },
        {
          "output_type": "stream",
          "text": [
            "\r 73%|███████▎  | 474/650 [04:19<01:34,  1.86it/s]"
          ],
          "name": "stderr"
        },
        {
          "output_type": "stream",
          "text": [
            ". "
          ],
          "name": "stdout"
        },
        {
          "output_type": "stream",
          "text": [
            "\r 73%|███████▎  | 475/650 [04:20<01:34,  1.86it/s]"
          ],
          "name": "stderr"
        },
        {
          "output_type": "stream",
          "text": [
            ". "
          ],
          "name": "stdout"
        },
        {
          "output_type": "stream",
          "text": [
            "\r 73%|███████▎  | 476/650 [04:20<01:33,  1.86it/s]"
          ],
          "name": "stderr"
        },
        {
          "output_type": "stream",
          "text": [
            ". "
          ],
          "name": "stdout"
        },
        {
          "output_type": "stream",
          "text": [
            "\r 73%|███████▎  | 477/650 [04:21<01:31,  1.88it/s]"
          ],
          "name": "stderr"
        },
        {
          "output_type": "stream",
          "text": [
            ". "
          ],
          "name": "stdout"
        },
        {
          "output_type": "stream",
          "text": [
            "\r 74%|███████▎  | 478/650 [04:21<01:30,  1.89it/s]"
          ],
          "name": "stderr"
        },
        {
          "output_type": "stream",
          "text": [
            ". "
          ],
          "name": "stdout"
        },
        {
          "output_type": "stream",
          "text": [
            "\r 74%|███████▎  | 479/650 [04:22<01:30,  1.89it/s]"
          ],
          "name": "stderr"
        },
        {
          "output_type": "stream",
          "text": [
            ". "
          ],
          "name": "stdout"
        },
        {
          "output_type": "stream",
          "text": [
            "\r 74%|███████▍  | 480/650 [04:22<01:29,  1.90it/s]"
          ],
          "name": "stderr"
        },
        {
          "output_type": "stream",
          "text": [
            ". "
          ],
          "name": "stdout"
        },
        {
          "output_type": "stream",
          "text": [
            "\r 74%|███████▍  | 481/650 [04:23<01:28,  1.91it/s]"
          ],
          "name": "stderr"
        },
        {
          "output_type": "stream",
          "text": [
            ". "
          ],
          "name": "stdout"
        },
        {
          "output_type": "stream",
          "text": [
            "\r 74%|███████▍  | 482/650 [04:23<01:27,  1.91it/s]"
          ],
          "name": "stderr"
        },
        {
          "output_type": "stream",
          "text": [
            ". "
          ],
          "name": "stdout"
        },
        {
          "output_type": "stream",
          "text": [
            "\r 74%|███████▍  | 483/650 [04:24<01:27,  1.90it/s]"
          ],
          "name": "stderr"
        },
        {
          "output_type": "stream",
          "text": [
            ". "
          ],
          "name": "stdout"
        },
        {
          "output_type": "stream",
          "text": [
            "\r 74%|███████▍  | 484/650 [04:24<01:27,  1.91it/s]"
          ],
          "name": "stderr"
        },
        {
          "output_type": "stream",
          "text": [
            ". "
          ],
          "name": "stdout"
        },
        {
          "output_type": "stream",
          "text": [
            "\r 75%|███████▍  | 485/650 [04:25<01:25,  1.92it/s]"
          ],
          "name": "stderr"
        },
        {
          "output_type": "stream",
          "text": [
            ". "
          ],
          "name": "stdout"
        },
        {
          "output_type": "stream",
          "text": [
            "\r 75%|███████▍  | 486/650 [04:25<01:26,  1.89it/s]"
          ],
          "name": "stderr"
        },
        {
          "output_type": "stream",
          "text": [
            ". "
          ],
          "name": "stdout"
        },
        {
          "output_type": "stream",
          "text": [
            "\r 75%|███████▍  | 487/650 [04:26<01:25,  1.91it/s]"
          ],
          "name": "stderr"
        },
        {
          "output_type": "stream",
          "text": [
            ". "
          ],
          "name": "stdout"
        },
        {
          "output_type": "stream",
          "text": [
            "\r 75%|███████▌  | 488/650 [04:26<01:24,  1.91it/s]"
          ],
          "name": "stderr"
        },
        {
          "output_type": "stream",
          "text": [
            ". "
          ],
          "name": "stdout"
        },
        {
          "output_type": "stream",
          "text": [
            "\r 75%|███████▌  | 489/650 [04:27<01:25,  1.89it/s]"
          ],
          "name": "stderr"
        },
        {
          "output_type": "stream",
          "text": [
            ". "
          ],
          "name": "stdout"
        },
        {
          "output_type": "stream",
          "text": [
            "\r 75%|███████▌  | 490/650 [04:28<01:25,  1.88it/s]"
          ],
          "name": "stderr"
        },
        {
          "output_type": "stream",
          "text": [
            ". "
          ],
          "name": "stdout"
        },
        {
          "output_type": "stream",
          "text": [
            "\r 76%|███████▌  | 491/650 [04:28<01:24,  1.89it/s]"
          ],
          "name": "stderr"
        },
        {
          "output_type": "stream",
          "text": [
            ". "
          ],
          "name": "stdout"
        },
        {
          "output_type": "stream",
          "text": [
            "\r 76%|███████▌  | 492/650 [04:29<01:23,  1.89it/s]"
          ],
          "name": "stderr"
        },
        {
          "output_type": "stream",
          "text": [
            ". "
          ],
          "name": "stdout"
        },
        {
          "output_type": "stream",
          "text": [
            "\r 76%|███████▌  | 493/650 [04:29<01:23,  1.88it/s]"
          ],
          "name": "stderr"
        },
        {
          "output_type": "stream",
          "text": [
            ". "
          ],
          "name": "stdout"
        },
        {
          "output_type": "stream",
          "text": [
            "\r 76%|███████▌  | 494/650 [04:30<01:23,  1.88it/s]"
          ],
          "name": "stderr"
        },
        {
          "output_type": "stream",
          "text": [
            ". "
          ],
          "name": "stdout"
        },
        {
          "output_type": "stream",
          "text": [
            "\r 76%|███████▌  | 495/650 [04:30<01:21,  1.90it/s]"
          ],
          "name": "stderr"
        },
        {
          "output_type": "stream",
          "text": [
            ". "
          ],
          "name": "stdout"
        },
        {
          "output_type": "stream",
          "text": [
            "\r 76%|███████▋  | 496/650 [04:31<01:21,  1.89it/s]"
          ],
          "name": "stderr"
        },
        {
          "output_type": "stream",
          "text": [
            ". "
          ],
          "name": "stdout"
        },
        {
          "output_type": "stream",
          "text": [
            "\r 76%|███████▋  | 497/650 [04:31<01:20,  1.91it/s]"
          ],
          "name": "stderr"
        },
        {
          "output_type": "stream",
          "text": [
            ". "
          ],
          "name": "stdout"
        },
        {
          "output_type": "stream",
          "text": [
            "\r 77%|███████▋  | 498/650 [04:32<01:20,  1.88it/s]"
          ],
          "name": "stderr"
        },
        {
          "output_type": "stream",
          "text": [
            ". "
          ],
          "name": "stdout"
        },
        {
          "output_type": "stream",
          "text": [
            "\r 77%|███████▋  | 499/650 [04:32<01:20,  1.89it/s]"
          ],
          "name": "stderr"
        },
        {
          "output_type": "stream",
          "text": [
            ". "
          ],
          "name": "stdout"
        },
        {
          "output_type": "stream",
          "text": [
            "\r 77%|███████▋  | 500/650 [04:33<01:20,  1.86it/s]"
          ],
          "name": "stderr"
        },
        {
          "output_type": "stream",
          "text": [
            ". "
          ],
          "name": "stdout"
        },
        {
          "output_type": "stream",
          "text": [
            "\r 77%|███████▋  | 501/650 [04:33<01:21,  1.83it/s]"
          ],
          "name": "stderr"
        },
        {
          "output_type": "stream",
          "text": [
            ". "
          ],
          "name": "stdout"
        },
        {
          "output_type": "stream",
          "text": [
            "\r 77%|███████▋  | 502/650 [04:34<01:20,  1.84it/s]"
          ],
          "name": "stderr"
        },
        {
          "output_type": "stream",
          "text": [
            ". "
          ],
          "name": "stdout"
        },
        {
          "output_type": "stream",
          "text": [
            "\r 77%|███████▋  | 503/650 [04:34<01:18,  1.86it/s]"
          ],
          "name": "stderr"
        },
        {
          "output_type": "stream",
          "text": [
            ". "
          ],
          "name": "stdout"
        },
        {
          "output_type": "stream",
          "text": [
            "\r 78%|███████▊  | 504/650 [04:35<01:17,  1.89it/s]"
          ],
          "name": "stderr"
        },
        {
          "output_type": "stream",
          "text": [
            ". "
          ],
          "name": "stdout"
        },
        {
          "output_type": "stream",
          "text": [
            "\r 78%|███████▊  | 505/650 [04:35<01:16,  1.89it/s]"
          ],
          "name": "stderr"
        },
        {
          "output_type": "stream",
          "text": [
            ". "
          ],
          "name": "stdout"
        },
        {
          "output_type": "stream",
          "text": [
            "\r 78%|███████▊  | 506/650 [04:36<01:15,  1.92it/s]"
          ],
          "name": "stderr"
        },
        {
          "output_type": "stream",
          "text": [
            ". "
          ],
          "name": "stdout"
        },
        {
          "output_type": "stream",
          "text": [
            "\r 78%|███████▊  | 507/650 [04:37<01:15,  1.89it/s]"
          ],
          "name": "stderr"
        },
        {
          "output_type": "stream",
          "text": [
            ". "
          ],
          "name": "stdout"
        },
        {
          "output_type": "stream",
          "text": [
            "\r 78%|███████▊  | 508/650 [04:37<01:15,  1.88it/s]"
          ],
          "name": "stderr"
        },
        {
          "output_type": "stream",
          "text": [
            ". "
          ],
          "name": "stdout"
        },
        {
          "output_type": "stream",
          "text": [
            "\r 78%|███████▊  | 509/650 [04:38<01:13,  1.91it/s]"
          ],
          "name": "stderr"
        },
        {
          "output_type": "stream",
          "text": [
            ". "
          ],
          "name": "stdout"
        },
        {
          "output_type": "stream",
          "text": [
            "\r 78%|███████▊  | 510/650 [04:38<01:12,  1.94it/s]"
          ],
          "name": "stderr"
        },
        {
          "output_type": "stream",
          "text": [
            ". "
          ],
          "name": "stdout"
        },
        {
          "output_type": "stream",
          "text": [
            "\r 79%|███████▊  | 511/650 [04:39<01:12,  1.93it/s]"
          ],
          "name": "stderr"
        },
        {
          "output_type": "stream",
          "text": [
            ". "
          ],
          "name": "stdout"
        },
        {
          "output_type": "stream",
          "text": [
            "\r 79%|███████▉  | 512/650 [04:39<01:12,  1.90it/s]"
          ],
          "name": "stderr"
        },
        {
          "output_type": "stream",
          "text": [
            ". "
          ],
          "name": "stdout"
        },
        {
          "output_type": "stream",
          "text": [
            "\r 79%|███████▉  | 513/650 [04:40<01:11,  1.92it/s]"
          ],
          "name": "stderr"
        },
        {
          "output_type": "stream",
          "text": [
            ". "
          ],
          "name": "stdout"
        },
        {
          "output_type": "stream",
          "text": [
            "\r 79%|███████▉  | 514/650 [04:40<01:11,  1.90it/s]"
          ],
          "name": "stderr"
        },
        {
          "output_type": "stream",
          "text": [
            ". "
          ],
          "name": "stdout"
        },
        {
          "output_type": "stream",
          "text": [
            "\r 79%|███████▉  | 515/650 [04:41<01:10,  1.91it/s]"
          ],
          "name": "stderr"
        },
        {
          "output_type": "stream",
          "text": [
            ". "
          ],
          "name": "stdout"
        },
        {
          "output_type": "stream",
          "text": [
            "\r 79%|███████▉  | 516/650 [04:41<01:09,  1.94it/s]"
          ],
          "name": "stderr"
        },
        {
          "output_type": "stream",
          "text": [
            ". "
          ],
          "name": "stdout"
        },
        {
          "output_type": "stream",
          "text": [
            "\r 80%|███████▉  | 517/650 [04:42<01:14,  1.79it/s]"
          ],
          "name": "stderr"
        },
        {
          "output_type": "stream",
          "text": [
            ". "
          ],
          "name": "stdout"
        },
        {
          "output_type": "stream",
          "text": [
            "\r 80%|███████▉  | 518/650 [04:42<01:13,  1.80it/s]"
          ],
          "name": "stderr"
        },
        {
          "output_type": "stream",
          "text": [
            ". "
          ],
          "name": "stdout"
        },
        {
          "output_type": "stream",
          "text": [
            "\r 80%|███████▉  | 519/650 [04:43<01:11,  1.82it/s]"
          ],
          "name": "stderr"
        },
        {
          "output_type": "stream",
          "text": [
            ". "
          ],
          "name": "stdout"
        },
        {
          "output_type": "stream",
          "text": [
            "\r 80%|████████  | 520/650 [04:43<01:10,  1.85it/s]"
          ],
          "name": "stderr"
        },
        {
          "output_type": "stream",
          "text": [
            ". "
          ],
          "name": "stdout"
        },
        {
          "output_type": "stream",
          "text": [
            "\r 80%|████████  | 521/650 [04:44<01:08,  1.88it/s]"
          ],
          "name": "stderr"
        },
        {
          "output_type": "stream",
          "text": [
            ". "
          ],
          "name": "stdout"
        },
        {
          "output_type": "stream",
          "text": [
            "\r 80%|████████  | 522/650 [04:45<01:08,  1.87it/s]"
          ],
          "name": "stderr"
        },
        {
          "output_type": "stream",
          "text": [
            ". "
          ],
          "name": "stdout"
        },
        {
          "output_type": "stream",
          "text": [
            "\r 80%|████████  | 523/650 [04:45<01:08,  1.84it/s]"
          ],
          "name": "stderr"
        },
        {
          "output_type": "stream",
          "text": [
            ". "
          ],
          "name": "stdout"
        },
        {
          "output_type": "stream",
          "text": [
            "\r 81%|████████  | 524/650 [04:46<01:08,  1.83it/s]"
          ],
          "name": "stderr"
        },
        {
          "output_type": "stream",
          "text": [
            ". "
          ],
          "name": "stdout"
        },
        {
          "output_type": "stream",
          "text": [
            "\r 81%|████████  | 525/650 [04:46<01:08,  1.82it/s]"
          ],
          "name": "stderr"
        },
        {
          "output_type": "stream",
          "text": [
            ". "
          ],
          "name": "stdout"
        },
        {
          "output_type": "stream",
          "text": [
            "\r 81%|████████  | 526/650 [04:47<01:07,  1.85it/s]"
          ],
          "name": "stderr"
        },
        {
          "output_type": "stream",
          "text": [
            ". "
          ],
          "name": "stdout"
        },
        {
          "output_type": "stream",
          "text": [
            "\r 81%|████████  | 527/650 [04:47<01:06,  1.86it/s]"
          ],
          "name": "stderr"
        },
        {
          "output_type": "stream",
          "text": [
            ". "
          ],
          "name": "stdout"
        },
        {
          "output_type": "stream",
          "text": [
            "\r 81%|████████  | 528/650 [04:48<01:08,  1.79it/s]"
          ],
          "name": "stderr"
        },
        {
          "output_type": "stream",
          "text": [
            ". "
          ],
          "name": "stdout"
        },
        {
          "output_type": "stream",
          "text": [
            "\r 81%|████████▏ | 529/650 [04:48<01:04,  1.88it/s]"
          ],
          "name": "stderr"
        },
        {
          "output_type": "stream",
          "text": [
            ". "
          ],
          "name": "stdout"
        },
        {
          "output_type": "stream",
          "text": [
            "\r 82%|████████▏ | 530/650 [04:49<01:03,  1.88it/s]"
          ],
          "name": "stderr"
        },
        {
          "output_type": "stream",
          "text": [
            ". "
          ],
          "name": "stdout"
        },
        {
          "output_type": "stream",
          "text": [
            "\r 82%|████████▏ | 531/650 [04:49<01:03,  1.87it/s]"
          ],
          "name": "stderr"
        },
        {
          "output_type": "stream",
          "text": [
            ". "
          ],
          "name": "stdout"
        },
        {
          "output_type": "stream",
          "text": [
            "\r 82%|████████▏ | 532/650 [04:50<01:02,  1.89it/s]"
          ],
          "name": "stderr"
        },
        {
          "output_type": "stream",
          "text": [
            ". "
          ],
          "name": "stdout"
        },
        {
          "output_type": "stream",
          "text": [
            "\r 82%|████████▏ | 533/650 [04:50<01:02,  1.88it/s]"
          ],
          "name": "stderr"
        },
        {
          "output_type": "stream",
          "text": [
            ". "
          ],
          "name": "stdout"
        },
        {
          "output_type": "stream",
          "text": [
            "\r 82%|████████▏ | 534/650 [04:51<01:01,  1.88it/s]"
          ],
          "name": "stderr"
        },
        {
          "output_type": "stream",
          "text": [
            ". "
          ],
          "name": "stdout"
        },
        {
          "output_type": "stream",
          "text": [
            "\r 82%|████████▏ | 535/650 [04:52<01:02,  1.85it/s]"
          ],
          "name": "stderr"
        },
        {
          "output_type": "stream",
          "text": [
            ". "
          ],
          "name": "stdout"
        },
        {
          "output_type": "stream",
          "text": [
            "\r 82%|████████▏ | 536/650 [04:52<01:01,  1.87it/s]"
          ],
          "name": "stderr"
        },
        {
          "output_type": "stream",
          "text": [
            ". "
          ],
          "name": "stdout"
        },
        {
          "output_type": "stream",
          "text": [
            "\r 83%|████████▎ | 537/650 [04:53<01:00,  1.88it/s]"
          ],
          "name": "stderr"
        },
        {
          "output_type": "stream",
          "text": [
            ". "
          ],
          "name": "stdout"
        },
        {
          "output_type": "stream",
          "text": [
            "\r 83%|████████▎ | 538/650 [04:53<00:58,  1.91it/s]"
          ],
          "name": "stderr"
        },
        {
          "output_type": "stream",
          "text": [
            ". "
          ],
          "name": "stdout"
        },
        {
          "output_type": "stream",
          "text": [
            "\r 83%|████████▎ | 539/650 [04:54<00:58,  1.91it/s]"
          ],
          "name": "stderr"
        },
        {
          "output_type": "stream",
          "text": [
            ". "
          ],
          "name": "stdout"
        },
        {
          "output_type": "stream",
          "text": [
            "\r 83%|████████▎ | 540/650 [04:54<01:02,  1.77it/s]"
          ],
          "name": "stderr"
        },
        {
          "output_type": "stream",
          "text": [
            ". "
          ],
          "name": "stdout"
        },
        {
          "output_type": "stream",
          "text": [
            "\r 83%|████████▎ | 541/650 [04:55<01:00,  1.81it/s]"
          ],
          "name": "stderr"
        },
        {
          "output_type": "stream",
          "text": [
            ". "
          ],
          "name": "stdout"
        },
        {
          "output_type": "stream",
          "text": [
            "\r 83%|████████▎ | 542/650 [04:55<00:59,  1.83it/s]"
          ],
          "name": "stderr"
        },
        {
          "output_type": "stream",
          "text": [
            ". "
          ],
          "name": "stdout"
        },
        {
          "output_type": "stream",
          "text": [
            "\r 84%|████████▎ | 543/650 [04:56<00:59,  1.81it/s]"
          ],
          "name": "stderr"
        },
        {
          "output_type": "stream",
          "text": [
            ". "
          ],
          "name": "stdout"
        },
        {
          "output_type": "stream",
          "text": [
            "\r 84%|████████▎ | 544/650 [04:56<00:58,  1.81it/s]"
          ],
          "name": "stderr"
        },
        {
          "output_type": "stream",
          "text": [
            ". "
          ],
          "name": "stdout"
        },
        {
          "output_type": "stream",
          "text": [
            "\r 84%|████████▍ | 545/650 [04:57<00:56,  1.86it/s]"
          ],
          "name": "stderr"
        },
        {
          "output_type": "stream",
          "text": [
            ". "
          ],
          "name": "stdout"
        },
        {
          "output_type": "stream",
          "text": [
            "\r 84%|████████▍ | 546/650 [04:57<00:55,  1.87it/s]"
          ],
          "name": "stderr"
        },
        {
          "output_type": "stream",
          "text": [
            ". "
          ],
          "name": "stdout"
        },
        {
          "output_type": "stream",
          "text": [
            "\r 84%|████████▍ | 547/650 [04:58<00:54,  1.87it/s]"
          ],
          "name": "stderr"
        },
        {
          "output_type": "stream",
          "text": [
            ". "
          ],
          "name": "stdout"
        },
        {
          "output_type": "stream",
          "text": [
            "\r 84%|████████▍ | 548/650 [04:59<00:53,  1.90it/s]"
          ],
          "name": "stderr"
        },
        {
          "output_type": "stream",
          "text": [
            ". "
          ],
          "name": "stdout"
        },
        {
          "output_type": "stream",
          "text": [
            "\r 84%|████████▍ | 549/650 [04:59<00:53,  1.90it/s]"
          ],
          "name": "stderr"
        },
        {
          "output_type": "stream",
          "text": [
            ". "
          ],
          "name": "stdout"
        },
        {
          "output_type": "stream",
          "text": [
            "\r 85%|████████▍ | 550/650 [05:00<00:53,  1.86it/s]"
          ],
          "name": "stderr"
        },
        {
          "output_type": "stream",
          "text": [
            ". "
          ],
          "name": "stdout"
        },
        {
          "output_type": "stream",
          "text": [
            "\r 85%|████████▍ | 551/650 [05:00<00:52,  1.88it/s]"
          ],
          "name": "stderr"
        },
        {
          "output_type": "stream",
          "text": [
            ". "
          ],
          "name": "stdout"
        },
        {
          "output_type": "stream",
          "text": [
            "\r 85%|████████▍ | 552/650 [05:01<00:53,  1.84it/s]"
          ],
          "name": "stderr"
        },
        {
          "output_type": "stream",
          "text": [
            ". "
          ],
          "name": "stdout"
        },
        {
          "output_type": "stream",
          "text": [
            "\r 85%|████████▌ | 553/650 [05:01<00:53,  1.82it/s]"
          ],
          "name": "stderr"
        },
        {
          "output_type": "stream",
          "text": [
            ". "
          ],
          "name": "stdout"
        },
        {
          "output_type": "stream",
          "text": [
            "\r 85%|████████▌ | 554/650 [05:02<00:53,  1.81it/s]"
          ],
          "name": "stderr"
        },
        {
          "output_type": "stream",
          "text": [
            ". "
          ],
          "name": "stdout"
        },
        {
          "output_type": "stream",
          "text": [
            "\r 85%|████████▌ | 555/650 [05:02<00:51,  1.86it/s]"
          ],
          "name": "stderr"
        },
        {
          "output_type": "stream",
          "text": [
            ". "
          ],
          "name": "stdout"
        },
        {
          "output_type": "stream",
          "text": [
            "\r 86%|████████▌ | 556/650 [05:03<00:50,  1.87it/s]"
          ],
          "name": "stderr"
        },
        {
          "output_type": "stream",
          "text": [
            ". "
          ],
          "name": "stdout"
        },
        {
          "output_type": "stream",
          "text": [
            "\r 86%|████████▌ | 557/650 [05:03<00:50,  1.84it/s]"
          ],
          "name": "stderr"
        },
        {
          "output_type": "stream",
          "text": [
            ". "
          ],
          "name": "stdout"
        },
        {
          "output_type": "stream",
          "text": [
            "\r 86%|████████▌ | 558/650 [05:04<00:49,  1.86it/s]"
          ],
          "name": "stderr"
        },
        {
          "output_type": "stream",
          "text": [
            ". "
          ],
          "name": "stdout"
        },
        {
          "output_type": "stream",
          "text": [
            "\r 86%|████████▌ | 559/650 [05:04<00:48,  1.87it/s]"
          ],
          "name": "stderr"
        },
        {
          "output_type": "stream",
          "text": [
            ". "
          ],
          "name": "stdout"
        },
        {
          "output_type": "stream",
          "text": [
            "\r 86%|████████▌ | 560/650 [05:05<00:48,  1.87it/s]"
          ],
          "name": "stderr"
        },
        {
          "output_type": "stream",
          "text": [
            ". "
          ],
          "name": "stdout"
        },
        {
          "output_type": "stream",
          "text": [
            "\r 86%|████████▋ | 561/650 [05:06<00:48,  1.84it/s]"
          ],
          "name": "stderr"
        },
        {
          "output_type": "stream",
          "text": [
            ". "
          ],
          "name": "stdout"
        },
        {
          "output_type": "stream",
          "text": [
            "\r 86%|████████▋ | 562/650 [05:06<00:48,  1.83it/s]"
          ],
          "name": "stderr"
        },
        {
          "output_type": "stream",
          "text": [
            ". "
          ],
          "name": "stdout"
        },
        {
          "output_type": "stream",
          "text": [
            "\r 87%|████████▋ | 563/650 [05:07<00:47,  1.83it/s]"
          ],
          "name": "stderr"
        },
        {
          "output_type": "stream",
          "text": [
            ". "
          ],
          "name": "stdout"
        },
        {
          "output_type": "stream",
          "text": [
            "\r 87%|████████▋ | 564/650 [05:07<00:46,  1.85it/s]"
          ],
          "name": "stderr"
        },
        {
          "output_type": "stream",
          "text": [
            ". "
          ],
          "name": "stdout"
        },
        {
          "output_type": "stream",
          "text": [
            "\r 87%|████████▋ | 565/650 [05:08<00:45,  1.85it/s]"
          ],
          "name": "stderr"
        },
        {
          "output_type": "stream",
          "text": [
            ". "
          ],
          "name": "stdout"
        },
        {
          "output_type": "stream",
          "text": [
            "\r 87%|████████▋ | 566/650 [05:08<00:44,  1.89it/s]"
          ],
          "name": "stderr"
        },
        {
          "output_type": "stream",
          "text": [
            ". "
          ],
          "name": "stdout"
        },
        {
          "output_type": "stream",
          "text": [
            "\r 87%|████████▋ | 567/650 [05:09<00:45,  1.82it/s]"
          ],
          "name": "stderr"
        },
        {
          "output_type": "stream",
          "text": [
            ". "
          ],
          "name": "stdout"
        },
        {
          "output_type": "stream",
          "text": [
            "\r 87%|████████▋ | 568/650 [05:09<00:44,  1.83it/s]"
          ],
          "name": "stderr"
        },
        {
          "output_type": "stream",
          "text": [
            ". "
          ],
          "name": "stdout"
        },
        {
          "output_type": "stream",
          "text": [
            "\r 88%|████████▊ | 569/650 [05:10<00:44,  1.83it/s]"
          ],
          "name": "stderr"
        },
        {
          "output_type": "stream",
          "text": [
            ". "
          ],
          "name": "stdout"
        },
        {
          "output_type": "stream",
          "text": [
            "\r 88%|████████▊ | 570/650 [05:10<00:43,  1.84it/s]"
          ],
          "name": "stderr"
        },
        {
          "output_type": "stream",
          "text": [
            ". "
          ],
          "name": "stdout"
        },
        {
          "output_type": "stream",
          "text": [
            "\r 88%|████████▊ | 571/650 [05:11<00:42,  1.86it/s]"
          ],
          "name": "stderr"
        },
        {
          "output_type": "stream",
          "text": [
            ". "
          ],
          "name": "stdout"
        },
        {
          "output_type": "stream",
          "text": [
            "\r 88%|████████▊ | 572/650 [05:12<00:42,  1.85it/s]"
          ],
          "name": "stderr"
        },
        {
          "output_type": "stream",
          "text": [
            ". "
          ],
          "name": "stdout"
        },
        {
          "output_type": "stream",
          "text": [
            "\r 88%|████████▊ | 573/650 [05:12<00:42,  1.83it/s]"
          ],
          "name": "stderr"
        },
        {
          "output_type": "stream",
          "text": [
            ". "
          ],
          "name": "stdout"
        },
        {
          "output_type": "stream",
          "text": [
            "\r 88%|████████▊ | 574/650 [05:13<00:41,  1.81it/s]"
          ],
          "name": "stderr"
        },
        {
          "output_type": "stream",
          "text": [
            ". "
          ],
          "name": "stdout"
        },
        {
          "output_type": "stream",
          "text": [
            "\r 88%|████████▊ | 575/650 [05:13<00:41,  1.81it/s]"
          ],
          "name": "stderr"
        },
        {
          "output_type": "stream",
          "text": [
            ". "
          ],
          "name": "stdout"
        },
        {
          "output_type": "stream",
          "text": [
            "\r 89%|████████▊ | 576/650 [05:14<00:40,  1.83it/s]"
          ],
          "name": "stderr"
        },
        {
          "output_type": "stream",
          "text": [
            ". "
          ],
          "name": "stdout"
        },
        {
          "output_type": "stream",
          "text": [
            "\r 89%|████████▉ | 577/650 [05:14<00:40,  1.81it/s]"
          ],
          "name": "stderr"
        },
        {
          "output_type": "stream",
          "text": [
            ". "
          ],
          "name": "stdout"
        },
        {
          "output_type": "stream",
          "text": [
            "\r 89%|████████▉ | 578/650 [05:15<00:39,  1.84it/s]"
          ],
          "name": "stderr"
        },
        {
          "output_type": "stream",
          "text": [
            ". "
          ],
          "name": "stdout"
        },
        {
          "output_type": "stream",
          "text": [
            "\r 89%|████████▉ | 579/650 [05:15<00:38,  1.86it/s]"
          ],
          "name": "stderr"
        },
        {
          "output_type": "stream",
          "text": [
            ". "
          ],
          "name": "stdout"
        },
        {
          "output_type": "stream",
          "text": [
            "\r 89%|████████▉ | 580/650 [05:16<00:38,  1.83it/s]"
          ],
          "name": "stderr"
        },
        {
          "output_type": "stream",
          "text": [
            ". "
          ],
          "name": "stdout"
        },
        {
          "output_type": "stream",
          "text": [
            "\r 89%|████████▉ | 581/650 [05:16<00:37,  1.84it/s]"
          ],
          "name": "stderr"
        },
        {
          "output_type": "stream",
          "text": [
            ". "
          ],
          "name": "stdout"
        },
        {
          "output_type": "stream",
          "text": [
            "\r 90%|████████▉ | 582/650 [05:17<00:37,  1.82it/s]"
          ],
          "name": "stderr"
        },
        {
          "output_type": "stream",
          "text": [
            ". "
          ],
          "name": "stdout"
        },
        {
          "output_type": "stream",
          "text": [
            "\r 90%|████████▉ | 583/650 [05:18<00:36,  1.84it/s]"
          ],
          "name": "stderr"
        },
        {
          "output_type": "stream",
          "text": [
            ". "
          ],
          "name": "stdout"
        },
        {
          "output_type": "stream",
          "text": [
            "\r 90%|████████▉ | 584/650 [05:18<00:35,  1.84it/s]"
          ],
          "name": "stderr"
        },
        {
          "output_type": "stream",
          "text": [
            ". "
          ],
          "name": "stdout"
        },
        {
          "output_type": "stream",
          "text": [
            "\r 90%|█████████ | 585/650 [05:19<00:36,  1.79it/s]"
          ],
          "name": "stderr"
        },
        {
          "output_type": "stream",
          "text": [
            ". "
          ],
          "name": "stdout"
        },
        {
          "output_type": "stream",
          "text": [
            "\r 90%|█████████ | 586/650 [05:19<00:35,  1.80it/s]"
          ],
          "name": "stderr"
        },
        {
          "output_type": "stream",
          "text": [
            ". "
          ],
          "name": "stdout"
        },
        {
          "output_type": "stream",
          "text": [
            "\r 90%|█████████ | 587/650 [05:20<00:34,  1.82it/s]"
          ],
          "name": "stderr"
        },
        {
          "output_type": "stream",
          "text": [
            ". "
          ],
          "name": "stdout"
        },
        {
          "output_type": "stream",
          "text": [
            "\r 90%|█████████ | 588/650 [05:20<00:34,  1.82it/s]"
          ],
          "name": "stderr"
        },
        {
          "output_type": "stream",
          "text": [
            ". "
          ],
          "name": "stdout"
        },
        {
          "output_type": "stream",
          "text": [
            "\r 91%|█████████ | 589/650 [05:21<00:33,  1.85it/s]"
          ],
          "name": "stderr"
        },
        {
          "output_type": "stream",
          "text": [
            ". "
          ],
          "name": "stdout"
        },
        {
          "output_type": "stream",
          "text": [
            "\r 91%|█████████ | 590/650 [05:21<00:32,  1.85it/s]"
          ],
          "name": "stderr"
        },
        {
          "output_type": "stream",
          "text": [
            ". "
          ],
          "name": "stdout"
        },
        {
          "output_type": "stream",
          "text": [
            "\r 91%|█████████ | 591/650 [05:22<00:31,  1.86it/s]"
          ],
          "name": "stderr"
        },
        {
          "output_type": "stream",
          "text": [
            ". "
          ],
          "name": "stdout"
        },
        {
          "output_type": "stream",
          "text": [
            "\r 91%|█████████ | 592/650 [05:22<00:31,  1.83it/s]"
          ],
          "name": "stderr"
        },
        {
          "output_type": "stream",
          "text": [
            ". "
          ],
          "name": "stdout"
        },
        {
          "output_type": "stream",
          "text": [
            "\r 91%|█████████ | 593/650 [05:23<00:31,  1.82it/s]"
          ],
          "name": "stderr"
        },
        {
          "output_type": "stream",
          "text": [
            ". "
          ],
          "name": "stdout"
        },
        {
          "output_type": "stream",
          "text": [
            "\r 91%|█████████▏| 594/650 [05:24<00:30,  1.84it/s]"
          ],
          "name": "stderr"
        },
        {
          "output_type": "stream",
          "text": [
            ". "
          ],
          "name": "stdout"
        },
        {
          "output_type": "stream",
          "text": [
            "\r 92%|█████████▏| 595/650 [05:24<00:30,  1.81it/s]"
          ],
          "name": "stderr"
        },
        {
          "output_type": "stream",
          "text": [
            ". "
          ],
          "name": "stdout"
        },
        {
          "output_type": "stream",
          "text": [
            "\r 92%|█████████▏| 596/650 [05:25<00:29,  1.80it/s]"
          ],
          "name": "stderr"
        },
        {
          "output_type": "stream",
          "text": [
            ". "
          ],
          "name": "stdout"
        },
        {
          "output_type": "stream",
          "text": [
            "\r 92%|█████████▏| 597/650 [05:25<00:28,  1.83it/s]"
          ],
          "name": "stderr"
        },
        {
          "output_type": "stream",
          "text": [
            ". "
          ],
          "name": "stdout"
        },
        {
          "output_type": "stream",
          "text": [
            "\r 92%|█████████▏| 598/650 [05:26<00:28,  1.84it/s]"
          ],
          "name": "stderr"
        },
        {
          "output_type": "stream",
          "text": [
            ". "
          ],
          "name": "stdout"
        },
        {
          "output_type": "stream",
          "text": [
            "\r 92%|█████████▏| 599/650 [05:26<00:28,  1.81it/s]"
          ],
          "name": "stderr"
        },
        {
          "output_type": "stream",
          "text": [
            ". "
          ],
          "name": "stdout"
        },
        {
          "output_type": "stream",
          "text": [
            "\r 92%|█████████▏| 600/650 [05:27<00:27,  1.81it/s]"
          ],
          "name": "stderr"
        },
        {
          "output_type": "stream",
          "text": [
            ". "
          ],
          "name": "stdout"
        },
        {
          "output_type": "stream",
          "text": [
            "\r 92%|█████████▏| 601/650 [05:27<00:26,  1.82it/s]"
          ],
          "name": "stderr"
        },
        {
          "output_type": "stream",
          "text": [
            ". "
          ],
          "name": "stdout"
        },
        {
          "output_type": "stream",
          "text": [
            "\r 93%|█████████▎| 602/650 [05:28<00:26,  1.84it/s]"
          ],
          "name": "stderr"
        },
        {
          "output_type": "stream",
          "text": [
            ". "
          ],
          "name": "stdout"
        },
        {
          "output_type": "stream",
          "text": [
            "\r 93%|█████████▎| 603/650 [05:29<00:26,  1.79it/s]"
          ],
          "name": "stderr"
        },
        {
          "output_type": "stream",
          "text": [
            ". "
          ],
          "name": "stdout"
        },
        {
          "output_type": "stream",
          "text": [
            "\r 93%|█████████▎| 604/650 [05:29<00:25,  1.83it/s]"
          ],
          "name": "stderr"
        },
        {
          "output_type": "stream",
          "text": [
            ". "
          ],
          "name": "stdout"
        },
        {
          "output_type": "stream",
          "text": [
            "\r 93%|█████████▎| 605/650 [05:30<00:24,  1.81it/s]"
          ],
          "name": "stderr"
        },
        {
          "output_type": "stream",
          "text": [
            ". "
          ],
          "name": "stdout"
        },
        {
          "output_type": "stream",
          "text": [
            "\r 93%|█████████▎| 606/650 [05:30<00:23,  1.84it/s]"
          ],
          "name": "stderr"
        },
        {
          "output_type": "stream",
          "text": [
            ". "
          ],
          "name": "stdout"
        },
        {
          "output_type": "stream",
          "text": [
            "\r 93%|█████████▎| 607/650 [05:31<00:23,  1.84it/s]"
          ],
          "name": "stderr"
        },
        {
          "output_type": "stream",
          "text": [
            ". "
          ],
          "name": "stdout"
        },
        {
          "output_type": "stream",
          "text": [
            "\r 94%|█████████▎| 608/650 [05:31<00:22,  1.84it/s]"
          ],
          "name": "stderr"
        },
        {
          "output_type": "stream",
          "text": [
            ". "
          ],
          "name": "stdout"
        },
        {
          "output_type": "stream",
          "text": [
            "\r 94%|█████████▎| 609/650 [05:32<00:22,  1.82it/s]"
          ],
          "name": "stderr"
        },
        {
          "output_type": "stream",
          "text": [
            ". "
          ],
          "name": "stdout"
        },
        {
          "output_type": "stream",
          "text": [
            "\r 94%|█████████▍| 610/650 [05:32<00:22,  1.81it/s]"
          ],
          "name": "stderr"
        },
        {
          "output_type": "stream",
          "text": [
            ". "
          ],
          "name": "stdout"
        },
        {
          "output_type": "stream",
          "text": [
            "\r 94%|█████████▍| 611/650 [05:33<00:21,  1.79it/s]"
          ],
          "name": "stderr"
        },
        {
          "output_type": "stream",
          "text": [
            ". "
          ],
          "name": "stdout"
        },
        {
          "output_type": "stream",
          "text": [
            "\r 94%|█████████▍| 612/650 [05:33<00:20,  1.83it/s]"
          ],
          "name": "stderr"
        },
        {
          "output_type": "stream",
          "text": [
            ". "
          ],
          "name": "stdout"
        },
        {
          "output_type": "stream",
          "text": [
            "\r 94%|█████████▍| 613/650 [05:34<00:20,  1.84it/s]"
          ],
          "name": "stderr"
        },
        {
          "output_type": "stream",
          "text": [
            ". "
          ],
          "name": "stdout"
        },
        {
          "output_type": "stream",
          "text": [
            "\r 94%|█████████▍| 614/650 [05:35<00:19,  1.85it/s]"
          ],
          "name": "stderr"
        },
        {
          "output_type": "stream",
          "text": [
            ". "
          ],
          "name": "stdout"
        },
        {
          "output_type": "stream",
          "text": [
            "\r 95%|█████████▍| 615/650 [05:35<00:19,  1.83it/s]"
          ],
          "name": "stderr"
        },
        {
          "output_type": "stream",
          "text": [
            ". "
          ],
          "name": "stdout"
        },
        {
          "output_type": "stream",
          "text": [
            "\r 95%|█████████▍| 616/650 [05:36<00:18,  1.82it/s]"
          ],
          "name": "stderr"
        },
        {
          "output_type": "stream",
          "text": [
            ". "
          ],
          "name": "stdout"
        },
        {
          "output_type": "stream",
          "text": [
            "\r 95%|█████████▍| 617/650 [05:36<00:17,  1.84it/s]"
          ],
          "name": "stderr"
        },
        {
          "output_type": "stream",
          "text": [
            ". "
          ],
          "name": "stdout"
        },
        {
          "output_type": "stream",
          "text": [
            "\r 95%|█████████▌| 618/650 [05:37<00:17,  1.84it/s]"
          ],
          "name": "stderr"
        },
        {
          "output_type": "stream",
          "text": [
            ". "
          ],
          "name": "stdout"
        },
        {
          "output_type": "stream",
          "text": [
            "\r 95%|█████████▌| 619/650 [05:37<00:16,  1.84it/s]"
          ],
          "name": "stderr"
        },
        {
          "output_type": "stream",
          "text": [
            ". "
          ],
          "name": "stdout"
        },
        {
          "output_type": "stream",
          "text": [
            "\r 95%|█████████▌| 620/650 [05:38<00:16,  1.87it/s]"
          ],
          "name": "stderr"
        },
        {
          "output_type": "stream",
          "text": [
            ". "
          ],
          "name": "stdout"
        },
        {
          "output_type": "stream",
          "text": [
            "\r 96%|█████████▌| 621/650 [05:38<00:15,  1.84it/s]"
          ],
          "name": "stderr"
        },
        {
          "output_type": "stream",
          "text": [
            ". "
          ],
          "name": "stdout"
        },
        {
          "output_type": "stream",
          "text": [
            "\r 96%|█████████▌| 622/650 [05:39<00:15,  1.85it/s]"
          ],
          "name": "stderr"
        },
        {
          "output_type": "stream",
          "text": [
            ". "
          ],
          "name": "stdout"
        },
        {
          "output_type": "stream",
          "text": [
            "\r 96%|█████████▌| 623/650 [05:39<00:14,  1.87it/s]"
          ],
          "name": "stderr"
        },
        {
          "output_type": "stream",
          "text": [
            ". "
          ],
          "name": "stdout"
        },
        {
          "output_type": "stream",
          "text": [
            "\r 96%|█████████▌| 624/650 [05:40<00:13,  1.87it/s]"
          ],
          "name": "stderr"
        },
        {
          "output_type": "stream",
          "text": [
            ". "
          ],
          "name": "stdout"
        },
        {
          "output_type": "stream",
          "text": [
            "\r 96%|█████████▌| 625/650 [05:41<00:13,  1.86it/s]"
          ],
          "name": "stderr"
        },
        {
          "output_type": "stream",
          "text": [
            ". "
          ],
          "name": "stdout"
        },
        {
          "output_type": "stream",
          "text": [
            "\r 96%|█████████▋| 626/650 [05:41<00:12,  1.87it/s]"
          ],
          "name": "stderr"
        },
        {
          "output_type": "stream",
          "text": [
            ". "
          ],
          "name": "stdout"
        },
        {
          "output_type": "stream",
          "text": [
            "\r 96%|█████████▋| 627/650 [05:42<00:12,  1.89it/s]"
          ],
          "name": "stderr"
        },
        {
          "output_type": "stream",
          "text": [
            ". "
          ],
          "name": "stdout"
        },
        {
          "output_type": "stream",
          "text": [
            "\r 97%|█████████▋| 628/650 [05:42<00:11,  1.88it/s]"
          ],
          "name": "stderr"
        },
        {
          "output_type": "stream",
          "text": [
            ". "
          ],
          "name": "stdout"
        },
        {
          "output_type": "stream",
          "text": [
            "\r 97%|█████████▋| 629/650 [05:43<00:11,  1.87it/s]"
          ],
          "name": "stderr"
        },
        {
          "output_type": "stream",
          "text": [
            ". "
          ],
          "name": "stdout"
        },
        {
          "output_type": "stream",
          "text": [
            "\r 97%|█████████▋| 630/650 [05:43<00:11,  1.72it/s]"
          ],
          "name": "stderr"
        },
        {
          "output_type": "stream",
          "text": [
            ". "
          ],
          "name": "stdout"
        },
        {
          "output_type": "stream",
          "text": [
            "\r 97%|█████████▋| 631/650 [05:44<00:10,  1.76it/s]"
          ],
          "name": "stderr"
        },
        {
          "output_type": "stream",
          "text": [
            ". "
          ],
          "name": "stdout"
        },
        {
          "output_type": "stream",
          "text": [
            "\r 97%|█████████▋| 632/650 [05:44<00:10,  1.78it/s]"
          ],
          "name": "stderr"
        },
        {
          "output_type": "stream",
          "text": [
            ". "
          ],
          "name": "stdout"
        },
        {
          "output_type": "stream",
          "text": [
            "\r 97%|█████████▋| 633/650 [05:45<00:09,  1.82it/s]"
          ],
          "name": "stderr"
        },
        {
          "output_type": "stream",
          "text": [
            ". "
          ],
          "name": "stdout"
        },
        {
          "output_type": "stream",
          "text": [
            "\r 98%|█████████▊| 634/650 [05:45<00:08,  1.83it/s]"
          ],
          "name": "stderr"
        },
        {
          "output_type": "stream",
          "text": [
            ". "
          ],
          "name": "stdout"
        },
        {
          "output_type": "stream",
          "text": [
            "\r 98%|█████████▊| 635/650 [05:46<00:08,  1.84it/s]"
          ],
          "name": "stderr"
        },
        {
          "output_type": "stream",
          "text": [
            ". "
          ],
          "name": "stdout"
        },
        {
          "output_type": "stream",
          "text": [
            "\r 98%|█████████▊| 636/650 [05:47<00:07,  1.85it/s]"
          ],
          "name": "stderr"
        },
        {
          "output_type": "stream",
          "text": [
            ". "
          ],
          "name": "stdout"
        },
        {
          "output_type": "stream",
          "text": [
            "\r 98%|█████████▊| 637/650 [05:47<00:07,  1.83it/s]"
          ],
          "name": "stderr"
        },
        {
          "output_type": "stream",
          "text": [
            ". "
          ],
          "name": "stdout"
        },
        {
          "output_type": "stream",
          "text": [
            "\r 98%|█████████▊| 638/650 [05:48<00:06,  1.83it/s]"
          ],
          "name": "stderr"
        },
        {
          "output_type": "stream",
          "text": [
            ". "
          ],
          "name": "stdout"
        },
        {
          "output_type": "stream",
          "text": [
            "\r 98%|█████████▊| 639/650 [05:48<00:05,  1.84it/s]"
          ],
          "name": "stderr"
        },
        {
          "output_type": "stream",
          "text": [
            ". "
          ],
          "name": "stdout"
        },
        {
          "output_type": "stream",
          "text": [
            "\r 98%|█████████▊| 640/650 [05:49<00:05,  1.88it/s]"
          ],
          "name": "stderr"
        },
        {
          "output_type": "stream",
          "text": [
            ". "
          ],
          "name": "stdout"
        },
        {
          "output_type": "stream",
          "text": [
            "\r 99%|█████████▊| 641/650 [05:49<00:04,  1.87it/s]"
          ],
          "name": "stderr"
        },
        {
          "output_type": "stream",
          "text": [
            ". "
          ],
          "name": "stdout"
        },
        {
          "output_type": "stream",
          "text": [
            "\r 99%|█████████▉| 642/650 [05:50<00:04,  1.87it/s]"
          ],
          "name": "stderr"
        },
        {
          "output_type": "stream",
          "text": [
            ". "
          ],
          "name": "stdout"
        },
        {
          "output_type": "stream",
          "text": [
            "\r 99%|█████████▉| 643/650 [05:50<00:03,  1.82it/s]"
          ],
          "name": "stderr"
        },
        {
          "output_type": "stream",
          "text": [
            ". "
          ],
          "name": "stdout"
        },
        {
          "output_type": "stream",
          "text": [
            "\r 99%|█████████▉| 644/650 [05:51<00:03,  1.82it/s]"
          ],
          "name": "stderr"
        },
        {
          "output_type": "stream",
          "text": [
            ". "
          ],
          "name": "stdout"
        },
        {
          "output_type": "stream",
          "text": [
            "\r 99%|█████████▉| 645/650 [05:51<00:02,  1.80it/s]"
          ],
          "name": "stderr"
        },
        {
          "output_type": "stream",
          "text": [
            ". "
          ],
          "name": "stdout"
        },
        {
          "output_type": "stream",
          "text": [
            "\r 99%|█████████▉| 646/650 [05:52<00:02,  1.82it/s]"
          ],
          "name": "stderr"
        },
        {
          "output_type": "stream",
          "text": [
            ". "
          ],
          "name": "stdout"
        },
        {
          "output_type": "stream",
          "text": [
            "\r100%|█████████▉| 647/650 [05:53<00:01,  1.83it/s]"
          ],
          "name": "stderr"
        },
        {
          "output_type": "stream",
          "text": [
            ". "
          ],
          "name": "stdout"
        },
        {
          "output_type": "stream",
          "text": [
            "\r100%|█████████▉| 648/650 [05:53<00:01,  1.85it/s]"
          ],
          "name": "stderr"
        },
        {
          "output_type": "stream",
          "text": [
            ". "
          ],
          "name": "stdout"
        },
        {
          "output_type": "stream",
          "text": [
            "\r100%|█████████▉| 649/650 [05:54<00:00,  1.85it/s]"
          ],
          "name": "stderr"
        },
        {
          "output_type": "stream",
          "text": [
            ". "
          ],
          "name": "stdout"
        },
        {
          "output_type": "stream",
          "text": [
            "100%|██████████| 650/650 [05:54<00:00,  1.83it/s]"
          ],
          "name": "stderr"
        },
        {
          "output_type": "stream",
          "text": [
            "formato da imagem HU (650, 300, 300)\n",
            "formato da imagem HU (300, 300, 650)\n"
          ],
          "name": "stdout"
        },
        {
          "output_type": "stream",
          "text": [
            "\n"
          ],
          "name": "stderr"
        }
      ]
    },
    {
      "cell_type": "code",
      "metadata": {
        "id": "Vt_PnJvFH4M-",
        "colab_type": "code",
        "colab": {
          "base_uri": "https://localhost:8080/",
          "height": 51
        },
        "outputId": "1cb26902-2f6c-4c36-ff42-9cf16d29f5e3"
      },
      "source": [
        "im_flatten = np.reshape(im_leitura,im_leitura.shape[0]*im_leitura.shape[1]*im_leitura.shape[2] )\n",
        "print(\"shape compilado\", im_flatten.shape) \n",
        "thresh = sk.filters.threshold_otsu(im_flatten) # Determina limiar de poros e solidos\n",
        "print(\"o Limiar entre matriz e poros foi:\", thresh)"
      ],
      "execution_count": 63,
      "outputs": [
        {
          "output_type": "stream",
          "text": [
            "shape compilado (58500000,)\n",
            "o Limiar entre matriz e poros foi: 0\n"
          ],
          "name": "stdout"
        }
      ]
    },
    {
      "cell_type": "code",
      "metadata": {
        "id": "EtlQZaWiHz54",
        "colab_type": "code",
        "colab": {
          "base_uri": "https://localhost:8080/",
          "height": 34
        },
        "outputId": "a2f1cb9b-2e07-4ef4-a60d-f52043598572"
      },
      "source": [
        "im_bin0 = []\n",
        "for image in im_leitura:\n",
        "  binary = image <= thresh # binariza a imagem \n",
        "  im_bin0.append(binary) # Adiciona matriz numpy ao vetor de armazenamet\n",
        "\n",
        "im_bin0 = np.array(im_bin0, dtype = bool) # Converte para bolleano \n",
        "print(\"formato da imagem binária\", im_bin0.shape)  "
      ],
      "execution_count": 64,
      "outputs": [
        {
          "output_type": "stream",
          "text": [
            "formato da imagem binária (300, 300, 650)\n"
          ],
          "name": "stdout"
        }
      ]
    },
    {
      "cell_type": "code",
      "metadata": {
        "id": "3DooQFvSoWHV",
        "colab_type": "code",
        "colab": {
          "base_uri": "https://localhost:8080/",
          "height": 34
        },
        "outputId": "f1220e7c-ecfd-4939-e6ea-3df95fe7e942"
      },
      "source": [
        "rev = ps.metrics.representative_elementary_volume(im_bin0, npoints=1000)"
      ],
      "execution_count": 65,
      "outputs": [
        {
          "output_type": "stream",
          "text": [
            "100%|██████████| 1000/1000 [00:05<00:00, 171.26it/s]\n"
          ],
          "name": "stderr"
        }
      ]
    },
    {
      "cell_type": "code",
      "metadata": {
        "id": "86wGqT-pp-MF",
        "colab_type": "code",
        "colab": {
          "base_uri": "https://localhost:8080/",
          "height": 536
        },
        "outputId": "24f44208-3924-47db-ebf7-ecc2f9309b87"
      },
      "source": [
        "plt.figure(figsize=(20, 9))\n",
        "plt.plot(rev.volume ** (1/3), rev.porosity ,'o', fillstyle = None) \n",
        "plt.xticks(fontsize = 16)\n",
        "plt.xlabel(\"REV\", fontsize = 16)\n",
        "plt.yticks(fontsize = 16)\n",
        "plt.ylabel(\"Porosity\", fontsize = 16)\n",
        "plt.legend()\n",
        "plt.grid(True)"
      ],
      "execution_count": 66,
      "outputs": [
        {
          "output_type": "stream",
          "text": [
            "================================================================================\n",
            "WARNING    : No handles with labels found to put in legend. \n",
            "SOURCE     : matplotlib.legend._parse_legend_args \n",
            "TIME STAMP : 2020-09-21 17:53:02,034\n",
            "================================================================================\n"
          ],
          "name": "stderr"
        },
        {
          "output_type": "display_data",
          "data": {
            "image/png": "[encoded data removed]",
            "text/plain": [
              "<Figure size 1440x648 with 1 Axes>"
            ]
          },
          "metadata": {
            "tags": [],
            "needs_background": "light"
          }
        }
      ]
    },
    {
      "cell_type": "code",
      "metadata": {
        "id": "T5RiXcuJO01Z",
        "colab_type": "code",
        "colab": {
          "base_uri": "https://localhost:8080/",
          "height": 370
        },
        "outputId": "cf833ffe-4716-4223-c730-d3eb398ae979"
      },
      "source": [
        "x_size,y_size,z_size = im_bin0.shape\n",
        "x,y,z = [300,300,650]\n",
        "s_x,s_y,s_z = np.array([(x_size-x)/2,(y_size-y)/2,(z_size-z)/2]).astype(int)\n",
        "e_x,e_y,e_z = np.array([x_size-(x_size-x)/2,y_size-(y_size-y)/2,z_size-(z_size-z)/2]).astype(int)\n",
        "\n",
        "im = im_leitura[s_x:e_x,s_y:e_y,s_z:e_z] # separa uma região de 400x400x400\n",
        "print(\"formato da imagem HU\", im.shape) \n",
        "im_bin = im_bin0[s_x:e_x,s_y:e_y,s_z:e_z] # separa uma região de 400x400x400\n",
        "print(\"formato da imagem binária\", im_bin.shape) \n",
        "\n",
        "pos = 4\n",
        "fig, axes = plt.subplots(ncols=3, figsize=(16, 5))\n",
        "ax = axes.ravel()\n",
        "ax[0] = plt.subplot(1, 3, 1)\n",
        "ax[1] = plt.subplot(1, 3, 2)\n",
        "ax[2] = plt.subplot(1, 3, 3, sharex=ax[0], sharey=ax[0])\n",
        "\n",
        "ax[0].imshow(im[:,:, pos], cmap=plt.cm.gray)\n",
        "ax[0].set_title('Original')\n",
        "ax[0].axis('off')\n",
        "\n",
        "ax[1].hist(im_flatten.ravel(), bins=2**8)\n",
        "ax[1].set_title('Histogram')\n",
        "ax[1].axvline(thresh, color='r')\n",
        "\n",
        "ax[2].imshow(im_bin[:, :, pos], cmap=plt.cm.gray)\n",
        "ax[2].set_title('Thresholded')\n",
        "ax[2].axis('off')\n",
        "\n",
        "plt.show()\n",
        "\n",
        "im = im_bin"
      ],
      "execution_count": 57,
      "outputs": [
        {
          "output_type": "stream",
          "text": [
            "formato da imagem HU (300, 300, 650)\n",
            "formato da imagem binária (300, 300, 650)\n"
          ],
          "name": "stdout"
        },
        {
          "output_type": "display_data",
          "data": {
            "image/png": "[encoded data removed]",
            "text/plain": [
              "<Figure size 1152x360 with 3 Axes>"
            ]
          },
          "metadata": {
            "tags": [],
            "needs_background": "light"
          }
        }
      ]
    },
    {
      "cell_type": "markdown",
      "metadata": {
        "id": "MCkDfryOysnf",
        "colab_type": "text"
      },
      "source": [
        "# [Métricas](https://https://porespy.readthedocs.io/en/master/modules/metrics.html?highlight=metrics#module-porespy.metrics) com o PoreSpy\n",
        "\n",
        "Utilizado para extrair informações quantitativas, esse submódulo contém funções para determinar as **principais métricas** sobre uma imagem, normalmente aplicadas a uma imagem após a aplicação de um filtro, mas algumas funções podem ser aplicadas diretamente à **imagem binária**."
      ]
    },
    {
      "cell_type": "markdown",
      "metadata": {
        "id": "nxUpktz_y3X9",
        "colab_type": "text"
      },
      "source": [
        "## Cálculo da porosidade"
      ]
    },
    {
      "cell_type": "code",
      "metadata": {
        "id": "CIWyyFLEyS-M",
        "colab_type": "code",
        "colab": {
          "base_uri": "https://localhost:8080/",
          "height": 34
        },
        "outputId": "947cc64b-2f1f-4911-f5d1-cb987e375e46"
      },
      "source": [
        "print(ps.metrics.porosity(im))"
      ],
      "execution_count": 58,
      "outputs": [
        {
          "output_type": "stream",
          "text": [
            "0.08638813675213675\n"
          ],
          "name": "stdout"
        }
      ]
    },
    {
      "cell_type": "markdown",
      "metadata": {
        "id": "8UtBUObO4wGb",
        "colab_type": "text"
      },
      "source": [
        "## [Distribuição de poros](https:porespy.readthedocs.io/en/master/_modules/porespy/metrics/__funcs__.html#pore_size_distribution)\n",
        "\n",
        "Calcula uma distribuição de tamanho de poro com base na imagem produzida pelas funções de [porosimetry](https://porespy.readthedocs.io/en/master/modules/filters.html#porespy.filters.porosimetry) ou [local_thickness](https://porespy.readthedocs.io/en/master/modules/filters.html#porespy.filters.local_thickness)."
      ]
    },
    {
      "cell_type": "code",
      "metadata": {
        "id": "F55KvLpsaLzx",
        "colab_type": "code",
        "colab": {
          "base_uri": "https://localhost:8080/",
          "height": 34
        },
        "outputId": "824de785-7e0a-403a-91c8-2af8479e71e1"
      },
      "source": [
        "im_porosimetry = ps.filters.porosimetry(im, sizes=25, inlets=None, access_limited=True, mode='hybrid')"
      ],
      "execution_count": 59,
      "outputs": [
        {
          "output_type": "stream",
          "text": [
            "100%|██████████| 25/25 [02:26<00:00,  5.85s/it]\n"
          ],
          "name": "stderr"
        }
      ]
    },
    {
      "cell_type": "code",
      "metadata": {
        "id": "AUUxAYx1067O",
        "colab_type": "code",
        "colab": {
          "base_uri": "https://localhost:8080/",
          "height": 282
        },
        "outputId": "fa5282f2-c5e0-4b64-b471-b6f96bca9f01"
      },
      "source": [
        "dist_poros = ps.metrics.pore_size_distribution(im_porosimetry, bins=15, log=False, voxel_size = 30e-6)\n",
        "\n",
        "plt.bar(dist_poros.R, dist_poros.satn, width=dist_poros.bin_widths, edgecolor='k')"
      ],
      "execution_count": 60,
      "outputs": [
        {
          "output_type": "execute_result",
          "data": {
            "text/plain": [
              "<BarContainer object of 15 artists>"
            ]
          },
          "metadata": {
            "tags": []
          },
          "execution_count": 60
        },
        {
          "output_type": "display_data",
          "data": {
            "image/png": "[encoded data removed]",
            "text/plain": [
              "<Figure size 432x288 with 1 Axes>"
            ]
          },
          "metadata": {
            "tags": [],
            "needs_background": "light"
          }
        }
      ]
    },
    {
      "cell_type": "markdown",
      "metadata": {
        "id": "OEiu5Z5N791x",
        "colab_type": "text"
      },
      "source": [
        "##  Impressão das amostras numpy"
      ]
    },
    {
      "cell_type": "code",
      "metadata": {
        "id": "7DdvU7hLQFVw",
        "colab_type": "code",
        "colab": {
          "base_uri": "https://localhost:8080/",
          "height": 261
        },
        "outputId": "152a104c-354c-45d6-cf5c-fcef143e6af9"
      },
      "source": [
        "#NBVAL_IGNORE_OUTPUT\n",
        "\n",
        "fig, ax = plt.subplots(1, 3, figsize=(12,5))\n",
        "ax[0].imshow(im[:, :, 10], cmap = 'gray');\n",
        "ax[1].imshow(ps.visualization.show_3D(im), cmap = 'gray');\n",
        "ax[2].imshow(ps.visualization.xray(im, direction='Z'), cmap = 'gray');\n",
        "ax[0].set_title(\"Slice No. 10 View\");\n",
        "ax[1].set_title(\"3D Sketch\");\n",
        "ax[2].set_title(\"X-ray View\");\n"
      ],
      "execution_count": null,
      "outputs": [
        {
          "output_type": "display_data",
          "data": {
            "image/png": "[encoded data removed]",
            "text/plain": [
              "<Figure size 864x360 with 3 Axes>"
            ]
          },
          "metadata": {
            "tags": [],
            "needs_background": "light"
          }
        }
      ]
    },
    {
      "cell_type": "markdown",
      "metadata": {
        "id": "l-nlO7rX8spN",
        "colab_type": "text"
      },
      "source": [
        "# Criação da [Rede de Poros](https://porespy.readthedocs.io/en/master/modules/networks.html#id1)\n",
        "\n",
        "Obtém as representações de rede a partir das seguintes funções para analisar imagens como redes de poros:\n",
        "\n",
        "* porespy.networks.add_boundary_regions([…]) - Dada uma imagem particionada em regiões, as faces especificadas são preenchidas com novas regiões\n",
        "\n",
        "* ***porespy.networks.snow(im[, voxel_size, …]) - Analisa uma imagem que foi particionada em regiões vazias e sólidas e extrai a geometria das fases vazias e sólidas, bem como a conectividade de rede.***\n",
        "\n",
        "* porespy.networks.snow_dual(im[, voxel_size, …])\t- Analisa uma imagem que foi particionada em regiões vazias e sólidas e extrai a geometria das fases vazias e sólidas, bem como a conectividade de rede.\n",
        "\n",
        "* porespy.networks.regions_to_network(im[, …]) - Analisa uma imagem que foi particionada em regiões porosas e extrai a geometria dos poros e garganta, bem como a conectividade da rede.\n",
        "\n",
        "* porespy.networks.map_to_regions(regions, values) - Mapeia valores de poros de uma rede para a imagem da qual foi extraída\t\n",
        "\n",
        "* porespy.networks.generate_voxel_image(network) - Gera imagem voxel a partir de um objeto de rede OpenPNM. \t"
      ]
    },
    {
      "cell_type": "markdown",
      "metadata": {
        "id": "S-EdK9G5Bvsx",
        "colab_type": "text"
      },
      "source": [
        "## Algoritmo [SNOW](https://porespy.readthedocs.io/en/master/modules/networks.html#porespy.networks.snow) (Sub-Network of the Oversegmented Watershed)\n",
        "\n",
        "O algoritmo começa encontrando todos os picos que levariam a uma bacia hidrográfica super segmentada, reduzindo progressivamente o número de máximos locais, descartando várias classes de picos, produzindo uma sub-rede da bacia hidrográfica super-segmentada (SNOW).   \n",
        "\n",
        "O algoritmo SNOW prossegue em quatro etapas principais:\n",
        "1. Pré-filtrar o mapa de distância,\n",
        "2. Eliminar os picos nas selas e planaltos,\n",
        "3. Mesclar os picos muito próximos um do outro,\n",
        "4. Atribuir voxels vazios ao poro apropriado usando a bacia de amarker.\n",
        "\n",
        "Referencia: [Gostick, 2017](https://core.ac.uk/reader/151194110)\n",
        "\n",
        "\n"
      ]
    },
    {
      "cell_type": "code",
      "metadata": {
        "id": "os73NSmLQOBg",
        "colab_type": "code",
        "colab": {
          "base_uri": "https://localhost:8080/",
          "height": 1000
        },
        "outputId": "bb6b03c2-f32e-4c37-8d41-f9f7d1f35645"
      },
      "source": [
        "resolution = 50e-6 #resolução que a amostra foi escaneada\n",
        "net = ps.networks.snow_n(im=im, voxel_size=resolution)"
      ],
      "execution_count": 39,
      "outputs": [
        {
          "output_type": "stream",
          "text": [
            "____________________________________________________________\n",
            "Processing Phase phase1\n",
            "------------------------------------------------------------\n",
            "Beginning SNOW Algorithm\n",
            "Converting supplied image (im) to boolean\n",
            "Peforming Distance Transform\n",
            "Applying Gaussian blur with sigma = 0.4\n",
            "Initial number of peaks:  8595\n",
            "Maximum number of iterations reached, consider running again with a larger value of max_iters\n",
            "Maximum number of iterations reached, consider running again with a larger value of max_iters\n",
            "Maximum number of iterations reached, consider running again with a larger value of max_iters\n",
            "Maximum number of iterations reached, consider running again with a larger value of max_iters\n",
            "Maximum number of iterations reached, consider running again with a larger value of max_iters\n",
            "Maximum number of iterations reached, consider running again with a larger value of max_iters\n",
            "Maximum number of iterations reached, consider running again with a larger value of max_iters\n",
            "Maximum number of iterations reached, consider running again with a larger value of max_iters\n",
            "Maximum number of iterations reached, consider running again with a larger value of max_iters\n",
            "Maximum number of iterations reached, consider running again with a larger value of max_iters\n",
            "Maximum number of iterations reached, consider running again with a larger value of max_iters\n",
            "Maximum number of iterations reached, consider running again with a larger value of max_iters\n",
            "Maximum number of iterations reached, consider running again with a larger value of max_iters\n",
            "Maximum number of iterations reached, consider running again with a larger value of max_iters\n",
            "Maximum number of iterations reached, consider running again with a larger value of max_iters\n",
            "Maximum number of iterations reached, consider running again with a larger value of max_iters\n",
            "Maximum number of iterations reached, consider running again with a larger value of max_iters\n",
            "Maximum number of iterations reached, consider running again with a larger value of max_iters\n",
            "Maximum number of iterations reached, consider running again with a larger value of max_iters\n",
            "Maximum number of iterations reached, consider running again with a larger value of max_iters\n",
            "Maximum number of iterations reached, consider running again with a larger value of max_iters\n",
            "Maximum number of iterations reached, consider running again with a larger value of max_iters\n",
            "Maximum number of iterations reached, consider running again with a larger value of max_iters\n",
            "Maximum number of iterations reached, consider running again with a larger value of max_iters\n",
            "Maximum number of iterations reached, consider running again with a larger value of max_iters\n",
            "Maximum number of iterations reached, consider running again with a larger value of max_iters\n",
            "Maximum number of iterations reached, consider running again with a larger value of max_iters\n",
            "Maximum number of iterations reached, consider running again with a larger value of max_iters\n",
            "Maximum number of iterations reached, consider running again with a larger value of max_iters\n",
            "Maximum number of iterations reached, consider running again with a larger value of max_iters\n",
            "Maximum number of iterations reached, consider running again with a larger value of max_iters\n",
            "Maximum number of iterations reached, consider running again with a larger value of max_iters\n",
            "Maximum number of iterations reached, consider running again with a larger value of max_iters\n",
            "Maximum number of iterations reached, consider running again with a larger value of max_iters\n",
            "Maximum number of iterations reached, consider running again with a larger value of max_iters\n",
            "Maximum number of iterations reached, consider running again with a larger value of max_iters\n",
            "Maximum number of iterations reached, consider running again with a larger value of max_iters\n",
            "Maximum number of iterations reached, consider running again with a larger value of max_iters\n",
            "Maximum number of iterations reached, consider running again with a larger value of max_iters\n",
            "Maximum number of iterations reached, consider running again with a larger value of max_iters\n",
            "Maximum number of iterations reached, consider running again with a larger value of max_iters\n",
            "Maximum number of iterations reached, consider running again with a larger value of max_iters\n",
            "Maximum number of iterations reached, consider running again with a larger value of max_iters\n",
            "Maximum number of iterations reached, consider running again with a larger value of max_iters\n",
            "Maximum number of iterations reached, consider running again with a larger value of max_iters\n",
            "Maximum number of iterations reached, consider running again with a larger value of max_iters\n",
            "Maximum number of iterations reached, consider running again with a larger value of max_iters\n",
            "Maximum number of iterations reached, consider running again with a larger value of max_iters\n",
            "Maximum number of iterations reached, consider running again with a larger value of max_iters\n",
            "Maximum number of iterations reached, consider running again with a larger value of max_iters\n",
            "Maximum number of iterations reached, consider running again with a larger value of max_iters\n",
            "Maximum number of iterations reached, consider running again with a larger value of max_iters\n",
            "Maximum number of iterations reached, consider running again with a larger value of max_iters\n",
            "Maximum number of iterations reached, consider running again with a larger value of max_iters\n",
            "Maximum number of iterations reached, consider running again with a larger value of max_iters\n",
            "Maximum number of iterations reached, consider running again with a larger value of max_iters\n",
            "Maximum number of iterations reached, consider running again with a larger value of max_iters\n",
            "Maximum number of iterations reached, consider running again with a larger value of max_iters\n",
            "Maximum number of iterations reached, consider running again with a larger value of max_iters\n",
            "Maximum number of iterations reached, consider running again with a larger value of max_iters\n",
            "Maximum number of iterations reached, consider running again with a larger value of max_iters\n",
            "Maximum number of iterations reached, consider running again with a larger value of max_iters\n",
            "Maximum number of iterations reached, consider running again with a larger value of max_iters\n",
            "Maximum number of iterations reached, consider running again with a larger value of max_iters\n",
            "Maximum number of iterations reached, consider running again with a larger value of max_iters\n",
            "Maximum number of iterations reached, consider running again with a larger value of max_iters\n",
            "Maximum number of iterations reached, consider running again with a larger value of max_iters\n",
            "Maximum number of iterations reached, consider running again with a larger value of max_iters\n",
            "Maximum number of iterations reached, consider running again with a larger value of max_iters\n",
            "Maximum number of iterations reached, consider running again with a larger value of max_iters\n",
            "Maximum number of iterations reached, consider running again with a larger value of max_iters\n",
            "Maximum number of iterations reached, consider running again with a larger value of max_iters\n",
            "Maximum number of iterations reached, consider running again with a larger value of max_iters\n",
            "Maximum number of iterations reached, consider running again with a larger value of max_iters\n",
            "Maximum number of iterations reached, consider running again with a larger value of max_iters\n",
            "Maximum number of iterations reached, consider running again with a larger value of max_iters\n",
            "Maximum number of iterations reached, consider running again with a larger value of max_iters\n",
            "Maximum number of iterations reached, consider running again with a larger value of max_iters\n",
            "Maximum number of iterations reached, consider running again with a larger value of max_iters\n",
            "Maximum number of iterations reached, consider running again with a larger value of max_iters\n",
            "Maximum number of iterations reached, consider running again with a larger value of max_iters\n",
            "Peaks after trimming saddle points:  2579\n",
            "Peaks after trimming nearby peaks:  2579\n",
            "------------------------------------------------------------\n",
            "Extracting pore and throat information from image\n",
            "100%|██████████| 3100/3100 [00:49<00:00, 62.71it/s]\n"
          ],
          "name": "stdout"
        }
      ]
    },
    {
      "cell_type": "markdown",
      "metadata": {
        "id": "049p0Ha5FVQF",
        "colab_type": "text"
      },
      "source": [
        "# Importa rede de poros com OpenPNM"
      ]
    },
    {
      "cell_type": "code",
      "metadata": {
        "id": "bNIKqSWbQShZ",
        "colab_type": "code",
        "colab": {}
      },
      "source": [
        "file_name = 'tambaba650x300x300'\n",
        "\n",
        "'''\n",
        "O espaço de trabalho e o projeto trabalham juntos. \n",
        "O espaço de trabalho é o nível mais alto e rastreia todos os projetos abertos. \n",
        "Os projetos fornecem um nível mais baixo de supervisão. Cada projeto acompanha objetos OpenPNM específicos para cada simulação.\n",
        "'''\n",
        "ws = op.Workspace()\n",
        "proj = op.Project()\n",
        "\n",
        "pn = op.network.GenericNetwork(name = file_name, project=proj) # Esta classe genérica contém a principal funcionalidade usada por todas as redes\n",
        "pn.update(net)  # Preenche 'pn' com dados de 'net'"
      ],
      "execution_count": 40,
      "outputs": []
    },
    {
      "cell_type": "code",
      "metadata": {
        "id": "a3KEoknAQV8e",
        "colab_type": "code",
        "colab": {
          "base_uri": "https://localhost:8080/",
          "height": 816
        },
        "outputId": "8faab914-a851-4f01-a064-54924bcc7372"
      },
      "source": [
        "print(pn)"
      ],
      "execution_count": 41,
      "outputs": [
        {
          "output_type": "stream",
          "text": [
            "――――――――――――――――――――――――――――――――――――――――――――――――――――――――――――――――――――――――――――――\n",
            "openpnm.network.GenericNetwork : tambaba650x300x300\n",
            "――――――――――――――――――――――――――――――――――――――――――――――――――――――――――――――――――――――――――――――\n",
            "#     Properties                                    Valid Values\n",
            "――――――――――――――――――――――――――――――――――――――――――――――――――――――――――――――――――――――――――――――\n",
            "1     pore.area                                      3100 / 3100 \n",
            "2     pore.centroid                                  3100 / 3100 \n",
            "3     pore.coords                                    3100 / 3100 \n",
            "4     pore.diameter                                  3100 / 3100 \n",
            "5     pore.equivalent_diameter                       3100 / 3100 \n",
            "6     pore.extended_diameter                         3100 / 3100 \n",
            "7     pore.inscribed_diameter                        3100 / 3100 \n",
            "8     pore.label                                     3100 / 3100 \n",
            "9     pore.surface_area                              3100 / 3100 \n",
            "10    pore.volume                                    3100 / 3100 \n",
            "11    throat.area                                    1724 / 1724 \n",
            "12    throat.centroid                                1724 / 1724 \n",
            "13    throat.conduit_lengths.pore1                   1724 / 1724 \n",
            "14    throat.conduit_lengths.pore2                   1724 / 1724 \n",
            "15    throat.conduit_lengths.throat                  1724 / 1724 \n",
            "16    throat.conns                                   1724 / 1724 \n",
            "17    throat.diameter                                1724 / 1724 \n",
            "18    throat.direct_length                           1724 / 1724 \n",
            "19    throat.endpoints.head                          1724 / 1724 \n",
            "20    throat.endpoints.tail                          1724 / 1724 \n",
            "21    throat.equivalent_diameter                     1724 / 1724 \n",
            "22    throat.inscribed_diameter                      1724 / 1724 \n",
            "23    throat.length                                  1724 / 1724 \n",
            "24    throat.perimeter                               1724 / 1724 \n",
            "25    throat.total_length                            1724 / 1724 \n",
            "26    throat.volume                                  1724 / 1724 \n",
            "――――――――――――――――――――――――――――――――――――――――――――――――――――――――――――――――――――――――――――――\n",
            "#     Labels                                        Assigned Locations\n",
            "――――――――――――――――――――――――――――――――――――――――――――――――――――――――――――――――――――――――――――――\n",
            "1     pore.all                                      3100      \n",
            "2     pore.back                                     89        \n",
            "3     pore.bottom                                   40        \n",
            "4     pore.boundary                                 521       \n",
            "5     pore.front                                    132       \n",
            "6     pore.left                                     85        \n",
            "7     pore.phase1                                   2579      \n",
            "8     pore.right                                    131       \n",
            "9     pore.top                                      48        \n",
            "10    throat.all                                    1724      \n",
            "11    throat.boundary                               518       \n",
            "12    throat.phase1                                 1206      \n",
            "――――――――――――――――――――――――――――――――――――――――――――――――――――――――――――――――――――――――――――――\n"
          ],
          "name": "stdout"
        }
      ]
    },
    {
      "cell_type": "markdown",
      "metadata": {
        "id": "UHd3G8jnGWEB",
        "colab_type": "text"
      },
      "source": [
        "## Remove os poros isolados da rede, verificando a integridade da rede.\n",
        "\n",
        "Este método verifica a integridade topológica da rede, verificando:\n",
        "1. Poros isolados\n",
        "2. Ilhas ou aglomerados isolados de poros\n",
        "3. Gargantas duplicadas\n",
        "4. Gargantas bidirecionais (isto é, matriz de adjacência simétrica)\n",
        "5. Gargantas sem cabeça"
      ]
    },
    {
      "cell_type": "code",
      "metadata": {
        "id": "ZtvUj12yQZBo",
        "colab_type": "code",
        "colab": {
          "base_uri": "https://localhost:8080/",
          "height": 1000
        },
        "outputId": "5733121c-811f-4725-f80d-9e1e27a395ca"
      },
      "source": [
        "h = pn.check_network_health()\n",
        "print(h)\n",
        "op.topotools.trim(network=pn, pores=h['trim_pores'])\n",
        "h = pn.check_network_health()\n",
        "print(h)"
      ],
      "execution_count": 42,
      "outputs": [
        {
          "output_type": "stream",
          "text": [
            "――――――――――――――――――――――――――――――――――――――――――――――――――――――――――――――――――――――――――――――\n",
            "key                                 value\n",
            "――――――――――――――――――――――――――――――――――――――――――――――――――――――――――――――――――――――――――――――\n",
            "disconnected_clusters               [array([   5,   59,  110,  137,  139,  146,  149,  150,  152,  153,  160,\n",
            "        170,  179,  181,  205,  230,  253,  254,  305,  307,  319,  321,\n",
            "        345,  349,  371,  394,  412,  418,  429,  431,  432,  448,  454,\n",
            "        459,  469,  473,  480,  481,  482,  489,  492,  499,  500,  507,\n",
            "        513,  514,  515,  516,  532,  533,  539,  540,  552,  560,  561,\n",
            "        575,  576,  582,  583,  592,  603,  612,  620,  622,  629,  630,\n",
            "        633,  645,  646,  647,  656,  663,  665,  678,  679,  680,  681,\n",
            "        687,  695,  696,  705,  706,  716,  717,  718,  719,  720,  727,\n",
            "        728,  729,  732,  733,  734,  740,  742,  744,  745,  750,  755,\n",
            "        757,  758,  760,  765,  766,  773,  776,  777,  780,  784,  785,\n",
            "        786,  794,  795,  796,  799,  800,  804,  810,  813,  814,  816,\n",
            "        817,  824,  831,  832,  837,  838,  847,  848,  850,  855,  856,\n",
            "        863,  864,  869,  876,  884,  886,  893,  894,  899,  900,  901,\n",
            "        910,  912,  920,  921,  924,  927,  933,  934,  937,  941,  944,\n",
            "        952,  961,  962,  967,  975,  977,  978,  982,  988,  989,  991,\n",
            "        995,  996, 1004, 1015, 1016, 1017, 1020, 1021, 1022, 1026, 1027,\n",
            "       1028, 1031, 1033, 1038, 1039, 1045, 1046, 1047, 1048, 1049, 1055,\n",
            "       1056, 1059, 1063, 1069, 1070, 1078, 1079, 1080, 1082, 1083, 1088,\n",
            "       1090, 1091, 1092, 1096, 1097, 1098, 1102, 1104, 1108, 1109, 1110,\n",
            "       1112, 1113, 1114, 1120, 1124, 1125, 1126, 1130, 1131, 1132, 1134,\n",
            "       1143, 1144, 1149, 1154, 1155, 1156, 1157, 1158, 1159, 1164, 1166,\n",
            "       1167, 1168, 1170, 1171, 1174, 1175, 1176, 1177, 1179, 1181, 1186,\n",
            "       1187, 1189, 1190, 1197, 1198, 1209, 1210, 1215, 1216, 1217, 1218,\n",
            "       1219, 1223, 1227, 1231, 1232, 1233, 1237, 1239, 1243, 1244, 1248,\n",
            "       1251, 1252, 1256, 1257, 1258, 1259, 1260, 1265, 1267, 1272, 1273,\n",
            "       1274, 1281, 1282, 1285, 1287, 1288, 1292, 1293, 1294, 1295, 1296,\n",
            "       1302, 1303, 1304, 1307, 1310, 1312, 1313, 1318, 1319, 1321, 1322,\n",
            "       1326, 1328, 1331, 1332, 1334, 1336, 1339, 1343, 1344, 1345, 1346,\n",
            "       1347, 1348, 1351, 1354, 1355, 1356, 1357, 1359, 1360, 1364, 1365,\n",
            "       1367, 1370, 1371, 1373, 1375, 1379, 1389, 1390, 1395, 1403, 1404,\n",
            "       1405, 1406, 1413, 1414, 1415, 1420, 1421, 1422, 1428, 1429, 1430,\n",
            "       1431, 1433, 1434, 1437, 1439, 1448, 1452, 1453, 1454, 1455, 1456,\n",
            "       1457, 1462, 1468, 1470, 1474, 1475, 1476, 1477, 1478, 1479, 1487,\n",
            "       1488, 1489, 1490, 1500, 1501, 1508, 1510, 1511, 1512, 1513, 1522,\n",
            "       1523, 1529, 1532, 1533, 1534, 1535, 1537, 1538, 1540, 1541, 1547,\n",
            "       1556, 1557, 1568, 1574, 1575, 1577, 1578, 1579, 1587, 1588, 1589,\n",
            "       1590, 1591, 1595, 1598, 1599, 1600, 1601, 1605, 1606, 1608, 1609,\n",
            "       1611, 1613, 1614, 1619, 1620, 1625, 1626, 1627, 1628, 1632, 1634,\n",
            "       1637, 1643, 1644, 1646, 1648, 1649, 1650, 1653, 1654, 1660, 1663,\n",
            "       1665, 1666, 1667, 1668, 1669, 1674, 1675, 1679, 1681, 1685, 1689,\n",
            "       1691, 1694, 1695, 1702, 1704, 1705, 1709, 1712, 1716, 1717, 1721,\n",
            "       1722, 1723, 1724, 1726, 1728, 1729, 1730, 1733, 1739, 1742, 1748,\n",
            "       1749, 1750, 1757, 1762, 1771, 1772, 1774, 1777, 1779, 1784, 1791,\n",
            "       1795, 1801, 1802, 1805, 1807, 1810, 1811, 1814, 1819, 1821, 1827,\n",
            "       1836, 1837, 1838, 1839, 1846, 1847, 1849, 1852, 1853, 1854, 1855,\n",
            "       1856, 1859, 1860, 1862, 1877, 1880, 1881, 1889, 1893, 1894, 1895,\n",
            "       1896, 1898, 1899, 1906, 1908, 1909, 1911, 1912, 1913, 1914, 1915,\n",
            "       1917, 1918, 1926, 1929, 1930, 1933, 1944, 1946, 1947, 1948, 1954,\n",
            "       1977, 1986, 1987, 1998, 1999, 2000, 2003, 2010, 2012, 2019, 2020,\n",
            "       2022, 2025, 2029, 2033, 2038, 2040, 2042, 2045, 2047, 2050, 2057,\n",
            "       2063, 2070, 2082, 2087, 2097, 2102, 2104, 2112, 2115, 2119, 2121,\n",
            "       2122, 2126, 2128, 2133, 2139, 2148, 2151, 2158, 2160, 2164, 2165,\n",
            "       2179, 2190, 2197, 2200, 2201, 2205, 2211, 2213, 2220, 2224, 2225,\n",
            "       2232, 2234, 2238, 2241, 2243, 2246, 2257, 2262, 2264, 2265, 2272,\n",
            "       2274, 2276, 2277, 2281, 2283, 2284, 2294, 2297, 2299, 2306, 2307,\n",
            "       2310, 2318, 2322, 2334, 2339, 2342, 2350, 2356, 2357, 2359, 2369,\n",
            "       2370, 2377, 2398, 2405, 2409, 2437, 2455, 2457, 2459, 2463, 2468,\n",
            "       2476, 2479, 2484, 2498, 2523, 2525, 2526, 2538, 2545, 2550, 2564,\n",
            "       2586, 2588, 2593, 2595, 2597, 2602, 2609, 2612, 2621, 2626, 2632,\n",
            "       2635, 2637, 2639, 2643, 2670, 2705, 2726, 2732, 2734, 2735, 2737,\n",
            "       2739, 2744, 2746, 2747, 2749, 2751, 2753, 2754, 2755, 2757, 2758,\n",
            "       2759, 2762, 2766, 2770, 2771, 2772, 2774, 2780, 2785, 2799, 2824,\n",
            "       2826, 2827, 2839, 2846, 2851, 2864, 2887, 2891, 2892, 2893, 2901,\n",
            "       2903, 2904, 2905, 2908, 2909, 2910, 2911, 2915, 2916, 2917, 2918,\n",
            "       2919, 2920, 2921, 2923, 2924, 2925, 2926, 2927, 2928, 2929, 2930,\n",
            "       2931, 2932, 2934, 2935, 2936, 2939, 2941, 2944, 2945, 2946, 2947,\n",
            "       2948, 2950, 2951, 2952, 2953, 2977, 3077, 3078, 3088, 3090, 3092,\n",
            "       3093, 3094, 3095]), array([1690, 1759, 1892, 1945, 1955, 1975, 2142, 2155, 2236, 2301, 2312,\n",
            "       2319, 2331, 2345, 2364, 2380, 2386, 2998, 3000, 3002, 3003]), array([2147, 2196, 2207, 2327, 2368, 2382, 2389, 2412, 2415, 2512, 2528,\n",
            "       2761, 2763, 2813, 2829]), array([  50,   68,   78,   85,  114,  133,  184,  186,  323, 2616, 2617,\n",
            "       2702, 2710, 2719]), array([  41,   61,   99,  101,  107,  111,  112,  129,  154,  202,  243,\n",
            "        248, 2698, 2727]), array([1306, 1358, 1374, 1391, 1394, 1409, 1480, 1483, 1514, 2638, 2641]), array([2362, 2374, 2467, 2566, 2568, 2659, 2660, 2662, 2664, 2866, 2868]), array([2267, 2269, 2302, 2326, 2336, 2653, 2654, 2656, 2657, 2658]), array([ 890,  939,  969,  971,  990,  998, 1032, 1041, 1085, 1128]), array([   4,   82,  178,  222, 2669, 2717, 2884, 2889, 2894]), array([1569, 1570, 1618, 1659, 1687, 2964, 2965, 2968]), array([  87,   98,  130,  131,  142, 2720, 2729, 2730]), array([1842, 1901, 1902, 1934, 1935, 2973, 2975, 2976]), array([2055, 2136, 2248, 2268, 2282, 2290, 2314, 2341]), array([1916, 1956, 2043, 2075, 2371, 2384, 2431, 2760]), array([2446, 2469, 2502, 2769, 2775, 2803, 3005, 3010]), array([1713, 1773, 1857, 2072, 2092, 2117, 2127, 2129]), array([1932, 2185, 2490, 2493, 2791, 2794, 2980, 2992]), array([  19,   45,   80,   81,  102, 2683, 3012]), array([1798, 1817, 1826, 1874, 1888, 2970, 2971]), array([ 377,  403,  558,  581,  618, 3027, 3030]), array([  57,   58,  214,  249, 2582, 2704, 2743]), array([2140, 2344, 2453, 2460, 2569, 2615, 2869]), array([197, 272, 338, 393, 409, 411, 494]), array([  14,   33,  172,  207, 2678, 2696]), array([2235, 2402, 2505, 2506, 2806, 2807]), array([2030, 2048, 2060, 2061, 2065, 2113]), array([1061, 1340, 1350, 1366, 1432, 2598]), array([1268, 1289, 1314, 1361, 1376, 1416]), array([ 963,  984, 1018, 1050, 1086, 1129]), array([2153, 2178, 2260, 2278, 2332, 2614]), array([1517, 1518, 1671, 1688, 2961]), array([ 166,  195,  258, 2738, 2740]), array([467, 602, 907, 957, 958]), array([  29,   47, 2580, 2581, 2692]), array([2575, 2576, 2875, 2876, 3098]), array([ 387,  410,  447, 3023, 3026]), array([1652, 1701, 1770, 2604, 2605]), array([2403, 2492, 2503, 2793, 2804]), array([1841, 2023, 2607, 2613, 2972]), array([1727, 1910, 1959, 3080, 3084]), array([1525, 1582, 1593, 3074, 3075]), array([2123, 2124, 2167, 2182, 3086]), array([2365, 2495, 2796, 3009]), array([2366, 2367, 2471, 2777]), array([1711, 1825, 3079, 3083]), array([2266, 2494, 2795, 2995]), array([ 891, 1003, 3047, 3052]), array([1907, 1971, 2608, 2611]), array([  21,   46,  156, 2685]), array([2226, 2440, 2752, 2767]), array([ 858,  914,  954, 2592]), array([1630, 1651, 1677, 2966]), array([2399, 2577, 2877, 3097]), array([2171, 2233, 2649, 2651]), array([1561, 1744, 3073, 3081]), array([1073, 1150, 2633, 2634]), array([ 715,  805, 3034, 3037]), array([1521, 1565, 1647, 2600]), array([1584, 1809, 1922, 2978]), array([2553, 2559, 2854, 2859]), array([ 526,  541, 1342, 2914]), array([809, 872, 873, 913]), array([ 190,  204, 2895, 2896]), array([1279, 1417, 1426, 1552]), array([ 792,  822, 3036, 3040]), array([2279, 2335, 2548, 2849]), array([2452, 2535, 2836]), array([ 762,  993, 1000]), array([1207, 1286, 3064]), array([2031, 2254, 2270]), array([  27, 2691, 2885]), array([419, 438, 446]), array([  25,  158, 2689]), array([1808, 1815, 1835]), array([2256, 2652, 3091]), array([ 134,  135, 2731]), array([1194, 1234, 1284]), array([ 132,  151, 2733]), array([1012, 1101, 2949]), array([2391, 2435, 2764]), array([  64, 2708, 2888]), array([2429, 2465, 2773]), array([ 925, 1052, 1297]), array([  48, 2701, 2886]), array([   0, 2665, 2880]), array([271, 290, 337]), array([ 806,  844, 3038]), array([723, 730, 748]), array([1485, 2642, 2960]), array([2199, 2263, 2321]), array([1491, 1560, 3072]), array([ 852, 2628, 3043]), array([1937, 1983, 2984]), array([2534, 2663, 2835]), array([311, 415, 463]), array([434, 452, 457]), array([1071, 1147, 1225]), array([1515, 1559, 3071]), array([   2, 2667, 2882]), array([ 198, 2620, 2741]), array([2149, 2750, 2991]), array([2578, 2878, 3099]), array([   1, 2666, 2881]), array([ 788,  985, 1024]), array([2396, 2537, 2838]), array([2491, 2792, 3008]), array([   6, 2579, 2671]), array([   3, 2668, 2883]), array([2163, 2187, 2203]), array([2487, 2788, 3006]), array([2464, 2514, 2815]), array([2488, 2789, 3007]), array([1905, 2056, 2106]), array([2375, 2500, 2801]), array([1706, 1858, 2041]), array([2353, 2756, 2999]), array([1160, 1220, 3058]), array([1676, 1824, 3082]), array([1982, 2983]), array([ 739, 3035]), array([1240, 3060]), array([1974, 2982]), array([735, 741]), array([ 303, 2584]), array([1214, 3057]), array([ 295, 2899]), array([1213, 3056]), array([1978, 2054]), array([1229, 3059]), array([1973, 2981]), array([2035, 2988]), array([743, 764]), array([2066, 2096]), array([775, 807]), array([2074, 2647]), array([2077, 2161]), array([2079, 3085]), array([783, 926]), array([2085, 2146]), array([ 250, 3016]), array([1146, 1246]), array([1142, 3055]), array([793, 895]), array([ 228, 2742]), array([ 821, 3039]), array([2137, 2188]), array([1106, 3054]), array([ 830, 3041]), array([2068, 2214]), array([ 261, 2897]), array([2001, 2078]), array([2052, 2989]), array([747, 749]), array([1203, 1283]), array([2007, 2985]), array([2008, 2986]), array([1201, 1363]), array([284, 308]), array([2014, 2987]), array([ 282, 2898]), array([276, 382]), array([ 275, 2745]), array([712, 725]), array([ 270, 2583]), array([2044, 2360]), array([769, 839]), array([1182, 1408]), array([1964, 2610]), array([1868, 1980]), array([ 710, 2591]), array([1449, 1466]), array([1656, 2967]), array([598, 639]), array([484, 485]), array([477, 483]), array([1673, 2603]), array([1683, 2131]), array([1684, 1775]), array([1463, 2959]), array([1450, 2599]), array([1710, 2645]), array([624, 634]), array([ 458, 2907]), array([1445, 2958]), array([1443, 3068]), array([ 450, 2906]), array([1441, 1442]), array([ 445, 2585]), array([ 619, 3031]), array([443, 497]), array([1738, 2646]), array([1484, 3069]), array([ 595, 2587]), array([1636, 2644]), array([503, 510]), array([1548, 1686]), array([554, 614]), array([1551, 2963]), array([ 559, 3028]), array([547, 606]), array([1528, 2962]), array([1527, 3070]), array([ 568, 2623]), array([1576, 2601]), array([569, 638]), array([ 525, 2913]), array([ 524, 2912]), array([ 574, 3029]), array([577, 635]), array([ 520, 2622]), array([578, 637]), array([506, 545]), array([1629, 3076]), array([ 590, 2624]), array([1740, 2073]), array([439, 553]), array([1253, 1270]), array([1278, 2636]), array([1863, 2974]), array([ 682, 2590]), array([1317, 2596]), array([ 363, 3019]), array([ 691, 2627]), array([ 694, 3033]), array([1290, 2954]), array([ 348, 2902]), array([ 347, 3018]), array([1277, 3063]), array([1424, 3067]), array([342, 571]), array([1276, 3062]), array([1923, 2091]), array([1924, 2979]), array([ 339, 2900]), array([1936, 2067]), array([1943, 1952]), array([1254, 3061]), array([ 326, 3017]), array([ 369, 3020]), array([1845, 1865]), array([1329, 3065]), array([1333, 1341]), array([ 627, 2589]), array([ 636, 2625]), array([1758, 1867]), array([1760, 1879]), array([1763, 1861]), array([414, 453]), array([1393, 2640]), array([1388, 2957]), array([1387, 2956]), array([1787, 2969]), array([ 404, 3025]), array([1796, 2606]), array([1378, 3066]), array([ 661, 3032]), array([ 662, 2922]), array([ 388, 3024]), array([ 385, 3022]), array([1338, 2955]), array([ 379, 3021]), array([ 836, 2933]), array([2089, 2990]), array([555, 589]), array([2499, 2800]), array([2496, 2797]), array([  90, 2722]), array([  89, 2721]), array([2489, 2790]), array([2486, 2787]), array([ 970, 1007]), array([2485, 2786]), array([2483, 2784]), array([2482, 2783]), array([2481, 2782]), array([2480, 2781]), array([  83, 2718]), array([  79, 2716]), array([ 908, 2937]), array([2477, 2779]), array([  76, 2715]), array([  75, 2714]), array([  74, 2713]), array([  73, 2712]), array([2497, 2798]), array([2501, 2802]), array([2358, 2423]), array([898, 902]), array([2515, 2816]), array([ 120, 2728]), array([2513, 2814]), array([2511, 2812]), array([2510, 2811]), array([ 997, 1093]), array([ 116, 3013]), array([115, 157]), array([ 889, 3046]), array([2509, 2810]), array([ 108, 2725]), array([ 106, 2724]), array([ 103, 2618]), array([2508, 2809]), array([ 981, 3051]), array([2507, 2808]), array([2504, 2805]), array([  96, 2723]), array([ 897, 3048]), array([ 909, 2938]), array([  71, 2711]), array([2517, 2818]), array([  43, 2699]), array([948, 980]), array([ 947, 3049]), array([  17, 2681]), array([ 928, 2942]), array([2445, 3004]), array([  34, 2697]), array([  18, 2682]), array([  32, 2695]), array([  31, 2694]), array([  30, 2693]), array([2442, 2768]), array([ 929, 2629]), array([  26, 2690]), array([  24, 2688]), array([  20, 2684]), array([  23, 2687]), array([2439, 2661]), array([  22, 2686]), array([2436, 2765]), array([ 919, 2940]), array([  44, 2700]), array([2363, 3096]), array([49, 94]), array([2372, 3001]), array([2475, 2778]), array([ 69, 121]), array([  66, 2709]), array([ 960, 2943]), array([2470, 2776]), array([  63, 2707]), array([  62, 2706]), array([   8, 2672]), array([ 959, 3050]), array([   9, 2673]), array([  10, 2674]), array([  11, 2675]), array([ 955, 1089]), array([  12, 2676]), array([  53, 2703]), array([  13, 2677]), array([  15, 2679]), array([  16, 2680]), array([2516, 2817]), array([2300, 2997]), array([2286, 2996]), array([2544, 2845]), array([2552, 2853]), array([2193, 2245]), array([ 853, 3044]), array([2551, 2852]), array([2202, 3087]), array([2549, 2850]), array([2547, 2848]), array([2546, 2847]), array([2543, 2844]), array([2555, 2856]), array([ 176, 2619]), array([2518, 2819]), array([1054, 3053]), array([2542, 2843]), array([2541, 2842]), array([1044, 2594]), array([1040, 2631]), array([2540, 2841]), array([2554, 2855]), array([2556, 2857]), array([2536, 2837]), array([2176, 2223]), array([2574, 2874]), array([2573, 2873]), array([2169, 2648]), array([2572, 2872]), array([2571, 2871]), array([ 843, 1009]), array([2570, 2870]), array([2567, 2867]), array([2177, 2194]), array([2558, 2858]), array([ 845, 3042]), array([2565, 2865]), array([2563, 2863]), array([2562, 2862]), array([2184, 2650]), array([2561, 2861]), array([ 189, 3015]), array([2560, 2860]), array([2539, 2840]), array([ 175, 3014]), array([2533, 2834]), array([ 155, 2736]), array([2521, 2822]), array([2522, 2823]), array([1019, 2630]), array([2524, 2825]), array([2527, 2828]), array([2520, 2821]), array([ 144, 2890]), array([ 871, 3045]), array([2529, 2830]), array([2530, 2831]), array([2242, 3089]), array([2258, 2994]), array([148, 247]), array([2244, 2993]), array([2531, 2832]), array([2532, 2833]), array([2231, 2328]), array([2519, 2820]), array([2271, 2655]), array([652]), array([605]), array([566]), array([648]), array([644]), array([609]), array([643]), array([604]), array([557]), array([654]), array([610]), array([649]), array([565]), array([607]), array([599]), array([650]), array([601]), array([600]), array([562]), array([651]), array([563]), array([642]), array([564]), array([608]), array([597]), array([613]), array([567]), array([641]), array([617]), array([587]), array([586]), array([585]), array([584]), array([621]), array([591]), array([623]), array([580]), array([579]), array([616]), array([593]), array([594]), array([573]), array([615]), array([930]), array([625]), array([626]), array([572]), array([628]), array([631]), array([570]), array([632]), array([588]), array([611]), array([640]), array([596]), array([653]), array([840]), array([655]), array([768]), array([781]), array([860]), array([779]), array([861]), array([778]), array([862]), array([865]), array([866]), array([774]), array([772]), array([771]), array([867]), array([770]), array([868]), array([767]), array([859]), array([870]), array([763]), array([874]), array([875]), array([761]), array([759]), array([877]), array([756]), array([754]), array([753]), array([878]), array([752]), array([879]), array([880]), array([782]), array([787]), array([881]), array([815]), array([834]), array([833]), array([841]), array([829]), array([828]), array([842]), array([827]), array([826]), array([825]), array([823]), array([846]), array([820]), array([819]), array([818]), array([812]), array([556]), array([811]), array([849]), array([808]), array([851]), array([803]), array([802]), array([801]), array([798]), array([797]), array([791]), array([790]), array([854]), array([789]), array([857]), array([751]), array([882]), array([657]), array([675]), array([692]), array([690]), array([689]), array([915]), array([688]), array([686]), array([685]), array([684]), array([683]), array([835]), array([917]), array([677]), array([918]), array([676]), array([674]), array([697]), array([673]), array([672]), array([922]), array([671]), array([923]), array([670]), array([669]), array([668]), array([667]), array([666]), array([664]), array([660]), array([659]), array([658]), array([693]), array([911]), array([746]), array([714]), array([883]), array([885]), array([887]), array([888]), array([738]), array([737]), array([736]), array([731]), array([726]), array([724]), array([892]), array([896]), array([722]), array([721]), array([713]), array([698]), array([903]), array([711]), array([904]), array([709]), array([905]), array([708]), array([707]), array([704]), array([703]), array([702]), array([701]), array([906]), array([700]), array([699]), array([916]), array([386]), array([551]), array([237]), array([229]), array([231]), array([232]), array([233]), array([234]), array([235]), array([236]), array([238]), array([252]), array([239]), array([240]), array([241]), array([242]), array([244]), array([245]), array([246]), array([227]), array([226]), array([225]), array([224]), array([206]), array([208]), array([209]), array([210]), array([211]), array([212]), array([213]), array([215]), array([216]), array([217]), array([218]), array([219]), array([220]), array([221]), array([223]), array([251]), array([255]), array([201]), array([293]), array([285]), array([286]), array([287]), array([288]), array([289]), array([291]), array([292]), array([294]), array([256]), array([296]), array([297]), array([298]), array([299]), array([300]), array([301]), array([302]), array([283]), array([281]), array([280]), array([279]), array([257]), array([259]), array([260]), array([262]), array([263]), array([264]), array([265]), array([266]), array([267]), array([268]), array([269]), array([273]), array([274]), array([277]), array([278]), array([203]), array([200]), array([550]), array([95]), array([77]), array([84]), array([86]), array([88]), array([91]), array([92]), array([93]), array([97]), array([122]), array([100]), array([104]), array([105]), array([109]), array([113]), array([117]), array([118]), array([72]), array([70]), array([67]), array([65]), array([7]), array([28]), array([35]), array([36]), array([37]), array([38]), array([39]), array([40]), array([42]), array([51]), array([52]), array([54]), array([55]), array([56]), array([60]), array([119]), array([123]), array([199]), array([183]), array([169]), array([171]), array([173]), array([174]), array([177]), array([180]), array([182]), array([185]), array([124]), array([187]), array([188]), array([191]), array([192]), array([193]), array([194]), array([196]), array([168]), array([167]), array([165]), array([164]), array([125]), array([126]), array([127]), array([128]), array([136]), array([138]), array([140]), array([141]), array([143]), array([145]), array([147]), array([159]), array([161]), array([162]), array([163]), array([304]), array([306]), array([309]), array([468]), array([456]), array([460]), array([461]), array([462]), array([464]), array([465]), array([466]), array([470]), array([487]), array([471]), array([472]), array([474]), array([475]), array([476]), array([478]), array([479]), array([455]), array([451]), array([449]), array([444]), array([422]), array([423]), array([424]), array([425]), array([426]), array([427]), array([428]), array([430]), array([433]), array([435]), array([436]), array([437]), array([440]), array([441]), array([442]), array([486]), array([488]), array([310]), array([536]), array([527]), array([528]), array([529]), array([530]), array([531]), array([534]), array([535]), array([537]), array([490]), array([538]), array([542]), array([543]), array([544]), array([546]), array([548]), array([549]), array([523]), array([522]), array([521]), array([519]), array([491]), array([493]), array([495]), array([496]), array([498]), array([501]), array([502]), array([504]), array([505]), array([508]), array([509]), array([511]), array([512]), array([517]), array([518]), array([421]), array([420]), array([417]), array([350]), array([335]), array([336]), array([340]), array([341]), array([343]), array([344]), array([346]), array([351]), array([416]), array([352]), array([353]), array([354]), array([355]), array([356]), array([357]), array([358]), array([334]), array([333]), array([332]), array([331]), array([312]), array([313]), array([314]), array([315]), array([316]), array([317]), array([318]), array([320]), array([322]), array([324]), array([325]), array([327]), array([328]), array([329]), array([330]), array([359]), array([360]), array([361]), array([389]), array([391]), array([392]), array([395]), array([396]), array([397]), array([398]), array([399]), array([400]), array([401]), array([402]), array([405]), array([406]), array([407]), array([408]), array([413]), array([390]), array([932]), array([362]), array([384]), array([364]), array([365]), array([366]), array([367]), array([368]), array([370]), array([372]), array([373]), array([374]), array([375]), array([376]), array([378]), array([380]), array([381]), array([383]), array([931]), array([3011]), array([935]), array([2006]), array([1993]), array([1994]), array([1995]), array([1996]), array([1997]), array([2002]), array([2004]), array([2005]), array([2009]), array([1957]), array([2011]), array([2013]), array([2015]), array([2016]), array([2017]), array([2018]), array([2021]), array([2024]), array([1992]), array([1991]), array([1990]), array([1989]), array([1960]), array([1961]), array([1962]), array([1963]), array([1965]), array([1966]), array([1967]), array([1968]), array([1969]), array([1970]), array([1972]), array([1976]), array([1979]), array([1981]), array([1984]), array([1985]), array([1988]), array([2026]), array([2027]), array([2028]), array([2086]), array([2090]), array([2093]), array([2094]), array([2095]), array([2098]), array([2099]), array([2100]), array([2101]), array([2103]), array([2105]), array([2107]), array([2108]), array([2109]), array([2110]), array([2111]), array([2114]), array([2116]), array([2088]), array([2084]), array([2032]), array([2083]), array([2034]), array([2036]), array([2037]), array([2039]), array([2046]), array([2049]), array([2051]), array([2053]), array([2058]), array([2059]), array([2062]), array([2064]), array([2069]), array([2071]), array([2076]), array([2080]), array([2081]), array([1958]), array([1953]), array([1761]), array([1820]), array([1800]), array([1803]), array([1804]), array([1806]), array([1812]), array([1813]), array([1816]), array([1818]), array([1822]), array([1951]), array([1823]), array([1828]), array([1829]), array([1830]), array([1831]), array([1832]), array([1833]), array([1834]), array([1799]), array([1797]), array([1794]), array([1793]), array([1765]), array([1766]), array([1767]), array([1768]), array([1769]), array([1776]), array([1778]), array([1780]), array([1781]), array([1782]), array([1783]), array([1785]), array([1786]), array([1788]), array([1789]), array([1790]), array([1792]), array([1840]), array([1843]), array([1844]), array([1891]), array([1900]), array([1903]), array([1904]), array([1919]), array([1920]), array([1921]), array([1925]), array([1927]), array([1928]), array([1931]), array([1938]), array([1939]), array([1940]), array([1941]), array([1942]), array([1949]), array([1950]), array([1897]), array([1890]), array([1848]), array([1887]), array([1850]), array([1851]), array([1864]), array([1866]), array([1869]), array([1870]), array([1871]), array([1872]), array([1873]), array([1875]), array([1876]), array([1878]), array([1882]), array([1883]), array([1884]), array([1885]), array([1886]), array([2118]), array([2120]), array([2125]), array([2392]), array([2378]), array([2379]), array([2381]), array([2383]), array([2385]), array([2387]), array([2388]), array([2390]), array([2393]), array([2130]), array([2394]), array([2395]), array([2397]), array([2400]), array([2401]), array([2404]), array([2406]), array([2407]), array([2376]), array([2373]), array([2361]), array([2355]), array([2323]), array([2324]), array([2325]), array([2329]), array([2330]), array([2333]), array([2337]), array([2338]), array([2340]), array([2343]), array([2346]), array([2347]), array([2348]), array([2349]), array([2351]), array([2352]), array([2354]), array([2408]), array([2410]), array([2411]), array([2443]), array([2447]), array([2448]), array([2449]), array([2450]), array([2451]), array([2454]), array([2456]), array([2458]), array([2461]), array([2462]), array([2466]), array([2472]), array([2473]), array([2474]), array([2478]), array([2557]), array([2748]), array([2444]), array([2441]), array([2413]), array([2438]), array([2414]), array([2416]), array([2417]), array([2418]), array([2419]), array([2420]), array([2421]), array([2422]), array([2424]), array([2425]), array([2426]), array([2427]), array([2428]), array([2430]), array([2432]), array([2433]), array([2434]), array([2320]), array([2317]), array([2316]), array([2173]), array([2175]), array([2180]), array([2181]), array([2183]), array([2186]), array([2189]), array([2191]), array([2192]), array([2195]), array([2198]), array([2204]), array([2206]), array([2208]), array([2209]), array([2210]), array([2212]), array([2215]), array([2174]), array([2172]), array([2217]), array([2170]), array([2132]), array([2134]), array([2135]), array([2138]), array([2141]), array([2143]), array([2144]), array([2145]), array([2150]), array([2152]), array([2154]), array([2156]), array([2157]), array([2159]), array([2162]), array([2166]), array([2168]), array([2216]), array([2218]), array([2315]), array([2275]), array([2285]), array([2287]), array([2288]), array([2289]), array([2291]), array([2292]), array([2293]), array([2295]), array([2296]), array([2298]), array([2303]), array([2304]), array([2305]), array([2308]), array([2309]), array([2311]), array([2313]), array([2280]), array([2273]), array([2219]), array([2261]), array([2221]), array([2222]), array([2227]), array([2228]), array([2229]), array([2230]), array([2237]), array([2239]), array([2240]), array([2247]), array([2249]), array([2250]), array([2251]), array([2252]), array([2253]), array([2255]), array([2259]), array([1764]), array([1756]), array([936]), array([1202]), array([1188]), array([1191]), array([1192]), array([1193]), array([1195]), array([1196]), array([1199]), array([1200]), array([1204]), array([1136]), array([1205]), array([1206]), array([1208]), array([1211]), array([1212]), array([1221]), array([1222]), array([1224]), array([1185]), array([1184]), array([1183]), array([1180]), array([1138]), array([1139]), array([1140]), array([1141]), array([1145]), array([1148]), array([1151]), array([1152]), array([1153]), array([1161]), array([1162]), array([1163]), array([1165]), array([1169]), array([1172]), array([2879]), array([1178]), array([1226]), array([1228]), array([1230]), array([1298]), array([1300]), array([1301]), array([1305]), array([1308]), array([1309]), array([1311]), array([1315]), array([1316]), array([1320]), array([1323]), array([1324]), array([1325]), array([1327]), array([1330]), array([1335]), array([1337]), array([1349]), array([1299]), array([1291]), array([1235]), array([1280]), array([1236]), array([1238]), array([1241]), array([1242]), array([1245]), array([1247]), array([1249]), array([1250]), array([1255]), array([1261]), array([1262]), array([1263]), array([1264]), array([1266]), array([1269]), array([1271]), array([1275]), array([1137]), array([1135]), array([1755]), array([1006]), array([986]), array([987]), array([992]), array([994]), array([999]), array([1001]), array([1002]), array([1005]), array([1008]), array([1133]), array([1010]), array([1011]), array([1013]), array([1014]), array([1023]), array([1025]), array([1029]), array([1030]), array([983]), array([979]), array([976]), array([974]), array([938]), array([940]), array([942]), array([943]), array([945]), array([946]), array([949]), array([950]), array([951]), array([953]), array([956]), array([964]), array([965]), array([966]), array([968]), array([972]), array([973]), array([1034]), array([1035]), array([1036]), array([1084]), array([1094]), array([1095]), array([1099]), array([1100]), array([1103]), array([1105]), array([1107]), array([1111]), array([1115]), array([1116]), array([1117]), array([1118]), array([1119]), array([1121]), array([1122]), array([1123]), array([1127]), array([1087]), array([1081]), array([1037]), array([1077]), array([1042]), array([1043]), array([1051]), array([1053]), array([1057]), array([1058]), array([1060]), array([1062]), array([1064]), array([1065]), array([1066]), array([1067]), array([1068]), array([1072]), array([1074]), array([1075]), array([1076]), array([1352]), array([1353]), array([1362]), array([1624]), array([1610]), array([1612]), array([1615]), array([1616]), array([1617]), array([1621]), array([1622]), array([1623]), array([1631]), array([1368]), array([1633]), array([1635]), array([1638]), array([1639]), array([1640]), array([1641]), array([1642]), array([1645]), array([1607]), array([1604]), array([1603]), array([1602]), array([1562]), array([1563]), array([1564]), array([1566]), array([1567]), array([1571]), array([1572]), array([1573]), array([1580]), array([1581]), array([1583]), array([1585]), array([1586]), array([1592]), array([1594]), array([1596]), array([1597]), array([1655]), array([1657]), array([1658]), array([1718]), array([1720]), array([1725]), array([1731]), array([1732]), array([1734]), array([1735]), array([1736]), array([1737]), array([1741]), array([1743]), array([1745]), array([1746]), array([1747]), array([1751]), array([1752]), array([1753]), array([1754]), array([1719]), array([1715]), array([1661]), array([1714]), array([1662]), array([1664]), array([1670]), array([1672]), array([1678]), array([1680]), array([1682]), array([1692]), array([1693]), array([1696]), array([1697]), array([1698]), array([1699]), array([1700]), array([1703]), array([1707]), array([1708]), array([1558]), array([1555]), array([1554]), array([1410]), array([1412]), array([1418]), array([1419]), array([1423]), array([1425]), array([1427]), array([1435]), array([1436]), array([1438]), array([1440]), array([1444]), array([1446]), array([1447]), array([1451]), array([1458]), array([1459]), array([1460]), array([1411]), array([1407]), array([1464]), array([1402]), array([1369]), array([1372]), array([1377]), array([1380]), array([1381]), array([1382]), array([1383]), array([1384]), array([1385]), array([1386]), array([1392]), array([1396]), array([1397]), array([1398]), array([1399]), array([1400]), array([1401]), array([1461]), array([1465]), array([1553]), array([1506]), array([1509]), array([1516]), array([1519]), array([1520]), array([1524]), array([1526]), array([1530]), array([1531]), array([1536]), array([1539]), array([1542]), array([1543]), array([1544]), array([1545]), array([1546]), array([1549]), array([1550]), array([1507]), array([1505]), array([1467]), array([1504]), array([1469]), array([1471]), array([1472]), array([1473]), array([1481]), array([1482]), array([1486]), array([1492]), array([1493]), array([1494]), array([1495]), array([1496]), array([1497]), array([1498]), array([1499]), array([1502]), array([1503]), array([1173])]\n",
            "isolated_pores                      (1181,)\n",
            "trim_pores                          [1690, 1759, 1892, 1945, 1955, 1975, 2142, 2155, 2236, 2301, 2312, 2319, 2331, 2345, 2364, 2380, 2386, 2998, 3000, 3002, 3003, 2147, 2196, 2207, 2327, 2368, 2382, 2389, 2412, 2415, 2512, 2528, 2761, 2763, 2813, 2829, 50, 68, 78, 85, 114, 133, 184, 186, 323, 2616, 2617, 2702, 2710, 2719, 41, 61, 99, 101, 107, 111, 112, 129, 154, 202, 243, 248, 2698, 2727, 1306, 1358, 1374, 1391, 1394, 1409, 1480, 1483, 1514, 2638, 2641, 2362, 2374, 2467, 2566, 2568, 2659, 2660, 2662, 2664, 2866, 2868, 2267, 2269, 2302, 2326, 2336, 2653, 2654, 2656, 2657, 2658, 890, 939, 969, 971, 990, 998, 1032, 1041, 1085, 1128, 4, 82, 178, 222, 2669, 2717, 2884, 2889, 2894, 1569, 1570, 1618, 1659, 1687, 2964, 2965, 2968, 87, 98, 130, 131, 142, 2720, 2729, 2730, 1842, 1901, 1902, 1934, 1935, 2973, 2975, 2976, 2055, 2136, 2248, 2268, 2282, 2290, 2314, 2341, 1916, 1956, 2043, 2075, 2371, 2384, 2431, 2760, 2446, 2469, 2502, 2769, 2775, 2803, 3005, 3010, 1713, 1773, 1857, 2072, 2092, 2117, 2127, 2129, 1932, 2185, 2490, 2493, 2791, 2794, 2980, 2992, 19, 45, 80, 81, 102, 2683, 3012, 1798, 1817, 1826, 1874, 1888, 2970, 2971, 377, 403, 558, 581, 618, 3027, 3030, 57, 58, 214, 249, 2582, 2704, 2743, 2140, 2344, 2453, 2460, 2569, 2615, 2869, 197, 272, 338, 393, 409, 411, 494, 14, 33, 172, 207, 2678, 2696, 2235, 2402, 2505, 2506, 2806, 2807, 2030, 2048, 2060, 2061, 2065, 2113, 1061, 1340, 1350, 1366, 1432, 2598, 1268, 1289, 1314, 1361, 1376, 1416, 963, 984, 1018, 1050, 1086, 1129, 2153, 2178, 2260, 2278, 2332, 2614, 1517, 1518, 1671, 1688, 2961, 166, 195, 258, 2738, 2740, 467, 602, 907, 957, 958, 29, 47, 2580, 2581, 2692, 2575, 2576, 2875, 2876, 3098, 387, 410, 447, 3023, 3026, 1652, 1701, 1770, 2604, 2605, 2403, 2492, 2503, 2793, 2804, 1841, 2023, 2607, 2613, 2972, 1727, 1910, 1959, 3080, 3084, 1525, 1582, 1593, 3074, 3075, 2123, 2124, 2167, 2182, 3086, 2365, 2495, 2796, 3009, 2366, 2367, 2471, 2777, 1711, 1825, 3079, 3083, 2266, 2494, 2795, 2995, 891, 1003, 3047, 3052, 1907, 1971, 2608, 2611, 21, 46, 156, 2685, 2226, 2440, 2752, 2767, 858, 914, 954, 2592, 1630, 1651, 1677, 2966, 2399, 2577, 2877, 3097, 2171, 2233, 2649, 2651, 1561, 1744, 3073, 3081, 1073, 1150, 2633, 2634, 715, 805, 3034, 3037, 1521, 1565, 1647, 2600, 1584, 1809, 1922, 2978, 2553, 2559, 2854, 2859, 526, 541, 1342, 2914, 809, 872, 873, 913, 190, 204, 2895, 2896, 1279, 1417, 1426, 1552, 792, 822, 3036, 3040, 2279, 2335, 2548, 2849, 2452, 2535, 2836, 762, 993, 1000, 1207, 1286, 3064, 2031, 2254, 2270, 27, 2691, 2885, 419, 438, 446, 25, 158, 2689, 1808, 1815, 1835, 2256, 2652, 3091, 134, 135, 2731, 1194, 1234, 1284, 132, 151, 2733, 1012, 1101, 2949, 2391, 2435, 2764, 64, 2708, 2888, 2429, 2465, 2773, 925, 1052, 1297, 48, 2701, 2886, 0, 2665, 2880, 271, 290, 337, 806, 844, 3038, 723, 730, 748, 1485, 2642, 2960, 2199, 2263, 2321, 1491, 1560, 3072, 852, 2628, 3043, 1937, 1983, 2984, 2534, 2663, 2835, 311, 415, 463, 434, 452, 457, 1071, 1147, 1225, 1515, 1559, 3071, 2, 2667, 2882, 198, 2620, 2741, 2149, 2750, 2991, 2578, 2878, 3099, 1, 2666, 2881, 788, 985, 1024, 2396, 2537, 2838, 2491, 2792, 3008, 6, 2579, 2671, 3, 2668, 2883, 2163, 2187, 2203, 2487, 2788, 3006, 2464, 2514, 2815, 2488, 2789, 3007, 1905, 2056, 2106, 2375, 2500, 2801, 1706, 1858, 2041, 2353, 2756, 2999, 1160, 1220, 3058, 1676, 1824, 3082, 1982, 2983, 739, 3035, 1240, 3060, 1974, 2982, 735, 741, 303, 2584, 1214, 3057, 295, 2899, 1213, 3056, 1978, 2054, 1229, 3059, 1973, 2981, 2035, 2988, 743, 764, 2066, 2096, 775, 807, 2074, 2647, 2077, 2161, 2079, 3085, 783, 926, 2085, 2146, 250, 3016, 1146, 1246, 1142, 3055, 793, 895, 228, 2742, 821, 3039, 2137, 2188, 1106, 3054, 830, 3041, 2068, 2214, 261, 2897, 2001, 2078, 2052, 2989, 747, 749, 1203, 1283, 2007, 2985, 2008, 2986, 1201, 1363, 284, 308, 2014, 2987, 282, 2898, 276, 382, 275, 2745, 712, 725, 270, 2583, 2044, 2360, 769, 839, 1182, 1408, 1964, 2610, 1868, 1980, 710, 2591, 1449, 1466, 1656, 2967, 598, 639, 484, 485, 477, 483, 1673, 2603, 1683, 2131, 1684, 1775, 1463, 2959, 1450, 2599, 1710, 2645, 624, 634, 458, 2907, 1445, 2958, 1443, 3068, 450, 2906, 1441, 1442, 445, 2585, 619, 3031, 443, 497, 1738, 2646, 1484, 3069, 595, 2587, 1636, 2644, 503, 510, 1548, 1686, 554, 614, 1551, 2963, 559, 3028, 547, 606, 1528, 2962, 1527, 3070, 568, 2623, 1576, 2601, 569, 638, 525, 2913, 524, 2912, 574, 3029, 577, 635, 520, 2622, 578, 637, 506, 545, 1629, 3076, 590, 2624, 1740, 2073, 439, 553, 1253, 1270, 1278, 2636, 1863, 2974, 682, 2590, 1317, 2596, 363, 3019, 691, 2627, 694, 3033, 1290, 2954, 348, 2902, 347, 3018, 1277, 3063, 1424, 3067, 342, 571, 1276, 3062, 1923, 2091, 1924, 2979, 339, 2900, 1936, 2067, 1943, 1952, 1254, 3061, 326, 3017, 369, 3020, 1845, 1865, 1329, 3065, 1333, 1341, 627, 2589, 636, 2625, 1758, 1867, 1760, 1879, 1763, 1861, 414, 453, 1393, 2640, 1388, 2957, 1387, 2956, 1787, 2969, 404, 3025, 1796, 2606, 1378, 3066, 661, 3032, 662, 2922, 388, 3024, 385, 3022, 1338, 2955, 379, 3021, 836, 2933, 2089, 2990, 555, 589, 2499, 2800, 2496, 2797, 90, 2722, 89, 2721, 2489, 2790, 2486, 2787, 970, 1007, 2485, 2786, 2483, 2784, 2482, 2783, 2481, 2782, 2480, 2781, 83, 2718, 79, 2716, 908, 2937, 2477, 2779, 76, 2715, 75, 2714, 74, 2713, 73, 2712, 2497, 2798, 2501, 2802, 2358, 2423, 898, 902, 2515, 2816, 120, 2728, 2513, 2814, 2511, 2812, 2510, 2811, 997, 1093, 116, 3013, 115, 157, 889, 3046, 2509, 2810, 108, 2725, 106, 2724, 103, 2618, 2508, 2809, 981, 3051, 2507, 2808, 2504, 2805, 96, 2723, 897, 3048, 909, 2938, 71, 2711, 2517, 2818, 43, 2699, 948, 980, 947, 3049, 17, 2681, 928, 2942, 2445, 3004, 34, 2697, 18, 2682, 32, 2695, 31, 2694, 30, 2693, 2442, 2768, 929, 2629, 26, 2690, 24, 2688, 20, 2684, 23, 2687, 2439, 2661, 22, 2686, 2436, 2765, 919, 2940, 44, 2700, 2363, 3096, 49, 94, 2372, 3001, 2475, 2778, 69, 121, 66, 2709, 960, 2943, 2470, 2776, 63, 2707, 62, 2706, 8, 2672, 959, 3050, 9, 2673, 10, 2674, 11, 2675, 955, 1089, 12, 2676, 53, 2703, 13, 2677, 15, 2679, 16, 2680, 2516, 2817, 2300, 2997, 2286, 2996, 2544, 2845, 2552, 2853, 2193, 2245, 853, 3044, 2551, 2852, 2202, 3087, 2549, 2850, 2547, 2848, 2546, 2847, 2543, 2844, 2555, 2856, 176, 2619, 2518, 2819, 1054, 3053, 2542, 2843, 2541, 2842, 1044, 2594, 1040, 2631, 2540, 2841, 2554, 2855, 2556, 2857, 2536, 2837, 2176, 2223, 2574, 2874, 2573, 2873, 2169, 2648, 2572, 2872, 2571, 2871, 843, 1009, 2570, 2870, 2567, 2867, 2177, 2194, 2558, 2858, 845, 3042, 2565, 2865, 2563, 2863, 2562, 2862, 2184, 2650, 2561, 2861, 189, 3015, 2560, 2860, 2539, 2840, 175, 3014, 2533, 2834, 155, 2736, 2521, 2822, 2522, 2823, 1019, 2630, 2524, 2825, 2527, 2828, 2520, 2821, 144, 2890, 871, 3045, 2529, 2830, 2530, 2831, 2242, 3089, 2258, 2994, 148, 247, 2244, 2993, 2531, 2832, 2532, 2833, 2231, 2328, 2519, 2820, 2271, 2655, 652, 605, 566, 648, 644, 609, 643, 604, 557, 654, 610, 649, 565, 607, 599, 650, 601, 600, 562, 651, 563, 642, 564, 608, 597, 613, 567, 641, 617, 587, 586, 585, 584, 621, 591, 623, 580, 579, 616, 593, 594, 573, 615, 930, 625, 626, 572, 628, 631, 570, 632, 588, 611, 640, 596, 653, 840, 655, 768, 781, 860, 779, 861, 778, 862, 865, 866, 774, 772, 771, 867, 770, 868, 767, 859, 870, 763, 874, 875, 761, 759, 877, 756, 754, 753, 878, 752, 879, 880, 782, 787, 881, 815, 834, 833, 841, 829, 828, 842, 827, 826, 825, 823, 846, 820, 819, 818, 812, 556, 811, 849, 808, 851, 803, 802, 801, 798, 797, 791, 790, 854, 789, 857, 751, 882, 657, 675, 692, 690, 689, 915, 688, 686, 685, 684, 683, 835, 917, 677, 918, 676, 674, 697, 673, 672, 922, 671, 923, 670, 669, 668, 667, 666, 664, 660, 659, 658, 693, 911, 746, 714, 883, 885, 887, 888, 738, 737, 736, 731, 726, 724, 892, 896, 722, 721, 713, 698, 903, 711, 904, 709, 905, 708, 707, 704, 703, 702, 701, 906, 700, 699, 916, 386, 551, 237, 229, 231, 232, 233, 234, 235, 236, 238, 252, 239, 240, 241, 242, 244, 245, 246, 227, 226, 225, 224, 206, 208, 209, 210, 211, 212, 213, 215, 216, 217, 218, 219, 220, 221, 223, 251, 255, 201, 293, 285, 286, 287, 288, 289, 291, 292, 294, 256, 296, 297, 298, 299, 300, 301, 302, 283, 281, 280, 279, 257, 259, 260, 262, 263, 264, 265, 266, 267, 268, 269, 273, 274, 277, 278, 203, 200, 550, 95, 77, 84, 86, 88, 91, 92, 93, 97, 122, 100, 104, 105, 109, 113, 117, 118, 72, 70, 67, 65, 7, 28, 35, 36, 37, 38, 39, 40, 42, 51, 52, 54, 55, 56, 60, 119, 123, 199, 183, 169, 171, 173, 174, 177, 180, 182, 185, 124, 187, 188, 191, 192, 193, 194, 196, 168, 167, 165, 164, 125, 126, 127, 128, 136, 138, 140, 141, 143, 145, 147, 159, 161, 162, 163, 304, 306, 309, 468, 456, 460, 461, 462, 464, 465, 466, 470, 487, 471, 472, 474, 475, 476, 478, 479, 455, 451, 449, 444, 422, 423, 424, 425, 426, 427, 428, 430, 433, 435, 436, 437, 440, 441, 442, 486, 488, 310, 536, 527, 528, 529, 530, 531, 534, 535, 537, 490, 538, 542, 543, 544, 546, 548, 549, 523, 522, 521, 519, 491, 493, 495, 496, 498, 501, 502, 504, 505, 508, 509, 511, 512, 517, 518, 421, 420, 417, 350, 335, 336, 340, 341, 343, 344, 346, 351, 416, 352, 353, 354, 355, 356, 357, 358, 334, 333, 332, 331, 312, 313, 314, 315, 316, 317, 318, 320, 322, 324, 325, 327, 328, 329, 330, 359, 360, 361, 389, 391, 392, 395, 396, 397, 398, 399, 400, 401, 402, 405, 406, 407, 408, 413, 390, 932, 362, 384, 364, 365, 366, 367, 368, 370, 372, 373, 374, 375, 376, 378, 380, 381, 383, 931, 3011, 935, 2006, 1993, 1994, 1995, 1996, 1997, 2002, 2004, 2005, 2009, 1957, 2011, 2013, 2015, 2016, 2017, 2018, 2021, 2024, 1992, 1991, 1990, 1989, 1960, 1961, 1962, 1963, 1965, 1966, 1967, 1968, 1969, 1970, 1972, 1976, 1979, 1981, 1984, 1985, 1988, 2026, 2027, 2028, 2086, 2090, 2093, 2094, 2095, 2098, 2099, 2100, 2101, 2103, 2105, 2107, 2108, 2109, 2110, 2111, 2114, 2116, 2088, 2084, 2032, 2083, 2034, 2036, 2037, 2039, 2046, 2049, 2051, 2053, 2058, 2059, 2062, 2064, 2069, 2071, 2076, 2080, 2081, 1958, 1953, 1761, 1820, 1800, 1803, 1804, 1806, 1812, 1813, 1816, 1818, 1822, 1951, 1823, 1828, 1829, 1830, 1831, 1832, 1833, 1834, 1799, 1797, 1794, 1793, 1765, 1766, 1767, 1768, 1769, 1776, 1778, 1780, 1781, 1782, 1783, 1785, 1786, 1788, 1789, 1790, 1792, 1840, 1843, 1844, 1891, 1900, 1903, 1904, 1919, 1920, 1921, 1925, 1927, 1928, 1931, 1938, 1939, 1940, 1941, 1942, 1949, 1950, 1897, 1890, 1848, 1887, 1850, 1851, 1864, 1866, 1869, 1870, 1871, 1872, 1873, 1875, 1876, 1878, 1882, 1883, 1884, 1885, 1886, 2118, 2120, 2125, 2392, 2378, 2379, 2381, 2383, 2385, 2387, 2388, 2390, 2393, 2130, 2394, 2395, 2397, 2400, 2401, 2404, 2406, 2407, 2376, 2373, 2361, 2355, 2323, 2324, 2325, 2329, 2330, 2333, 2337, 2338, 2340, 2343, 2346, 2347, 2348, 2349, 2351, 2352, 2354, 2408, 2410, 2411, 2443, 2447, 2448, 2449, 2450, 2451, 2454, 2456, 2458, 2461, 2462, 2466, 2472, 2473, 2474, 2478, 2557, 2748, 2444, 2441, 2413, 2438, 2414, 2416, 2417, 2418, 2419, 2420, 2421, 2422, 2424, 2425, 2426, 2427, 2428, 2430, 2432, 2433, 2434, 2320, 2317, 2316, 2173, 2175, 2180, 2181, 2183, 2186, 2189, 2191, 2192, 2195, 2198, 2204, 2206, 2208, 2209, 2210, 2212, 2215, 2174, 2172, 2217, 2170, 2132, 2134, 2135, 2138, 2141, 2143, 2144, 2145, 2150, 2152, 2154, 2156, 2157, 2159, 2162, 2166, 2168, 2216, 2218, 2315, 2275, 2285, 2287, 2288, 2289, 2291, 2292, 2293, 2295, 2296, 2298, 2303, 2304, 2305, 2308, 2309, 2311, 2313, 2280, 2273, 2219, 2261, 2221, 2222, 2227, 2228, 2229, 2230, 2237, 2239, 2240, 2247, 2249, 2250, 2251, 2252, 2253, 2255, 2259, 1764, 1756, 936, 1202, 1188, 1191, 1192, 1193, 1195, 1196, 1199, 1200, 1204, 1136, 1205, 1206, 1208, 1211, 1212, 1221, 1222, 1224, 1185, 1184, 1183, 1180, 1138, 1139, 1140, 1141, 1145, 1148, 1151, 1152, 1153, 1161, 1162, 1163, 1165, 1169, 1172, 2879, 1178, 1226, 1228, 1230, 1298, 1300, 1301, 1305, 1308, 1309, 1311, 1315, 1316, 1320, 1323, 1324, 1325, 1327, 1330, 1335, 1337, 1349, 1299, 1291, 1235, 1280, 1236, 1238, 1241, 1242, 1245, 1247, 1249, 1250, 1255, 1261, 1262, 1263, 1264, 1266, 1269, 1271, 1275, 1137, 1135, 1755, 1006, 986, 987, 992, 994, 999, 1001, 1002, 1005, 1008, 1133, 1010, 1011, 1013, 1014, 1023, 1025, 1029, 1030, 983, 979, 976, 974, 938, 940, 942, 943, 945, 946, 949, 950, 951, 953, 956, 964, 965, 966, 968, 972, 973, 1034, 1035, 1036, 1084, 1094, 1095, 1099, 1100, 1103, 1105, 1107, 1111, 1115, 1116, 1117, 1118, 1119, 1121, 1122, 1123, 1127, 1087, 1081, 1037, 1077, 1042, 1043, 1051, 1053, 1057, 1058, 1060, 1062, 1064, 1065, 1066, 1067, 1068, 1072, 1074, 1075, 1076, 1352, 1353, 1362, 1624, 1610, 1612, 1615, 1616, 1617, 1621, 1622, 1623, 1631, 1368, 1633, 1635, 1638, 1639, 1640, 1641, 1642, 1645, 1607, 1604, 1603, 1602, 1562, 1563, 1564, 1566, 1567, 1571, 1572, 1573, 1580, 1581, 1583, 1585, 1586, 1592, 1594, 1596, 1597, 1655, 1657, 1658, 1718, 1720, 1725, 1731, 1732, 1734, 1735, 1736, 1737, 1741, 1743, 1745, 1746, 1747, 1751, 1752, 1753, 1754, 1719, 1715, 1661, 1714, 1662, 1664, 1670, 1672, 1678, 1680, 1682, 1692, 1693, 1696, 1697, 1698, 1699, 1700, 1703, 1707, 1708, 1558, 1555, 1554, 1410, 1412, 1418, 1419, 1423, 1425, 1427, 1435, 1436, 1438, 1440, 1444, 1446, 1447, 1451, 1458, 1459, 1460, 1411, 1407, 1464, 1402, 1369, 1372, 1377, 1380, 1381, 1382, 1383, 1384, 1385, 1386, 1392, 1396, 1397, 1398, 1399, 1400, 1401, 1461, 1465, 1553, 1506, 1509, 1516, 1519, 1520, 1524, 1526, 1530, 1531, 1536, 1539, 1542, 1543, 1544, 1545, 1546, 1549, 1550, 1507, 1505, 1467, 1504, 1469, 1471, 1472, 1473, 1481, 1482, 1486, 1492, 1493, 1494, 1495, 1496, 1497, 1498, 1499, 1502, 1503, 1173]\n",
            "duplicate_throats                   []\n",
            "bidirectional_throats               []\n",
            "headless_throats                    []\n",
            "looped_throats                      []\n",
            "――――――――――――――――――――――――――――――――――――――――――――――――――――――――――――――――――――――――――――――\n",
            "――――――――――――――――――――――――――――――――――――――――――――――――――――――――――――――――――――――――――――――\n",
            "key                                 value\n",
            "――――――――――――――――――――――――――――――――――――――――――――――――――――――――――――――――――――――――――――――\n",
            "disconnected_clusters               []\n",
            "isolated_pores                      []\n",
            "trim_pores                          []\n",
            "duplicate_throats                   []\n",
            "bidirectional_throats               []\n",
            "headless_throats                    []\n",
            "looped_throats                      []\n",
            "――――――――――――――――――――――――――――――――――――――――――――――――――――――――――――――――――――――――――――――\n"
          ],
          "name": "stdout"
        }
      ]
    },
    {
      "cell_type": "markdown",
      "metadata": {
        "id": "CdelcaJrGrZ2",
        "colab_type": "text"
      },
      "source": [
        "## Adiciona ao modelo [geometria](https://openpnm.readthedocs.io/en/master/modules/models/geometry.html?highlight=op.models.geometry#module-openpnm.models.geometry) dos poros  \n",
        "   Este submódulo contém modelos em escala de poros que calculam propriedades geométricas\n"
      ]
    },
    {
      "cell_type": "code",
      "metadata": {
        "id": "A6KgQhWFQg_o",
        "colab_type": "code",
        "colab": {}
      },
      "source": [
        "\n",
        "# Adciona ao final das gargantas poros esfericos\n",
        "mod = op.models.geometry.throat_endpoints.spherical_pores\n",
        "pn.add_model(propname='throat.endpoints', model=mod)\n",
        "\n",
        "# Calcula os comprimentos dos conduítes. Um conduíte é definido como meio poro + garganta + meio poro.\n",
        "mod = op.models.geometry.throat_length.conduit_lengths\n",
        "pn.add_model(propname='throat.conduit_lengths', model=mod)\n",
        "\n",
        "# Calcula a área da superfície interna dos corpos de poros, assumindo que eles são esféricos, e subtrai a área das gargantas vizinhas.\n",
        "mod = op.models.geometry.pore_surface_area.sphere\n",
        "pn.add_model(propname='pore.area', model=mod)\n",
        "\n",
        "\n"
      ],
      "execution_count": 43,
      "outputs": []
    },
    {
      "cell_type": "markdown",
      "metadata": {
        "id": "_69F_809G46j",
        "colab_type": "text"
      },
      "source": [
        "## Nova geometria com poros e gargantas definidos"
      ]
    },
    {
      "cell_type": "code",
      "metadata": {
        "id": "YQFiHQ3J10qU",
        "colab_type": "code",
        "colab": {}
      },
      "source": [
        "geo = op.geometry.GenericGeometry(network=pn, pores=pn.Ps, throats=pn.Ts)\n"
      ],
      "execution_count": 44,
      "outputs": []
    },
    {
      "cell_type": "code",
      "metadata": {
        "id": "9dBc9O_I766A",
        "colab_type": "code",
        "colab": {
          "base_uri": "https://localhost:8080/",
          "height": 288
        },
        "outputId": "2a31cdb2-fe9b-4afa-d792-d35a0cde207c"
      },
      "source": [
        "geo.show_hist('pore.diameter')"
      ],
      "execution_count": 45,
      "outputs": [
        {
          "output_type": "display_data",
          "data": {
            "image/png": "[encoded data removed]",
            "text/plain": [
              "<Figure size 432x288 with 1 Axes>"
            ]
          },
          "metadata": {
            "tags": [],
            "needs_background": "light"
          }
        }
      ]
    },
    {
      "cell_type": "code",
      "metadata": {
        "id": "iucC67GcQkuV",
        "colab_type": "code",
        "colab": {
          "base_uri": "https://localhost:8080/",
          "height": 287
        },
        "outputId": "241c39b0-ab1e-44b9-8f9a-1d5ceb85b40a"
      },
      "source": [
        "geo.show_hist('throat.diameter')"
      ],
      "execution_count": 46,
      "outputs": [
        {
          "output_type": "display_data",
          "data": {
            "image/png": "[encoded data removed]",
            "text/plain": [
              "<Figure size 432x288 with 1 Axes>"
            ]
          },
          "metadata": {
            "tags": [],
            "needs_background": "light"
          }
        }
      ]
    },
    {
      "cell_type": "markdown",
      "metadata": {
        "id": "K93QJhEMHOtn",
        "colab_type": "text"
      },
      "source": [
        "## Plotagem 3D da rede"
      ]
    },
    {
      "cell_type": "code",
      "metadata": {
        "id": "NU5qvS4UG9ij",
        "colab_type": "code",
        "colab": {
          "base_uri": "https://localhost:8080/",
          "height": 575
        },
        "outputId": "febb41d9-42cc-4ba4-a96a-1af794f1cdf7"
      },
      "source": [
        "#NBVAL_IGNORE_OUTPUT\n",
        "fig = op.topotools.plot_connections(network=geo, c='black')\n",
        "fig.set_size_inches([10, 10])\n",
        "fig = op.topotools.plot_coordinates(network=geo, c='gray', fig=fig)"
      ],
      "execution_count": 47,
      "outputs": [
        {
          "output_type": "display_data",
          "data": {
            "image/png": "[encoded data removed]",
            "text/plain": [
              "<Figure size 720x720 with 1 Axes>"
            ]
          },
          "metadata": {
            "tags": [],
            "needs_background": "light"
          }
        }
      ]
    },
    {
      "cell_type": "markdown",
      "metadata": {
        "id": "8IDwiukKjtCD",
        "colab_type": "text"
      },
      "source": [
        "## Atributos [físicos](https://openpnm.readthedocs.io/en/master/modules/physics/index.html) e de [fase](https://openpnm.readthedocs.io/en/master/modules/phases/index.html) do modelo\n",
        "\n",
        "O OpenPNM inclui algumas subclasses de Fase que contêm um conjunto de modelos pré-configurados que prevêem as propriedades termofísicas de certas fases comuns.\n",
        "\n",
        "1. Água - A maioria dos modelos inclui o impacto da salinidade\n",
        "2. Ar - Uma mistura de O2 e N2, mas sem umidade\n",
        "3. Mercúrio -  Útil para simulações de porosimetria, assumindo que teta é 140\n"
      ]
    },
    {
      "cell_type": "code",
      "metadata": {
        "id": "jeHXYvsMQpcQ",
        "colab_type": "code",
        "colab": {}
      },
      "source": [
        "mercurio = op.phases.Mercury(network=pn) # cria fase de mercurio (geralmente usado em experimentos de porosimetria)"
      ],
      "execution_count": 48,
      "outputs": []
    },
    {
      "cell_type": "code",
      "metadata": {
        "id": "9CnaPQOmQuzA",
        "colab_type": "code",
        "colab": {}
      },
      "source": [
        "phys_mercurio = op.physics.Standard(network=pn, phase=mercurio, geometry=geo) #atribui a física do modelo\n",
        "\n",
        "mod = op.models.physics.hydraulic_conductance.hagen_poiseuille\n",
        "phys_mercurio.add_model(propname='throat.hydraulic_conductance', model=mod)"
      ],
      "execution_count": 49,
      "outputs": []
    },
    {
      "cell_type": "markdown",
      "metadata": {
        "id": "2E92OTC1kOPV",
        "colab_type": "text"
      },
      "source": [
        "# Modelo de estimativa da permeabilide "
      ]
    },
    {
      "cell_type": "code",
      "metadata": {
        "id": "Bgdk51v3QyFO",
        "colab_type": "code",
        "colab": {
          "base_uri": "https://localhost:8080/",
          "height": 495
        },
        "outputId": "448b3038-ffad-4ba3-e3f5-3bcbd64e3fff"
      },
      "source": [
        "# Algoritmo de simulação\n",
        "perm = op.algorithms.StokesFlow(network=pn, project=proj)\n",
        "perm.setup(phase=mercurio)\n",
        "\n",
        "# Condições de contorno\n",
        "pTop = 10\n",
        "pBottom = 0\n",
        "\n",
        "perm.set_value_BC(pores=pn.pores('top'), values=pTop) # pressão no top\n",
        "perm.set_value_BC(pores=pn.pores('bottom'), values=pBottom) # pressão na base\n",
        "\n",
        "perm.set_rate_BC(pores=pn.pores('left'), values=pBottom) # pressão na esquerda\n",
        "perm.set_rate_BC(pores=pn.pores('right'), values=pBottom) # pressão na direita\n",
        "\n",
        "perm.set_rate_BC(pores=pn.pores('front'), values=pBottom) # pressão no frente\n",
        "perm.set_rate_BC(pores=pn.pores('back'), values=pBottom) # pressão na atrás\n",
        "\n",
        "perm.run()\n",
        "mercurio.update(perm.results())"
      ],
      "execution_count": 50,
      "outputs": [
        {
          "output_type": "error",
          "ename": "ModuleNotFoundError",
          "evalue": "ignored",
          "traceback": [
            "\u001b[0;31m---------------------------------------------------------------------------\u001b[0m",
            "\u001b[0;31mModuleNotFoundError\u001b[0m                       Traceback (most recent call last)",
            "\u001b[0;32m<ipython-input-50-ace4bd088940>\u001b[0m in \u001b[0;36m<module>\u001b[0;34m()\u001b[0m\n\u001b[1;32m     16\u001b[0m \u001b[0mperm\u001b[0m\u001b[0;34m.\u001b[0m\u001b[0mset_rate_BC\u001b[0m\u001b[0;34m(\u001b[0m\u001b[0mpores\u001b[0m\u001b[0;34m=\u001b[0m\u001b[0mpn\u001b[0m\u001b[0;34m.\u001b[0m\u001b[0mpores\u001b[0m\u001b[0;34m(\u001b[0m\u001b[0;34m'back'\u001b[0m\u001b[0;34m)\u001b[0m\u001b[0;34m,\u001b[0m \u001b[0mvalues\u001b[0m\u001b[0;34m=\u001b[0m\u001b[0mpBottom\u001b[0m\u001b[0;34m)\u001b[0m \u001b[0;31m# pressão na atrás\u001b[0m\u001b[0;34m\u001b[0m\u001b[0;34m\u001b[0m\u001b[0m\n\u001b[1;32m     17\u001b[0m \u001b[0;34m\u001b[0m\u001b[0m\n\u001b[0;32m---> 18\u001b[0;31m \u001b[0mperm\u001b[0m\u001b[0;34m.\u001b[0m\u001b[0mrun\u001b[0m\u001b[0;34m(\u001b[0m\u001b[0;34m)\u001b[0m\u001b[0;34m\u001b[0m\u001b[0;34m\u001b[0m\u001b[0m\n\u001b[0m\u001b[1;32m     19\u001b[0m \u001b[0mmercurio\u001b[0m\u001b[0;34m.\u001b[0m\u001b[0mupdate\u001b[0m\u001b[0;34m(\u001b[0m\u001b[0mperm\u001b[0m\u001b[0;34m.\u001b[0m\u001b[0mresults\u001b[0m\u001b[0;34m(\u001b[0m\u001b[0;34m)\u001b[0m\u001b[0;34m)\u001b[0m\u001b[0;34m\u001b[0m\u001b[0;34m\u001b[0m\u001b[0m\n",
            "\u001b[0;32m/usr/local/lib/python3.6/dist-packages/openpnm/algorithms/ReactiveTransport.py\u001b[0m in \u001b[0;36mrun\u001b[0;34m(self, x0)\u001b[0m\n\u001b[1;32m    156\u001b[0m         \u001b[0mlogger\u001b[0m\u001b[0;34m.\u001b[0m\u001b[0minfo\u001b[0m\u001b[0;34m(\u001b[0m\u001b[0;34m'Running ReactiveTransport'\u001b[0m\u001b[0;34m)\u001b[0m\u001b[0;34m\u001b[0m\u001b[0;34m\u001b[0m\u001b[0m\n\u001b[1;32m    157\u001b[0m         \u001b[0mx0\u001b[0m \u001b[0;34m=\u001b[0m \u001b[0mnp\u001b[0m\u001b[0;34m.\u001b[0m\u001b[0mzeros\u001b[0m\u001b[0;34m(\u001b[0m\u001b[0mself\u001b[0m\u001b[0;34m.\u001b[0m\u001b[0mNp\u001b[0m\u001b[0;34m,\u001b[0m \u001b[0mdtype\u001b[0m\u001b[0;34m=\u001b[0m\u001b[0mfloat\u001b[0m\u001b[0;34m)\u001b[0m \u001b[0;32mif\u001b[0m \u001b[0mx0\u001b[0m \u001b[0;32mis\u001b[0m \u001b[0;32mNone\u001b[0m \u001b[0;32melse\u001b[0m \u001b[0mx0\u001b[0m\u001b[0;34m\u001b[0m\u001b[0;34m\u001b[0m\u001b[0m\n\u001b[0;32m--> 158\u001b[0;31m         \u001b[0mx\u001b[0m \u001b[0;34m=\u001b[0m \u001b[0mself\u001b[0m\u001b[0;34m.\u001b[0m\u001b[0m_run_reactive\u001b[0m\u001b[0;34m(\u001b[0m\u001b[0mx0\u001b[0m\u001b[0;34m)\u001b[0m\u001b[0;34m\u001b[0m\u001b[0;34m\u001b[0m\u001b[0m\n\u001b[0m\u001b[1;32m    159\u001b[0m         \u001b[0mself\u001b[0m\u001b[0;34m[\u001b[0m\u001b[0mquantity\u001b[0m\u001b[0;34m]\u001b[0m \u001b[0;34m=\u001b[0m \u001b[0mx\u001b[0m\u001b[0;34m\u001b[0m\u001b[0;34m\u001b[0m\u001b[0m\n\u001b[1;32m    160\u001b[0m \u001b[0;34m\u001b[0m\u001b[0m\n",
            "\u001b[0;32m/usr/local/lib/python3.6/dist-packages/openpnm/algorithms/ReactiveTransport.py\u001b[0m in \u001b[0;36m_run_reactive\u001b[0;34m(self, x0)\u001b[0m\n\u001b[1;32m    350\u001b[0m             \u001b[0mlogger\u001b[0m\u001b[0;34m.\u001b[0m\u001b[0minfo\u001b[0m\u001b[0;34m(\u001b[0m\u001b[0;34mf'Tolerance not met: {res:.4e}'\u001b[0m\u001b[0;34m)\u001b[0m\u001b[0;34m\u001b[0m\u001b[0;34m\u001b[0m\u001b[0m\n\u001b[1;32m    351\u001b[0m             \u001b[0;31m# Solve, use relaxation, and update solution on algorithm obj\u001b[0m\u001b[0;34m\u001b[0m\u001b[0;34m\u001b[0m\u001b[0;34m\u001b[0m\u001b[0m\n\u001b[0;32m--> 352\u001b[0;31m             \u001b[0mself\u001b[0m\u001b[0;34m[\u001b[0m\u001b[0mquantity\u001b[0m\u001b[0;34m]\u001b[0m \u001b[0;34m=\u001b[0m \u001b[0mx\u001b[0m \u001b[0;34m=\u001b[0m \u001b[0mself\u001b[0m\u001b[0;34m.\u001b[0m\u001b[0m_solve\u001b[0m\u001b[0;34m(\u001b[0m\u001b[0mx0\u001b[0m\u001b[0;34m=\u001b[0m\u001b[0mx\u001b[0m\u001b[0;34m)\u001b[0m \u001b[0;34m*\u001b[0m \u001b[0mw\u001b[0m \u001b[0;34m+\u001b[0m \u001b[0mx\u001b[0m \u001b[0;34m*\u001b[0m \u001b[0;34m(\u001b[0m\u001b[0;36m1\u001b[0m \u001b[0;34m-\u001b[0m \u001b[0mw\u001b[0m\u001b[0;34m)\u001b[0m\u001b[0;34m\u001b[0m\u001b[0;34m\u001b[0m\u001b[0m\n\u001b[0m\u001b[1;32m    353\u001b[0m \u001b[0;34m\u001b[0m\u001b[0m\n\u001b[1;32m    354\u001b[0m         \u001b[0;31m# Check solution convergence after max_it iterations\u001b[0m\u001b[0;34m\u001b[0m\u001b[0;34m\u001b[0m\u001b[0;34m\u001b[0m\u001b[0m\n",
            "\u001b[0;32m/usr/local/lib/python3.6/dist-packages/openpnm/algorithms/GenericTransport.py\u001b[0m in \u001b[0;36m_solve\u001b[0;34m(self, A, b, x0)\u001b[0m\n\u001b[1;32m    589\u001b[0m         \u001b[0;31m# Fetch solver object based on settings dict.\u001b[0m\u001b[0;34m\u001b[0m\u001b[0;34m\u001b[0m\u001b[0;34m\u001b[0m\u001b[0m\n\u001b[1;32m    590\u001b[0m         \u001b[0msolver\u001b[0m \u001b[0;34m=\u001b[0m \u001b[0mself\u001b[0m\u001b[0;34m.\u001b[0m\u001b[0m_get_solver\u001b[0m\u001b[0;34m(\u001b[0m\u001b[0;34m)\u001b[0m\u001b[0;34m\u001b[0m\u001b[0;34m\u001b[0m\u001b[0m\n\u001b[0;32m--> 591\u001b[0;31m         \u001b[0mx\u001b[0m \u001b[0;34m=\u001b[0m \u001b[0msolver\u001b[0m\u001b[0;34m(\u001b[0m\u001b[0mA\u001b[0m\u001b[0;34m,\u001b[0m \u001b[0mb\u001b[0m\u001b[0;34m,\u001b[0m \u001b[0matol\u001b[0m\u001b[0;34m=\u001b[0m\u001b[0matol\u001b[0m\u001b[0;34m,\u001b[0m \u001b[0mrtol\u001b[0m\u001b[0;34m=\u001b[0m\u001b[0mrtol\u001b[0m\u001b[0;34m,\u001b[0m \u001b[0mmax_it\u001b[0m\u001b[0;34m=\u001b[0m\u001b[0mmax_it\u001b[0m\u001b[0;34m,\u001b[0m \u001b[0mx0\u001b[0m\u001b[0;34m=\u001b[0m\u001b[0mx0\u001b[0m\u001b[0;34m)\u001b[0m\u001b[0;34m\u001b[0m\u001b[0;34m\u001b[0m\u001b[0m\n\u001b[0m\u001b[1;32m    592\u001b[0m \u001b[0;34m\u001b[0m\u001b[0m\n\u001b[1;32m    593\u001b[0m         \u001b[0;31m# Check solution convergence\u001b[0m\u001b[0;34m\u001b[0m\u001b[0;34m\u001b[0m\u001b[0;34m\u001b[0m\u001b[0m\n",
            "\u001b[0;32m/usr/local/lib/python3.6/dist-packages/openpnm/algorithms/GenericTransport.py\u001b[0m in \u001b[0;36msolver\u001b[0;34m(A, b, **kwargs)\u001b[0m\n\u001b[1;32m    647\u001b[0m                 \u001b[0mWrapper\u001b[0m \u001b[0mmethod\u001b[0m \u001b[0;32mfor\u001b[0m \u001b[0mPyPardiso\u001b[0m \u001b[0msparse\u001b[0m \u001b[0mlinear\u001b[0m \u001b[0msolver\u001b[0m\u001b[0;34m.\u001b[0m\u001b[0;34m\u001b[0m\u001b[0;34m\u001b[0m\u001b[0m\n\u001b[1;32m    648\u001b[0m                 \"\"\"\n\u001b[0;32m--> 649\u001b[0;31m                 \u001b[0;32mimport\u001b[0m \u001b[0mpypardiso\u001b[0m\u001b[0;34m\u001b[0m\u001b[0;34m\u001b[0m\u001b[0m\n\u001b[0m\u001b[1;32m    650\u001b[0m                 \u001b[0mx\u001b[0m \u001b[0;34m=\u001b[0m \u001b[0mpypardiso\u001b[0m\u001b[0;34m.\u001b[0m\u001b[0mspsolve\u001b[0m\u001b[0;34m(\u001b[0m\u001b[0mA\u001b[0m\u001b[0;34m=\u001b[0m\u001b[0mA\u001b[0m\u001b[0;34m,\u001b[0m \u001b[0mb\u001b[0m\u001b[0;34m=\u001b[0m\u001b[0mb\u001b[0m\u001b[0;34m)\u001b[0m\u001b[0;34m\u001b[0m\u001b[0;34m\u001b[0m\u001b[0m\n\u001b[1;32m    651\u001b[0m                 \u001b[0;32mreturn\u001b[0m \u001b[0mx\u001b[0m\u001b[0;34m\u001b[0m\u001b[0;34m\u001b[0m\u001b[0m\n",
            "\u001b[0;31mModuleNotFoundError\u001b[0m: No module named 'pypardiso'",
            "",
            "\u001b[0;31m---------------------------------------------------------------------------\u001b[0;32m\nNOTE: If your import is failing due to a missing package, you can\nmanually install dependencies using either !pip or !apt.\n\nTo view examples of installing some common dependencies, click the\n\"Open Examples\" button below.\n\u001b[0;31m---------------------------------------------------------------------------\u001b[0m\n"
          ]
        }
      ]
    },
    {
      "cell_type": "code",
      "metadata": {
        "id": "UC_St3clQ2CZ",
        "colab_type": "code",
        "colab": {}
      },
      "source": [
        "# CÁLCULO DA PERMEABILIDADE POR DARCY\n",
        "\n",
        "Q = perm.rate(pores=pn.pores('bottom'), mode='group')\n",
        "\n",
        "A = (im.shape[0] * im.shape[1]) * resolution**2\n",
        "L = im.shape[2] * resolution\n",
        "mu = mercurio['pore.viscosity'].max()\n",
        "\n",
        "delta_P = pBottom - pTop\n",
        "K = Q * L * mu / (A * delta_P)\n",
        "print('The value of K is:', K/0.98e-12*1000, 'mD')\n",
        "#print('The value of Ks is:', K*9.813*1000/(1.004*10**-6), 'mm/s')"
      ],
      "execution_count": null,
      "outputs": []
    },
    {
      "cell_type": "markdown",
      "metadata": {
        "id": "fQLolPx2reux",
        "colab_type": "text"
      },
      "source": [
        "Exportação para a leitura no [ParaView](https://kitware.github.io/paraview-glance/app/) "
      ]
    },
    {
      "cell_type": "code",
      "metadata": {
        "id": "JTAt0XuQx5rB",
        "colab_type": "code",
        "colab": {}
      },
      "source": [
        "proj.export_data(phases=[mercurio], filename ='drive/My Drive/PDI/'+ file_name, filetype='vtk') "
      ],
      "execution_count": null,
      "outputs": []
    },
    {
      "cell_type": "code",
      "metadata": {
        "id": "lLrWHeTSp9ha",
        "colab_type": "code",
        "colab": {}
      },
      "source": [
        "op.io.VTK.save(network=geo, phases=mercurio,filename='test_file2')"
      ],
      "execution_count": null,
      "outputs": []
    }
  ]
}